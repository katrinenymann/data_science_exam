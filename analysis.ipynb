{
 "cells": [
  {
   "cell_type": "markdown",
   "metadata": {},
   "source": [
    "# Data Analysis\n",
    "### Predictive modelling of stroke occurences"
   ]
  },
  {
   "cell_type": "markdown",
   "metadata": {},
   "source": [
    "Import libraries"
   ]
  },
  {
   "cell_type": "code",
   "execution_count": 65,
   "metadata": {},
   "outputs": [],
   "source": [
    "import pandas as pd\n",
    "from utils import DataLoader\n",
    "import matplotlib.pyplot as plt\n",
    "import seaborn as sns\n",
    "import numpy as np\n",
    "from sklearn.ensemble import RandomForestClassifier\n",
    "from sklearn.metrics import f1_score, accuracy_score"
   ]
  },
  {
   "cell_type": "markdown",
   "metadata": {},
   "source": [
    "Load data"
   ]
  },
  {
   "cell_type": "code",
   "execution_count": 66,
   "metadata": {},
   "outputs": [],
   "source": [
    "data_loader = DataLoader(\"healthcare-dataset-stroke-data.csv\")\n",
    "data_loader.load_dataset()"
   ]
  },
  {
   "cell_type": "markdown",
   "metadata": {},
   "source": [
    "# Preprocess data\n",
    "- Using the preprocessing pipeline from Utils based on the findings from the data exploration \n",
    "- Oversample to account for the imbalance in the data set"
   ]
  },
  {
   "cell_type": "code",
   "execution_count": 67,
   "metadata": {},
   "outputs": [
    {
     "name": "stdout",
     "output_type": "stream",
     "text": [
      "(2682, 20)\n",
      "(1533, 20)\n",
      "After oversampling: (5142, 20)\n"
     ]
    }
   ],
   "source": [
    "data_loader.preprocess_data()\n",
    "# Split the data for testing and training\n",
    "X_train, X_test, y_train, y_test, X_val, y_val = data_loader.get_data_split()\n",
    "print(X_train.shape)\n",
    "print(X_test.shape)\n",
    "\n",
    "# Oversample the train data \n",
    "X_train, y_train = data_loader.oversample(X_train, y_train)\n",
    "print(\"After oversampling:\", X_train.shape)"
   ]
  },
  {
   "cell_type": "code",
   "execution_count": 68,
   "metadata": {},
   "outputs": [
    {
     "data": {
      "text/html": [
       "<div>\n",
       "<style scoped>\n",
       "    .dataframe tbody tr th:only-of-type {\n",
       "        vertical-align: middle;\n",
       "    }\n",
       "\n",
       "    .dataframe tbody tr th {\n",
       "        vertical-align: top;\n",
       "    }\n",
       "\n",
       "    .dataframe thead th {\n",
       "        text-align: right;\n",
       "    }\n",
       "</style>\n",
       "<table border=\"1\" class=\"dataframe\">\n",
       "  <thead>\n",
       "    <tr style=\"text-align: right;\">\n",
       "      <th></th>\n",
       "      <th>gender_Female</th>\n",
       "      <th>gender_Male</th>\n",
       "      <th>ever_married_No</th>\n",
       "      <th>ever_married_Yes</th>\n",
       "      <th>work_type_Govt_job</th>\n",
       "      <th>work_type_Never_worked</th>\n",
       "      <th>work_type_Private</th>\n",
       "      <th>work_type_Self-employed</th>\n",
       "      <th>work_type_children</th>\n",
       "      <th>Residence_type_Rural</th>\n",
       "      <th>Residence_type_Urban</th>\n",
       "      <th>smoking_status_Unknown</th>\n",
       "      <th>smoking_status_formerly smoked</th>\n",
       "      <th>smoking_status_never smoked</th>\n",
       "      <th>smoking_status_smokes</th>\n",
       "      <th>age</th>\n",
       "      <th>hypertension</th>\n",
       "      <th>heart_disease</th>\n",
       "      <th>avg_glucose_level</th>\n",
       "      <th>bmi</th>\n",
       "    </tr>\n",
       "  </thead>\n",
       "  <tbody>\n",
       "    <tr>\n",
       "      <th>0</th>\n",
       "      <td>1.0</td>\n",
       "      <td>0.0</td>\n",
       "      <td>0.0</td>\n",
       "      <td>1.0</td>\n",
       "      <td>0.0</td>\n",
       "      <td>0.0</td>\n",
       "      <td>1.0</td>\n",
       "      <td>0.0</td>\n",
       "      <td>0.0</td>\n",
       "      <td>1.0</td>\n",
       "      <td>0.0</td>\n",
       "      <td>0.0</td>\n",
       "      <td>0.0</td>\n",
       "      <td>1.0</td>\n",
       "      <td>0.0</td>\n",
       "      <td>43.0</td>\n",
       "      <td>0.0</td>\n",
       "      <td>0.0</td>\n",
       "      <td>107.43</td>\n",
       "      <td>26.5</td>\n",
       "    </tr>\n",
       "    <tr>\n",
       "      <th>1</th>\n",
       "      <td>1.0</td>\n",
       "      <td>0.0</td>\n",
       "      <td>0.0</td>\n",
       "      <td>1.0</td>\n",
       "      <td>0.0</td>\n",
       "      <td>0.0</td>\n",
       "      <td>1.0</td>\n",
       "      <td>0.0</td>\n",
       "      <td>0.0</td>\n",
       "      <td>1.0</td>\n",
       "      <td>0.0</td>\n",
       "      <td>1.0</td>\n",
       "      <td>0.0</td>\n",
       "      <td>0.0</td>\n",
       "      <td>0.0</td>\n",
       "      <td>50.0</td>\n",
       "      <td>0.0</td>\n",
       "      <td>0.0</td>\n",
       "      <td>82.10</td>\n",
       "      <td>26.4</td>\n",
       "    </tr>\n",
       "    <tr>\n",
       "      <th>2</th>\n",
       "      <td>1.0</td>\n",
       "      <td>0.0</td>\n",
       "      <td>1.0</td>\n",
       "      <td>0.0</td>\n",
       "      <td>1.0</td>\n",
       "      <td>0.0</td>\n",
       "      <td>0.0</td>\n",
       "      <td>0.0</td>\n",
       "      <td>0.0</td>\n",
       "      <td>1.0</td>\n",
       "      <td>0.0</td>\n",
       "      <td>0.0</td>\n",
       "      <td>0.0</td>\n",
       "      <td>0.0</td>\n",
       "      <td>1.0</td>\n",
       "      <td>64.0</td>\n",
       "      <td>0.0</td>\n",
       "      <td>0.0</td>\n",
       "      <td>81.60</td>\n",
       "      <td>36.3</td>\n",
       "    </tr>\n",
       "    <tr>\n",
       "      <th>3</th>\n",
       "      <td>1.0</td>\n",
       "      <td>0.0</td>\n",
       "      <td>0.0</td>\n",
       "      <td>1.0</td>\n",
       "      <td>0.0</td>\n",
       "      <td>0.0</td>\n",
       "      <td>1.0</td>\n",
       "      <td>0.0</td>\n",
       "      <td>0.0</td>\n",
       "      <td>1.0</td>\n",
       "      <td>0.0</td>\n",
       "      <td>0.0</td>\n",
       "      <td>0.0</td>\n",
       "      <td>1.0</td>\n",
       "      <td>0.0</td>\n",
       "      <td>29.0</td>\n",
       "      <td>0.0</td>\n",
       "      <td>0.0</td>\n",
       "      <td>62.48</td>\n",
       "      <td>29.5</td>\n",
       "    </tr>\n",
       "    <tr>\n",
       "      <th>4</th>\n",
       "      <td>0.0</td>\n",
       "      <td>1.0</td>\n",
       "      <td>0.0</td>\n",
       "      <td>1.0</td>\n",
       "      <td>0.0</td>\n",
       "      <td>0.0</td>\n",
       "      <td>1.0</td>\n",
       "      <td>0.0</td>\n",
       "      <td>0.0</td>\n",
       "      <td>1.0</td>\n",
       "      <td>0.0</td>\n",
       "      <td>0.0</td>\n",
       "      <td>0.0</td>\n",
       "      <td>1.0</td>\n",
       "      <td>0.0</td>\n",
       "      <td>63.0</td>\n",
       "      <td>0.0</td>\n",
       "      <td>0.0</td>\n",
       "      <td>98.46</td>\n",
       "      <td>30.6</td>\n",
       "    </tr>\n",
       "    <tr>\n",
       "      <th>...</th>\n",
       "      <td>...</td>\n",
       "      <td>...</td>\n",
       "      <td>...</td>\n",
       "      <td>...</td>\n",
       "      <td>...</td>\n",
       "      <td>...</td>\n",
       "      <td>...</td>\n",
       "      <td>...</td>\n",
       "      <td>...</td>\n",
       "      <td>...</td>\n",
       "      <td>...</td>\n",
       "      <td>...</td>\n",
       "      <td>...</td>\n",
       "      <td>...</td>\n",
       "      <td>...</td>\n",
       "      <td>...</td>\n",
       "      <td>...</td>\n",
       "      <td>...</td>\n",
       "      <td>...</td>\n",
       "      <td>...</td>\n",
       "    </tr>\n",
       "    <tr>\n",
       "      <th>5137</th>\n",
       "      <td>0.0</td>\n",
       "      <td>1.0</td>\n",
       "      <td>0.0</td>\n",
       "      <td>1.0</td>\n",
       "      <td>0.0</td>\n",
       "      <td>0.0</td>\n",
       "      <td>1.0</td>\n",
       "      <td>0.0</td>\n",
       "      <td>0.0</td>\n",
       "      <td>0.0</td>\n",
       "      <td>1.0</td>\n",
       "      <td>0.0</td>\n",
       "      <td>0.0</td>\n",
       "      <td>1.0</td>\n",
       "      <td>0.0</td>\n",
       "      <td>80.0</td>\n",
       "      <td>1.0</td>\n",
       "      <td>0.0</td>\n",
       "      <td>240.09</td>\n",
       "      <td>27.0</td>\n",
       "    </tr>\n",
       "    <tr>\n",
       "      <th>5138</th>\n",
       "      <td>1.0</td>\n",
       "      <td>0.0</td>\n",
       "      <td>0.0</td>\n",
       "      <td>1.0</td>\n",
       "      <td>0.0</td>\n",
       "      <td>0.0</td>\n",
       "      <td>1.0</td>\n",
       "      <td>0.0</td>\n",
       "      <td>0.0</td>\n",
       "      <td>0.0</td>\n",
       "      <td>1.0</td>\n",
       "      <td>1.0</td>\n",
       "      <td>0.0</td>\n",
       "      <td>0.0</td>\n",
       "      <td>0.0</td>\n",
       "      <td>57.0</td>\n",
       "      <td>0.0</td>\n",
       "      <td>1.0</td>\n",
       "      <td>216.58</td>\n",
       "      <td>31.0</td>\n",
       "    </tr>\n",
       "    <tr>\n",
       "      <th>5139</th>\n",
       "      <td>1.0</td>\n",
       "      <td>0.0</td>\n",
       "      <td>1.0</td>\n",
       "      <td>0.0</td>\n",
       "      <td>0.0</td>\n",
       "      <td>0.0</td>\n",
       "      <td>1.0</td>\n",
       "      <td>0.0</td>\n",
       "      <td>0.0</td>\n",
       "      <td>1.0</td>\n",
       "      <td>0.0</td>\n",
       "      <td>0.0</td>\n",
       "      <td>1.0</td>\n",
       "      <td>0.0</td>\n",
       "      <td>0.0</td>\n",
       "      <td>82.0</td>\n",
       "      <td>1.0</td>\n",
       "      <td>1.0</td>\n",
       "      <td>84.03</td>\n",
       "      <td>26.5</td>\n",
       "    </tr>\n",
       "    <tr>\n",
       "      <th>5140</th>\n",
       "      <td>1.0</td>\n",
       "      <td>0.0</td>\n",
       "      <td>0.0</td>\n",
       "      <td>1.0</td>\n",
       "      <td>1.0</td>\n",
       "      <td>0.0</td>\n",
       "      <td>0.0</td>\n",
       "      <td>0.0</td>\n",
       "      <td>0.0</td>\n",
       "      <td>0.0</td>\n",
       "      <td>1.0</td>\n",
       "      <td>0.0</td>\n",
       "      <td>0.0</td>\n",
       "      <td>1.0</td>\n",
       "      <td>0.0</td>\n",
       "      <td>63.0</td>\n",
       "      <td>0.0</td>\n",
       "      <td>0.0</td>\n",
       "      <td>197.54</td>\n",
       "      <td>28.1</td>\n",
       "    </tr>\n",
       "    <tr>\n",
       "      <th>5141</th>\n",
       "      <td>0.0</td>\n",
       "      <td>1.0</td>\n",
       "      <td>0.0</td>\n",
       "      <td>1.0</td>\n",
       "      <td>0.0</td>\n",
       "      <td>0.0</td>\n",
       "      <td>1.0</td>\n",
       "      <td>0.0</td>\n",
       "      <td>0.0</td>\n",
       "      <td>0.0</td>\n",
       "      <td>1.0</td>\n",
       "      <td>0.0</td>\n",
       "      <td>0.0</td>\n",
       "      <td>1.0</td>\n",
       "      <td>0.0</td>\n",
       "      <td>81.0</td>\n",
       "      <td>0.0</td>\n",
       "      <td>0.0</td>\n",
       "      <td>72.81</td>\n",
       "      <td>26.3</td>\n",
       "    </tr>\n",
       "  </tbody>\n",
       "</table>\n",
       "<p>5142 rows × 20 columns</p>\n",
       "</div>"
      ],
      "text/plain": [
       "      gender_Female  gender_Male  ever_married_No  ever_married_Yes  \\\n",
       "0               1.0          0.0              0.0               1.0   \n",
       "1               1.0          0.0              0.0               1.0   \n",
       "2               1.0          0.0              1.0               0.0   \n",
       "3               1.0          0.0              0.0               1.0   \n",
       "4               0.0          1.0              0.0               1.0   \n",
       "...             ...          ...              ...               ...   \n",
       "5137            0.0          1.0              0.0               1.0   \n",
       "5138            1.0          0.0              0.0               1.0   \n",
       "5139            1.0          0.0              1.0               0.0   \n",
       "5140            1.0          0.0              0.0               1.0   \n",
       "5141            0.0          1.0              0.0               1.0   \n",
       "\n",
       "      work_type_Govt_job  work_type_Never_worked  work_type_Private  \\\n",
       "0                    0.0                     0.0                1.0   \n",
       "1                    0.0                     0.0                1.0   \n",
       "2                    1.0                     0.0                0.0   \n",
       "3                    0.0                     0.0                1.0   \n",
       "4                    0.0                     0.0                1.0   \n",
       "...                  ...                     ...                ...   \n",
       "5137                 0.0                     0.0                1.0   \n",
       "5138                 0.0                     0.0                1.0   \n",
       "5139                 0.0                     0.0                1.0   \n",
       "5140                 1.0                     0.0                0.0   \n",
       "5141                 0.0                     0.0                1.0   \n",
       "\n",
       "      work_type_Self-employed  work_type_children  Residence_type_Rural  \\\n",
       "0                         0.0                 0.0                   1.0   \n",
       "1                         0.0                 0.0                   1.0   \n",
       "2                         0.0                 0.0                   1.0   \n",
       "3                         0.0                 0.0                   1.0   \n",
       "4                         0.0                 0.0                   1.0   \n",
       "...                       ...                 ...                   ...   \n",
       "5137                      0.0                 0.0                   0.0   \n",
       "5138                      0.0                 0.0                   0.0   \n",
       "5139                      0.0                 0.0                   1.0   \n",
       "5140                      0.0                 0.0                   0.0   \n",
       "5141                      0.0                 0.0                   0.0   \n",
       "\n",
       "      Residence_type_Urban  smoking_status_Unknown  \\\n",
       "0                      0.0                     0.0   \n",
       "1                      0.0                     1.0   \n",
       "2                      0.0                     0.0   \n",
       "3                      0.0                     0.0   \n",
       "4                      0.0                     0.0   \n",
       "...                    ...                     ...   \n",
       "5137                   1.0                     0.0   \n",
       "5138                   1.0                     1.0   \n",
       "5139                   0.0                     0.0   \n",
       "5140                   1.0                     0.0   \n",
       "5141                   1.0                     0.0   \n",
       "\n",
       "      smoking_status_formerly smoked  smoking_status_never smoked  \\\n",
       "0                                0.0                          1.0   \n",
       "1                                0.0                          0.0   \n",
       "2                                0.0                          0.0   \n",
       "3                                0.0                          1.0   \n",
       "4                                0.0                          1.0   \n",
       "...                              ...                          ...   \n",
       "5137                             0.0                          1.0   \n",
       "5138                             0.0                          0.0   \n",
       "5139                             1.0                          0.0   \n",
       "5140                             0.0                          1.0   \n",
       "5141                             0.0                          1.0   \n",
       "\n",
       "      smoking_status_smokes   age  hypertension  heart_disease  \\\n",
       "0                       0.0  43.0           0.0            0.0   \n",
       "1                       0.0  50.0           0.0            0.0   \n",
       "2                       1.0  64.0           0.0            0.0   \n",
       "3                       0.0  29.0           0.0            0.0   \n",
       "4                       0.0  63.0           0.0            0.0   \n",
       "...                     ...   ...           ...            ...   \n",
       "5137                    0.0  80.0           1.0            0.0   \n",
       "5138                    0.0  57.0           0.0            1.0   \n",
       "5139                    0.0  82.0           1.0            1.0   \n",
       "5140                    0.0  63.0           0.0            0.0   \n",
       "5141                    0.0  81.0           0.0            0.0   \n",
       "\n",
       "      avg_glucose_level   bmi  \n",
       "0                107.43  26.5  \n",
       "1                 82.10  26.4  \n",
       "2                 81.60  36.3  \n",
       "3                 62.48  29.5  \n",
       "4                 98.46  30.6  \n",
       "...                 ...   ...  \n",
       "5137             240.09  27.0  \n",
       "5138             216.58  31.0  \n",
       "5139              84.03  26.5  \n",
       "5140             197.54  28.1  \n",
       "5141              72.81  26.3  \n",
       "\n",
       "[5142 rows x 20 columns]"
      ]
     },
     "execution_count": 68,
     "metadata": {},
     "output_type": "execute_result"
    }
   ],
   "source": [
    "X_train"
   ]
  },
  {
   "cell_type": "markdown",
   "metadata": {},
   "source": [
    "## Fit models\n",
    "- ANN\n",
    "- Random Forest\n",
    "- XGBoost"
   ]
  },
  {
   "cell_type": "markdown",
   "metadata": {},
   "source": [
    "### ANN"
   ]
  },
  {
   "cell_type": "code",
   "execution_count": 69,
   "metadata": {},
   "outputs": [],
   "source": [
    "#Scale and Fit the data\n",
    "# Scaling is needed which it is not for random forest or XGBoost\n",
    "from sklearn.preprocessing import MinMaxScaler\n",
    "scaler = MinMaxScaler()\n",
    "X_train = scaler.fit_transform(X_train)\n",
    "X_test = scaler.transform(X_test)"
   ]
  },
  {
   "cell_type": "code",
   "execution_count": 89,
   "metadata": {},
   "outputs": [],
   "source": [
    "import tensorflow as tf\n",
    "from tensorflow.keras.models import Sequential\n",
    "from tensorflow.keras.layers import Dense, Activation,Dropout\n",
    "from tensorflow.keras.callbacks import EarlyStopping, ModelCheckpoint"
   ]
  },
  {
   "cell_type": "code",
   "execution_count": 177,
   "metadata": {},
   "outputs": [],
   "source": [
    "#ANN MODEL\n",
    "model = Sequential()\n",
    "\n",
    "model.add(Dense(units = 12, activation = 'relu'))\n",
    "model.add(Dropout(.5))\n",
    "model.add(Dense(units = 6, activation = 'relu'))\n",
    "model.add(Dropout(.5))\n",
    "#model.add(Dense(units = 5, activation = 'relu'))\n",
    "#model.add(Dropout(.4))\n",
    "model.add(Dense(units = 1, activation = 'sigmoid'))\n",
    "\n",
    "model.compile(loss = 'binary_crossentropy', optimizer = 'SGD', metrics = 'accuracy')"
   ]
  },
  {
   "cell_type": "code",
   "execution_count": 206,
   "metadata": {},
   "outputs": [],
   "source": [
    "#stops when validation loss is not dropping for 3 epochs\n",
    "#early_stop = EarlyStopping(monitor = 'val_loss', mode = 'min', patience = 10, verbose = 1)\n",
    "# Rule of thumb, patience is 10% of the number of epochs \n",
    "# We need to save the model \n",
    "callbacks = [EarlyStopping(monitor='val_loss', patience=14),\n",
    "             ModelCheckpoint(filepath='best_model.h5', monitor='val_loss', save_best_only=True)]"
   ]
  },
  {
   "cell_type": "code",
   "execution_count": 207,
   "metadata": {},
   "outputs": [
    {
     "name": "stdout",
     "output_type": "stream",
     "text": [
      "Epoch 1/100\n",
      "515/515 [==============================] - 1s 3ms/step - loss: 0.4765 - accuracy: 0.7692 - val_loss: 1.1594 - val_accuracy: 0.1734\n",
      "Epoch 2/100\n",
      "515/515 [==============================] - 1s 3ms/step - loss: 0.4794 - accuracy: 0.7678 - val_loss: 1.1572 - val_accuracy: 0.1734\n",
      "Epoch 3/100\n",
      "515/515 [==============================] - 1s 3ms/step - loss: 0.4803 - accuracy: 0.7666 - val_loss: 1.1493 - val_accuracy: 0.1745\n",
      "Epoch 4/100\n",
      "515/515 [==============================] - 1s 3ms/step - loss: 0.4746 - accuracy: 0.7727 - val_loss: 1.1483 - val_accuracy: 0.1745\n",
      "Epoch 5/100\n",
      "515/515 [==============================] - 1s 3ms/step - loss: 0.4823 - accuracy: 0.7610 - val_loss: 1.1462 - val_accuracy: 0.1745\n",
      "Epoch 6/100\n",
      "515/515 [==============================] - 1s 3ms/step - loss: 0.4666 - accuracy: 0.7754 - val_loss: 1.1575 - val_accuracy: 0.1756\n",
      "Epoch 7/100\n",
      "515/515 [==============================] - 1s 3ms/step - loss: 0.4680 - accuracy: 0.7777 - val_loss: 1.1691 - val_accuracy: 0.1745\n",
      "Epoch 8/100\n",
      "515/515 [==============================] - 1s 3ms/step - loss: 0.4640 - accuracy: 0.7791 - val_loss: 1.1645 - val_accuracy: 0.1767\n",
      "Epoch 9/100\n",
      "515/515 [==============================] - 1s 3ms/step - loss: 0.4758 - accuracy: 0.7629 - val_loss: 1.1417 - val_accuracy: 0.1935\n",
      "Epoch 10/100\n",
      "515/515 [==============================] - 2s 3ms/step - loss: 0.4727 - accuracy: 0.7653 - val_loss: 1.1481 - val_accuracy: 0.1857\n",
      "Epoch 11/100\n",
      "515/515 [==============================] - 1s 3ms/step - loss: 0.4769 - accuracy: 0.7637 - val_loss: 1.1471 - val_accuracy: 0.1846\n",
      "Epoch 12/100\n",
      "515/515 [==============================] - 1s 3ms/step - loss: 0.4648 - accuracy: 0.7690 - val_loss: 1.1417 - val_accuracy: 0.1924\n",
      "Epoch 13/100\n",
      "515/515 [==============================] - 1s 3ms/step - loss: 0.4724 - accuracy: 0.7606 - val_loss: 1.1456 - val_accuracy: 0.1868\n",
      "Epoch 14/100\n",
      "515/515 [==============================] - 2s 3ms/step - loss: 0.4651 - accuracy: 0.7732 - val_loss: 1.1382 - val_accuracy: 0.1946\n",
      "Epoch 15/100\n",
      "515/515 [==============================] - 1s 3ms/step - loss: 0.4683 - accuracy: 0.7680 - val_loss: 1.1220 - val_accuracy: 0.2025\n",
      "Epoch 16/100\n",
      "515/515 [==============================] - 1s 3ms/step - loss: 0.4521 - accuracy: 0.7820 - val_loss: 1.1423 - val_accuracy: 0.2025\n",
      "Epoch 17/100\n",
      "515/515 [==============================] - 1s 3ms/step - loss: 0.4666 - accuracy: 0.7711 - val_loss: 1.1374 - val_accuracy: 0.2025\n",
      "Epoch 18/100\n",
      "515/515 [==============================] - 1s 3ms/step - loss: 0.4692 - accuracy: 0.7633 - val_loss: 1.1310 - val_accuracy: 0.2013\n",
      "Epoch 19/100\n",
      "515/515 [==============================] - 1s 3ms/step - loss: 0.4630 - accuracy: 0.7738 - val_loss: 1.1290 - val_accuracy: 0.2025\n",
      "Epoch 20/100\n",
      "515/515 [==============================] - 1s 3ms/step - loss: 0.4744 - accuracy: 0.7623 - val_loss: 1.1187 - val_accuracy: 0.2058\n",
      "Epoch 21/100\n",
      "515/515 [==============================] - 1s 3ms/step - loss: 0.4537 - accuracy: 0.7738 - val_loss: 1.1157 - val_accuracy: 0.2125\n",
      "Epoch 22/100\n",
      "515/515 [==============================] - 1s 3ms/step - loss: 0.4598 - accuracy: 0.7721 - val_loss: 1.1229 - val_accuracy: 0.2081\n",
      "Epoch 23/100\n",
      "515/515 [==============================] - 1s 2ms/step - loss: 0.4517 - accuracy: 0.7804 - val_loss: 1.1368 - val_accuracy: 0.2114\n",
      "Epoch 24/100\n",
      "515/515 [==============================] - 1s 3ms/step - loss: 0.4553 - accuracy: 0.7793 - val_loss: 1.1425 - val_accuracy: 0.2081\n",
      "Epoch 25/100\n",
      "515/515 [==============================] - 1s 2ms/step - loss: 0.4649 - accuracy: 0.7676 - val_loss: 1.1333 - val_accuracy: 0.2125\n",
      "Epoch 26/100\n",
      "515/515 [==============================] - 1s 3ms/step - loss: 0.4582 - accuracy: 0.7752 - val_loss: 1.1304 - val_accuracy: 0.2125\n",
      "Epoch 27/100\n",
      "515/515 [==============================] - 1s 3ms/step - loss: 0.4612 - accuracy: 0.7699 - val_loss: 1.1114 - val_accuracy: 0.2226\n",
      "Epoch 28/100\n",
      "515/515 [==============================] - 1s 2ms/step - loss: 0.4624 - accuracy: 0.7697 - val_loss: 1.1200 - val_accuracy: 0.2215\n",
      "Epoch 29/100\n",
      "515/515 [==============================] - 1s 3ms/step - loss: 0.4563 - accuracy: 0.7729 - val_loss: 1.1191 - val_accuracy: 0.2215\n",
      "Epoch 30/100\n",
      "515/515 [==============================] - 1s 3ms/step - loss: 0.4543 - accuracy: 0.7781 - val_loss: 1.1222 - val_accuracy: 0.2226\n",
      "Epoch 31/100\n",
      "515/515 [==============================] - 1s 3ms/step - loss: 0.4484 - accuracy: 0.7808 - val_loss: 1.1253 - val_accuracy: 0.2260\n",
      "Epoch 32/100\n",
      "515/515 [==============================] - 1s 3ms/step - loss: 0.4521 - accuracy: 0.7785 - val_loss: 1.1205 - val_accuracy: 0.2282\n",
      "Epoch 33/100\n",
      "515/515 [==============================] - 1s 3ms/step - loss: 0.4520 - accuracy: 0.7752 - val_loss: 1.1183 - val_accuracy: 0.2338\n",
      "Epoch 34/100\n",
      "515/515 [==============================] - 1s 3ms/step - loss: 0.4567 - accuracy: 0.7752 - val_loss: 1.1093 - val_accuracy: 0.2338\n",
      "Epoch 35/100\n",
      "515/515 [==============================] - 2s 3ms/step - loss: 0.4556 - accuracy: 0.7711 - val_loss: 1.1174 - val_accuracy: 0.2282\n",
      "Epoch 36/100\n",
      "515/515 [==============================] - 1s 3ms/step - loss: 0.4563 - accuracy: 0.7730 - val_loss: 1.1012 - val_accuracy: 0.2338\n",
      "Epoch 37/100\n",
      "515/515 [==============================] - 1s 3ms/step - loss: 0.4492 - accuracy: 0.7705 - val_loss: 1.1076 - val_accuracy: 0.2383\n",
      "Epoch 38/100\n",
      "515/515 [==============================] - 1s 2ms/step - loss: 0.4496 - accuracy: 0.7791 - val_loss: 1.1191 - val_accuracy: 0.2383\n",
      "Epoch 39/100\n",
      "515/515 [==============================] - 1s 3ms/step - loss: 0.4500 - accuracy: 0.7765 - val_loss: 1.1065 - val_accuracy: 0.2383\n",
      "Epoch 40/100\n",
      "515/515 [==============================] - 1s 3ms/step - loss: 0.4533 - accuracy: 0.7717 - val_loss: 1.1057 - val_accuracy: 0.2383\n",
      "Epoch 41/100\n",
      "515/515 [==============================] - 1s 3ms/step - loss: 0.4457 - accuracy: 0.7828 - val_loss: 1.0965 - val_accuracy: 0.2461\n",
      "Epoch 42/100\n",
      "515/515 [==============================] - 1s 3ms/step - loss: 0.4471 - accuracy: 0.7812 - val_loss: 1.1129 - val_accuracy: 0.2416\n",
      "Epoch 43/100\n",
      "515/515 [==============================] - 1s 3ms/step - loss: 0.4482 - accuracy: 0.7765 - val_loss: 1.1019 - val_accuracy: 0.2483\n",
      "Epoch 44/100\n",
      "515/515 [==============================] - 1s 3ms/step - loss: 0.4465 - accuracy: 0.7762 - val_loss: 1.1022 - val_accuracy: 0.2550\n",
      "Epoch 45/100\n",
      "515/515 [==============================] - 1s 3ms/step - loss: 0.4482 - accuracy: 0.7783 - val_loss: 1.0870 - val_accuracy: 0.2617\n",
      "Epoch 46/100\n",
      "515/515 [==============================] - 1s 3ms/step - loss: 0.4430 - accuracy: 0.7841 - val_loss: 1.0977 - val_accuracy: 0.2595\n",
      "Epoch 47/100\n",
      "515/515 [==============================] - 1s 3ms/step - loss: 0.4415 - accuracy: 0.7843 - val_loss: 1.0967 - val_accuracy: 0.2606\n",
      "Epoch 48/100\n",
      "515/515 [==============================] - 1s 3ms/step - loss: 0.4458 - accuracy: 0.7804 - val_loss: 1.0962 - val_accuracy: 0.2606\n",
      "Epoch 49/100\n",
      "515/515 [==============================] - 1s 3ms/step - loss: 0.4481 - accuracy: 0.7742 - val_loss: 1.0854 - val_accuracy: 0.2617\n",
      "Epoch 50/100\n",
      "515/515 [==============================] - 1s 3ms/step - loss: 0.4444 - accuracy: 0.7781 - val_loss: 1.0850 - val_accuracy: 0.2606\n",
      "Epoch 51/100\n",
      "515/515 [==============================] - 1s 3ms/step - loss: 0.4483 - accuracy: 0.7738 - val_loss: 1.0522 - val_accuracy: 0.2819\n",
      "Epoch 52/100\n",
      "515/515 [==============================] - 1s 3ms/step - loss: 0.4421 - accuracy: 0.7783 - val_loss: 1.0650 - val_accuracy: 0.2752\n",
      "Epoch 53/100\n",
      "515/515 [==============================] - 1s 3ms/step - loss: 0.4385 - accuracy: 0.7843 - val_loss: 1.0639 - val_accuracy: 0.2808\n",
      "Epoch 54/100\n",
      "515/515 [==============================] - 1s 2ms/step - loss: 0.4478 - accuracy: 0.7703 - val_loss: 1.0766 - val_accuracy: 0.2763\n",
      "Epoch 55/100\n",
      "515/515 [==============================] - 1s 3ms/step - loss: 0.4369 - accuracy: 0.7851 - val_loss: 1.0702 - val_accuracy: 0.2808\n",
      "Epoch 56/100\n",
      "515/515 [==============================] - 1s 3ms/step - loss: 0.4441 - accuracy: 0.7863 - val_loss: 1.0727 - val_accuracy: 0.2808\n",
      "Epoch 57/100\n",
      "515/515 [==============================] - 1s 2ms/step - loss: 0.4386 - accuracy: 0.7830 - val_loss: 1.0881 - val_accuracy: 0.2796\n",
      "Epoch 58/100\n",
      "515/515 [==============================] - 1s 3ms/step - loss: 0.4492 - accuracy: 0.7754 - val_loss: 1.0735 - val_accuracy: 0.2774\n",
      "Epoch 59/100\n",
      "515/515 [==============================] - 1s 3ms/step - loss: 0.4395 - accuracy: 0.7863 - val_loss: 1.0828 - val_accuracy: 0.2875\n",
      "Epoch 60/100\n",
      "515/515 [==============================] - 1s 3ms/step - loss: 0.4383 - accuracy: 0.7834 - val_loss: 1.0873 - val_accuracy: 0.2897\n",
      "Epoch 61/100\n",
      "515/515 [==============================] - 1s 3ms/step - loss: 0.4402 - accuracy: 0.7793 - val_loss: 1.0893 - val_accuracy: 0.2897\n",
      "Epoch 62/100\n",
      "515/515 [==============================] - 1s 3ms/step - loss: 0.4384 - accuracy: 0.7810 - val_loss: 1.0889 - val_accuracy: 0.2998\n",
      "Epoch 63/100\n",
      "515/515 [==============================] - 1s 3ms/step - loss: 0.4405 - accuracy: 0.7806 - val_loss: 1.1039 - val_accuracy: 0.3076\n",
      "Epoch 64/100\n",
      "515/515 [==============================] - 1s 3ms/step - loss: 0.4354 - accuracy: 0.7837 - val_loss: 1.1151 - val_accuracy: 0.3098\n",
      "Epoch 65/100\n",
      "515/515 [==============================] - 1s 3ms/step - loss: 0.4384 - accuracy: 0.7808 - val_loss: 1.1314 - val_accuracy: 0.3121\n"
     ]
    },
    {
     "data": {
      "text/plain": [
       "<keras.callbacks.History at 0x1d8f07f0310>"
      ]
     },
     "execution_count": 207,
     "metadata": {},
     "output_type": "execute_result"
    }
   ],
   "source": [
    "#Fitting model\n",
    "model.fit(X_train, y_train, \n",
    "          epochs = 100,\n",
    "         validation_data=(X_val, y_val),\n",
    "         verbose = 1, \n",
    "         callbacks=callbacks, batch_size=10)"
   ]
  },
  {
   "cell_type": "code",
   "execution_count": 208,
   "metadata": {},
   "outputs": [
    {
     "data": {
      "text/plain": [
       "<AxesSubplot:>"
      ]
     },
     "execution_count": 208,
     "metadata": {},
     "output_type": "execute_result"
    },
    {
     "data": {
      "image/png": "[encoded data removed]",
      "text/plain": [
       "<Figure size 432x288 with 1 Axes>"
      ]
     },
     "metadata": {
      "needs_background": "light"
     },
     "output_type": "display_data"
    }
   ],
   "source": [
    "model_loss = pd.DataFrame(model.history.history)\n",
    "model_loss.plot()"
   ]
  },
  {
   "cell_type": "code",
   "execution_count": 209,
   "metadata": {},
   "outputs": [
    {
     "name": "stdout",
     "output_type": "stream",
     "text": [
      "48/48 [==============================] - 0s 2ms/step\n",
      "F1 Score 0.5650509683995921\n",
      "Accuracy 0.7821265492498369\n",
      "[0.3777935802936554, 0.8308051228523254] [0.41391557455062866, 0.7821265459060669]\n"
     ]
    }
   ],
   "source": [
    "from keras.models import load_model\n",
    "saved_model = load_model('best_model.h5')\n",
    "\n",
    "#Predictions\n",
    "prediction_values = saved_model.predict(X_test)\n",
    "# Convert into classes \n",
    "prediction = []\n",
    "for i in prediction_values:\n",
    "    prediction.append(np.where(i > 0.5, 1,0)[0])\n",
    "\n",
    "print(f\"F1 Score {f1_score(y_test, prediction, average='macro')}\")\n",
    "print(f\"Accuracy {accuracy_score(y_test, prediction)}\")\n",
    "\n",
    "train_acc = saved_model.evaluate(X_train, y_train, verbose=0)\n",
    "test_acc = saved_model.evaluate(X_test, y_test, verbose=0)\n",
    "print(train_acc, test_acc)"
   ]
  },
  {
   "cell_type": "code",
   "execution_count": 210,
   "metadata": {},
   "outputs": [
    {
     "name": "stdout",
     "output_type": "stream",
     "text": [
      "48/48 [==============================] - 0s 2ms/step\n"
     ]
    }
   ],
   "source": [
    "#Predictions\n",
    "prediction_values = model.predict(X_test)\n",
    "# Convert into classes \n",
    "prediction = []\n",
    "for i in prediction_values:\n",
    "    prediction.append(np.where(i > 0.5, 1,0)[0])\n",
    "    "
   ]
  },
  {
   "cell_type": "code",
   "execution_count": 211,
   "metadata": {},
   "outputs": [
    {
     "name": "stdout",
     "output_type": "stream",
     "text": [
      "F1 Score 0.548344505066251\n",
      "Accuracy 0.7534246575342466\n",
      "              precision    recall  f1-score   support\n",
      "\n",
      "           0       0.98      0.76      0.85      1444\n",
      "           1       0.15      0.69      0.24        89\n",
      "\n",
      "    accuracy                           0.75      1533\n",
      "   macro avg       0.56      0.72      0.55      1533\n",
      "weighted avg       0.93      0.75      0.82      1533\n",
      "\n",
      "\n",
      "[[1094  350]\n",
      " [  28   61]]\n"
     ]
    }
   ],
   "source": [
    "from sklearn.metrics import classification_report, confusion_matrix\n",
    "\n",
    "print(f\"F1 Score {f1_score(y_test, prediction, average='macro')}\")\n",
    "print(f\"Accuracy {accuracy_score(y_test, prediction)}\")\n",
    "\n",
    "print(classification_report(y_test,prediction))\n",
    "print()\n",
    "cf = confusion_matrix(y_test,prediction)\n",
    "print(cf)"
   ]
  },
  {
   "cell_type": "code",
   "execution_count": 54,
   "metadata": {},
   "outputs": [
    {
     "data": {
      "text/plain": [
       "<AxesSubplot:>"
      ]
     },
     "execution_count": 54,
     "metadata": {},
     "output_type": "execute_result"
    },
    {
     "data": {
      "image/png": "[encoded data removed]",
      "text/plain": [
       "<Figure size 432x288 with 2 Axes>"
      ]
     },
     "metadata": {
      "needs_background": "light"
     },
     "output_type": "display_data"
    }
   ],
   "source": [
    "import seaborn as sns\n",
    "sns.heatmap(cf, annot=True)"
   ]
  },
  {
   "cell_type": "markdown",
   "metadata": {},
   "source": [
    "### XGBoost"
   ]
  },
  {
   "cell_type": "code",
   "execution_count": 27,
   "metadata": {},
   "outputs": [
    {
     "name": "stdout",
     "output_type": "stream",
     "text": [
      "F1 Score 0.5562251638201005\n",
      "Accuracy 0.9210697977821265\n",
      "              precision    recall  f1-score   support\n",
      "\n",
      "           0       0.95      0.97      0.96      1444\n",
      "           1       0.20      0.12      0.15        89\n",
      "\n",
      "    accuracy                           0.92      1533\n",
      "   macro avg       0.58      0.55      0.56      1533\n",
      "weighted avg       0.90      0.92      0.91      1533\n",
      "\n",
      "\n",
      "[[1401   43]\n",
      " [  78   11]]\n"
     ]
    }
   ],
   "source": [
    "from xgboost import XGBClassifier\n",
    "XGB = XGBClassifier(eval_metric= 'error')\n",
    "XGB.fit(X_train, y_train)\n",
    "y_pred = XGB.predict(X_test)\n",
    "print(f\"F1 Score {f1_score(y_test, y_pred, average='macro')}\")\n",
    "print(f\"Accuracy {accuracy_score(y_test, y_pred)}\")\n",
    "print(classification_report(y_test,y_pred))\n",
    "print()\n",
    "cf = confusion_matrix(y_test,y_pred)\n",
    "print(cf)"
   ]
  },
  {
   "cell_type": "code",
   "execution_count": 28,
   "metadata": {},
   "outputs": [
    {
     "data": {
      "text/plain": [
       "<AxesSubplot:>"
      ]
     },
     "execution_count": 28,
     "metadata": {},
     "output_type": "execute_result"
    },
    {
     "data": {
      "image/png": "[encoded data removed]",
      "text/plain": [
       "<Figure size 432x288 with 2 Axes>"
      ]
     },
     "metadata": {
      "needs_background": "light"
     },
     "output_type": "display_data"
    }
   ],
   "source": [
    "sns.heatmap(cf, annot = True)"
   ]
  },
  {
   "cell_type": "markdown",
   "metadata": {},
   "source": [
    "### Random Forest"
   ]
  },
  {
   "cell_type": "code",
   "execution_count": 29,
   "metadata": {},
   "outputs": [
    {
     "name": "stdout",
     "output_type": "stream",
     "text": [
      "F1 Score 0.48279352226720645\n",
      "Accuracy 0.9334637964774951\n",
      "              precision    recall  f1-score   support\n",
      "\n",
      "           0       0.94      0.99      0.97      1444\n",
      "           1       0.00      0.00      0.00        89\n",
      "\n",
      "    accuracy                           0.93      1533\n",
      "   macro avg       0.47      0.50      0.48      1533\n",
      "weighted avg       0.89      0.93      0.91      1533\n",
      "\n",
      "\n"
     ]
    }
   ],
   "source": [
    "rf = RandomForestClassifier()\n",
    "rf.fit(X_train, y_train)\n",
    "y_pred = rf.predict(X_test)\n",
    "print(f\"F1 Score {f1_score(y_test, y_pred, average='macro')}\")\n",
    "print(f\"Accuracy {accuracy_score(y_test, y_pred)}\")\n",
    "print(classification_report(y_test,y_pred))\n",
    "print()\n",
    "cf = confusion_matrix(y_test,y_pred)"
   ]
  },
  {
   "cell_type": "code",
   "execution_count": 30,
   "metadata": {},
   "outputs": [
    {
     "data": {
      "text/plain": [
       "<AxesSubplot:>"
      ]
     },
     "execution_count": 30,
     "metadata": {},
     "output_type": "execute_result"
    },
    {
     "data": {
      "image/png": "[encoded data removed]",
      "text/plain": [
       "<Figure size 432x288 with 2 Axes>"
      ]
     },
     "metadata": {
      "needs_background": "light"
     },
     "output_type": "display_data"
    }
   ],
   "source": [
    "sns.heatmap(cf, annot = True)"
   ]
  }
 ],
 "metadata": {
  "interpreter": {
   "hash": "dbdd60645814b7938868bfb90c8a35d95b726a4da71410a39dd51595e66f716c"
  },
  "kernelspec": {
   "display_name": "Python 3.8.13 ('datascience')",
   "language": "python",
   "name": "python3"
  },
  "language_info": {
   "codemirror_mode": {
    "name": "ipython",
    "version": 3
   },
   "file_extension": ".py",
   "mimetype": "text/x-python",
   "name": "python",
   "nbconvert_exporter": "python",
   "pygments_lexer": "ipython3",
   "version": "3.8.13"
  },
  "orig_nbformat": 4
 },
 "nbformat": 4,
 "nbformat_minor": 2
}
