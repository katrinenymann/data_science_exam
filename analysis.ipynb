{
 "cells": [
  {
   "cell_type": "markdown",
   "metadata": {},
   "source": [
    "# Data Analysis\n",
    "### Predictive modelling of stroke occurences"
   ]
  },
  {
   "cell_type": "markdown",
   "metadata": {},
   "source": [
    "Import libraries"
   ]
  },
  {
   "cell_type": "code",
   "execution_count": 1,
   "metadata": {},
   "outputs": [],
   "source": [
    "import pandas as pd\n",
    "from utils import DataLoader\n",
    "import matplotlib.pyplot as plt\n",
    "import seaborn as sns\n",
    "import numpy as np\n",
    "from sklearn.ensemble import RandomForestClassifier\n",
    "from sklearn.metrics import f1_score, accuracy_score"
   ]
  },
  {
   "cell_type": "markdown",
   "metadata": {},
   "source": [
    "Load data"
   ]
  },
  {
   "cell_type": "code",
   "execution_count": 2,
   "metadata": {},
   "outputs": [],
   "source": [
    "data_loader = DataLoader(\"healthcare-dataset-stroke-data.csv\")\n",
    "data_loader.load_dataset()"
   ]
  },
  {
   "cell_type": "markdown",
   "metadata": {},
   "source": [
    "# Preprocess data\n",
    "- Using the preprocessing pipeline from Utils based on the findings from the data exploration \n",
    "- Oversample to account for the imbalance in the data set"
   ]
  },
  {
   "cell_type": "code",
   "execution_count": 3,
   "metadata": {},
   "outputs": [
    {
     "name": "stdout",
     "output_type": "stream",
     "text": [
      "(2682, 20)\n",
      "(1533, 20)\n",
      "After oversampling: (5114, 20)\n"
     ]
    }
   ],
   "source": [
    "data_loader.preprocess_data()\n",
    "# Split the data for testing and training\n",
    "X_train, X_test, y_train, y_test, X_val, y_val = data_loader.get_data_split()\n",
    "print(X_train.shape)\n",
    "print(X_test.shape)\n",
    "\n",
    "# Oversample the train data \n",
    "X_train, y_train = data_loader.oversample(X_train, y_train)\n",
    "print(\"After oversampling:\", X_train.shape)"
   ]
  },
  {
   "cell_type": "code",
   "execution_count": 4,
   "metadata": {},
   "outputs": [
    {
     "data": {
      "text/html": [
       "<div>\n",
       "<style scoped>\n",
       "    .dataframe tbody tr th:only-of-type {\n",
       "        vertical-align: middle;\n",
       "    }\n",
       "\n",
       "    .dataframe tbody tr th {\n",
       "        vertical-align: top;\n",
       "    }\n",
       "\n",
       "    .dataframe thead th {\n",
       "        text-align: right;\n",
       "    }\n",
       "</style>\n",
       "<table border=\"1\" class=\"dataframe\">\n",
       "  <thead>\n",
       "    <tr style=\"text-align: right;\">\n",
       "      <th></th>\n",
       "      <th>gender_Female</th>\n",
       "      <th>gender_Male</th>\n",
       "      <th>ever_married_No</th>\n",
       "      <th>ever_married_Yes</th>\n",
       "      <th>work_type_Govt_job</th>\n",
       "      <th>work_type_Never_worked</th>\n",
       "      <th>work_type_Private</th>\n",
       "      <th>work_type_Self-employed</th>\n",
       "      <th>work_type_children</th>\n",
       "      <th>Residence_type_Rural</th>\n",
       "      <th>Residence_type_Urban</th>\n",
       "      <th>smoking_status_Unknown</th>\n",
       "      <th>smoking_status_formerly smoked</th>\n",
       "      <th>smoking_status_never smoked</th>\n",
       "      <th>smoking_status_smokes</th>\n",
       "      <th>age</th>\n",
       "      <th>hypertension</th>\n",
       "      <th>heart_disease</th>\n",
       "      <th>avg_glucose_level</th>\n",
       "      <th>bmi</th>\n",
       "    </tr>\n",
       "  </thead>\n",
       "  <tbody>\n",
       "    <tr>\n",
       "      <th>0</th>\n",
       "      <td>0.0</td>\n",
       "      <td>1.0</td>\n",
       "      <td>0.0</td>\n",
       "      <td>1.0</td>\n",
       "      <td>0.0</td>\n",
       "      <td>0.0</td>\n",
       "      <td>1.0</td>\n",
       "      <td>0.0</td>\n",
       "      <td>0.0</td>\n",
       "      <td>1.0</td>\n",
       "      <td>0.0</td>\n",
       "      <td>1.0</td>\n",
       "      <td>0.0</td>\n",
       "      <td>0.0</td>\n",
       "      <td>0.0</td>\n",
       "      <td>67.0</td>\n",
       "      <td>0.0</td>\n",
       "      <td>1.0</td>\n",
       "      <td>97.24</td>\n",
       "      <td>28.1</td>\n",
       "    </tr>\n",
       "    <tr>\n",
       "      <th>1</th>\n",
       "      <td>1.0</td>\n",
       "      <td>0.0</td>\n",
       "      <td>0.0</td>\n",
       "      <td>1.0</td>\n",
       "      <td>0.0</td>\n",
       "      <td>0.0</td>\n",
       "      <td>1.0</td>\n",
       "      <td>0.0</td>\n",
       "      <td>0.0</td>\n",
       "      <td>1.0</td>\n",
       "      <td>0.0</td>\n",
       "      <td>1.0</td>\n",
       "      <td>0.0</td>\n",
       "      <td>0.0</td>\n",
       "      <td>0.0</td>\n",
       "      <td>62.0</td>\n",
       "      <td>0.0</td>\n",
       "      <td>0.0</td>\n",
       "      <td>82.57</td>\n",
       "      <td>27.5</td>\n",
       "    </tr>\n",
       "    <tr>\n",
       "      <th>2</th>\n",
       "      <td>0.0</td>\n",
       "      <td>1.0</td>\n",
       "      <td>0.0</td>\n",
       "      <td>1.0</td>\n",
       "      <td>0.0</td>\n",
       "      <td>0.0</td>\n",
       "      <td>0.0</td>\n",
       "      <td>1.0</td>\n",
       "      <td>0.0</td>\n",
       "      <td>0.0</td>\n",
       "      <td>1.0</td>\n",
       "      <td>0.0</td>\n",
       "      <td>0.0</td>\n",
       "      <td>1.0</td>\n",
       "      <td>0.0</td>\n",
       "      <td>48.0</td>\n",
       "      <td>1.0</td>\n",
       "      <td>0.0</td>\n",
       "      <td>83.34</td>\n",
       "      <td>49.3</td>\n",
       "    </tr>\n",
       "    <tr>\n",
       "      <th>3</th>\n",
       "      <td>1.0</td>\n",
       "      <td>0.0</td>\n",
       "      <td>1.0</td>\n",
       "      <td>0.0</td>\n",
       "      <td>0.0</td>\n",
       "      <td>0.0</td>\n",
       "      <td>1.0</td>\n",
       "      <td>0.0</td>\n",
       "      <td>0.0</td>\n",
       "      <td>0.0</td>\n",
       "      <td>1.0</td>\n",
       "      <td>0.0</td>\n",
       "      <td>0.0</td>\n",
       "      <td>0.0</td>\n",
       "      <td>1.0</td>\n",
       "      <td>28.0</td>\n",
       "      <td>0.0</td>\n",
       "      <td>0.0</td>\n",
       "      <td>76.81</td>\n",
       "      <td>28.3</td>\n",
       "    </tr>\n",
       "    <tr>\n",
       "      <th>4</th>\n",
       "      <td>1.0</td>\n",
       "      <td>0.0</td>\n",
       "      <td>0.0</td>\n",
       "      <td>1.0</td>\n",
       "      <td>0.0</td>\n",
       "      <td>0.0</td>\n",
       "      <td>1.0</td>\n",
       "      <td>0.0</td>\n",
       "      <td>0.0</td>\n",
       "      <td>0.0</td>\n",
       "      <td>1.0</td>\n",
       "      <td>1.0</td>\n",
       "      <td>0.0</td>\n",
       "      <td>0.0</td>\n",
       "      <td>0.0</td>\n",
       "      <td>38.0</td>\n",
       "      <td>0.0</td>\n",
       "      <td>0.0</td>\n",
       "      <td>71.06</td>\n",
       "      <td>22.6</td>\n",
       "    </tr>\n",
       "    <tr>\n",
       "      <th>...</th>\n",
       "      <td>...</td>\n",
       "      <td>...</td>\n",
       "      <td>...</td>\n",
       "      <td>...</td>\n",
       "      <td>...</td>\n",
       "      <td>...</td>\n",
       "      <td>...</td>\n",
       "      <td>...</td>\n",
       "      <td>...</td>\n",
       "      <td>...</td>\n",
       "      <td>...</td>\n",
       "      <td>...</td>\n",
       "      <td>...</td>\n",
       "      <td>...</td>\n",
       "      <td>...</td>\n",
       "      <td>...</td>\n",
       "      <td>...</td>\n",
       "      <td>...</td>\n",
       "      <td>...</td>\n",
       "      <td>...</td>\n",
       "    </tr>\n",
       "    <tr>\n",
       "      <th>5109</th>\n",
       "      <td>1.0</td>\n",
       "      <td>0.0</td>\n",
       "      <td>0.0</td>\n",
       "      <td>1.0</td>\n",
       "      <td>0.0</td>\n",
       "      <td>0.0</td>\n",
       "      <td>1.0</td>\n",
       "      <td>0.0</td>\n",
       "      <td>0.0</td>\n",
       "      <td>0.0</td>\n",
       "      <td>1.0</td>\n",
       "      <td>0.0</td>\n",
       "      <td>0.0</td>\n",
       "      <td>1.0</td>\n",
       "      <td>0.0</td>\n",
       "      <td>39.0</td>\n",
       "      <td>0.0</td>\n",
       "      <td>0.0</td>\n",
       "      <td>83.24</td>\n",
       "      <td>26.3</td>\n",
       "    </tr>\n",
       "    <tr>\n",
       "      <th>5110</th>\n",
       "      <td>1.0</td>\n",
       "      <td>0.0</td>\n",
       "      <td>0.0</td>\n",
       "      <td>1.0</td>\n",
       "      <td>0.0</td>\n",
       "      <td>0.0</td>\n",
       "      <td>0.0</td>\n",
       "      <td>1.0</td>\n",
       "      <td>0.0</td>\n",
       "      <td>1.0</td>\n",
       "      <td>0.0</td>\n",
       "      <td>0.0</td>\n",
       "      <td>1.0</td>\n",
       "      <td>0.0</td>\n",
       "      <td>0.0</td>\n",
       "      <td>80.0</td>\n",
       "      <td>1.0</td>\n",
       "      <td>0.0</td>\n",
       "      <td>91.02</td>\n",
       "      <td>32.9</td>\n",
       "    </tr>\n",
       "    <tr>\n",
       "      <th>5111</th>\n",
       "      <td>1.0</td>\n",
       "      <td>0.0</td>\n",
       "      <td>0.0</td>\n",
       "      <td>1.0</td>\n",
       "      <td>0.0</td>\n",
       "      <td>0.0</td>\n",
       "      <td>1.0</td>\n",
       "      <td>0.0</td>\n",
       "      <td>0.0</td>\n",
       "      <td>1.0</td>\n",
       "      <td>0.0</td>\n",
       "      <td>0.0</td>\n",
       "      <td>0.0</td>\n",
       "      <td>1.0</td>\n",
       "      <td>0.0</td>\n",
       "      <td>82.0</td>\n",
       "      <td>0.0</td>\n",
       "      <td>0.0</td>\n",
       "      <td>59.32</td>\n",
       "      <td>33.2</td>\n",
       "    </tr>\n",
       "    <tr>\n",
       "      <th>5112</th>\n",
       "      <td>1.0</td>\n",
       "      <td>0.0</td>\n",
       "      <td>0.0</td>\n",
       "      <td>1.0</td>\n",
       "      <td>0.0</td>\n",
       "      <td>0.0</td>\n",
       "      <td>1.0</td>\n",
       "      <td>0.0</td>\n",
       "      <td>0.0</td>\n",
       "      <td>1.0</td>\n",
       "      <td>0.0</td>\n",
       "      <td>0.0</td>\n",
       "      <td>0.0</td>\n",
       "      <td>1.0</td>\n",
       "      <td>0.0</td>\n",
       "      <td>81.0</td>\n",
       "      <td>0.0</td>\n",
       "      <td>0.0</td>\n",
       "      <td>80.13</td>\n",
       "      <td>23.4</td>\n",
       "    </tr>\n",
       "    <tr>\n",
       "      <th>5113</th>\n",
       "      <td>0.0</td>\n",
       "      <td>1.0</td>\n",
       "      <td>0.0</td>\n",
       "      <td>1.0</td>\n",
       "      <td>0.0</td>\n",
       "      <td>0.0</td>\n",
       "      <td>0.0</td>\n",
       "      <td>1.0</td>\n",
       "      <td>0.0</td>\n",
       "      <td>1.0</td>\n",
       "      <td>0.0</td>\n",
       "      <td>0.0</td>\n",
       "      <td>1.0</td>\n",
       "      <td>0.0</td>\n",
       "      <td>0.0</td>\n",
       "      <td>76.0</td>\n",
       "      <td>1.0</td>\n",
       "      <td>0.0</td>\n",
       "      <td>194.37</td>\n",
       "      <td>27.0</td>\n",
       "    </tr>\n",
       "  </tbody>\n",
       "</table>\n",
       "<p>5114 rows × 20 columns</p>\n",
       "</div>"
      ],
      "text/plain": [
       "      gender_Female  gender_Male  ever_married_No  ever_married_Yes  \\\n",
       "0               0.0          1.0              0.0               1.0   \n",
       "1               1.0          0.0              0.0               1.0   \n",
       "2               0.0          1.0              0.0               1.0   \n",
       "3               1.0          0.0              1.0               0.0   \n",
       "4               1.0          0.0              0.0               1.0   \n",
       "...             ...          ...              ...               ...   \n",
       "5109            1.0          0.0              0.0               1.0   \n",
       "5110            1.0          0.0              0.0               1.0   \n",
       "5111            1.0          0.0              0.0               1.0   \n",
       "5112            1.0          0.0              0.0               1.0   \n",
       "5113            0.0          1.0              0.0               1.0   \n",
       "\n",
       "      work_type_Govt_job  work_type_Never_worked  work_type_Private  \\\n",
       "0                    0.0                     0.0                1.0   \n",
       "1                    0.0                     0.0                1.0   \n",
       "2                    0.0                     0.0                0.0   \n",
       "3                    0.0                     0.0                1.0   \n",
       "4                    0.0                     0.0                1.0   \n",
       "...                  ...                     ...                ...   \n",
       "5109                 0.0                     0.0                1.0   \n",
       "5110                 0.0                     0.0                0.0   \n",
       "5111                 0.0                     0.0                1.0   \n",
       "5112                 0.0                     0.0                1.0   \n",
       "5113                 0.0                     0.0                0.0   \n",
       "\n",
       "      work_type_Self-employed  work_type_children  Residence_type_Rural  \\\n",
       "0                         0.0                 0.0                   1.0   \n",
       "1                         0.0                 0.0                   1.0   \n",
       "2                         1.0                 0.0                   0.0   \n",
       "3                         0.0                 0.0                   0.0   \n",
       "4                         0.0                 0.0                   0.0   \n",
       "...                       ...                 ...                   ...   \n",
       "5109                      0.0                 0.0                   0.0   \n",
       "5110                      1.0                 0.0                   1.0   \n",
       "5111                      0.0                 0.0                   1.0   \n",
       "5112                      0.0                 0.0                   1.0   \n",
       "5113                      1.0                 0.0                   1.0   \n",
       "\n",
       "      Residence_type_Urban  smoking_status_Unknown  \\\n",
       "0                      0.0                     1.0   \n",
       "1                      0.0                     1.0   \n",
       "2                      1.0                     0.0   \n",
       "3                      1.0                     0.0   \n",
       "4                      1.0                     1.0   \n",
       "...                    ...                     ...   \n",
       "5109                   1.0                     0.0   \n",
       "5110                   0.0                     0.0   \n",
       "5111                   0.0                     0.0   \n",
       "5112                   0.0                     0.0   \n",
       "5113                   0.0                     0.0   \n",
       "\n",
       "      smoking_status_formerly smoked  smoking_status_never smoked  \\\n",
       "0                                0.0                          0.0   \n",
       "1                                0.0                          0.0   \n",
       "2                                0.0                          1.0   \n",
       "3                                0.0                          0.0   \n",
       "4                                0.0                          0.0   \n",
       "...                              ...                          ...   \n",
       "5109                             0.0                          1.0   \n",
       "5110                             1.0                          0.0   \n",
       "5111                             0.0                          1.0   \n",
       "5112                             0.0                          1.0   \n",
       "5113                             1.0                          0.0   \n",
       "\n",
       "      smoking_status_smokes   age  hypertension  heart_disease  \\\n",
       "0                       0.0  67.0           0.0            1.0   \n",
       "1                       0.0  62.0           0.0            0.0   \n",
       "2                       0.0  48.0           1.0            0.0   \n",
       "3                       1.0  28.0           0.0            0.0   \n",
       "4                       0.0  38.0           0.0            0.0   \n",
       "...                     ...   ...           ...            ...   \n",
       "5109                    0.0  39.0           0.0            0.0   \n",
       "5110                    0.0  80.0           1.0            0.0   \n",
       "5111                    0.0  82.0           0.0            0.0   \n",
       "5112                    0.0  81.0           0.0            0.0   \n",
       "5113                    0.0  76.0           1.0            0.0   \n",
       "\n",
       "      avg_glucose_level   bmi  \n",
       "0                 97.24  28.1  \n",
       "1                 82.57  27.5  \n",
       "2                 83.34  49.3  \n",
       "3                 76.81  28.3  \n",
       "4                 71.06  22.6  \n",
       "...                 ...   ...  \n",
       "5109              83.24  26.3  \n",
       "5110              91.02  32.9  \n",
       "5111              59.32  33.2  \n",
       "5112              80.13  23.4  \n",
       "5113             194.37  27.0  \n",
       "\n",
       "[5114 rows x 20 columns]"
      ]
     },
     "execution_count": 4,
     "metadata": {},
     "output_type": "execute_result"
    }
   ],
   "source": [
    "X_train"
   ]
  },
  {
   "cell_type": "markdown",
   "metadata": {},
   "source": [
    "## Fit models\n",
    "- ANN\n",
    "- Random Forest\n",
    "- XGBoost"
   ]
  },
  {
   "cell_type": "markdown",
   "metadata": {},
   "source": [
    "### ANN"
   ]
  },
  {
   "cell_type": "code",
   "execution_count": 5,
   "metadata": {},
   "outputs": [],
   "source": [
    "#Scale and Fit the data\n",
    "# Scaling is needed which it is not for random forest or XGBoost\n",
    "from sklearn.preprocessing import MinMaxScaler\n",
    "scaler = MinMaxScaler()\n",
    "X_train = scaler.fit_transform(X_train)\n",
    "X_test = scaler.transform(X_test)"
   ]
  },
  {
   "cell_type": "code",
   "execution_count": 6,
   "metadata": {},
   "outputs": [],
   "source": [
    "import tensorflow as tf\n",
    "from tensorflow.keras.models import Sequential\n",
    "from tensorflow.keras.layers import Dense, Activation,Dropout\n",
    "from tensorflow.keras.callbacks import EarlyStopping, ModelCheckpoint"
   ]
  },
  {
   "cell_type": "code",
   "execution_count": 7,
   "metadata": {},
   "outputs": [],
   "source": [
    "#ANN MODEL\n",
    "model = Sequential()\n",
    "\n",
    "model.add(Dense(units = 8, activation = 'relu'))\n",
    "model.add(Dropout(.6))\n",
    "model.add(Dense(units = 4, activation = 'relu'))\n",
    "model.add(Dropout(.6))\n",
    "#model.add(Dense(units = 5, activation = 'relu'))\n",
    "#model.add(Dropout(.4))\n",
    "model.add(Dense(units = 1, activation = 'sigmoid'))\n",
    "\n",
    "model.compile(loss = 'binary_crossentropy', optimizer = 'SGD', metrics = 'accuracy')"
   ]
  },
  {
   "cell_type": "code",
   "execution_count": 8,
   "metadata": {},
   "outputs": [],
   "source": [
    "#stops when validation loss is not dropping for 3 epochs\n",
    "#early_stop = EarlyStopping(monitor = 'val_loss', mode = 'min', patience = 10, verbose = 1)\n",
    "# Rule of thumb, patience is 10% of the number of epochs \n",
    "# We need to save the model \n",
    "callbacks = [EarlyStopping(monitor='val_loss', patience=10),\n",
    "             ModelCheckpoint(filepath='best_model.h5', monitor='val_loss', save_best_only=True)]"
   ]
  },
  {
   "cell_type": "code",
   "execution_count": 9,
   "metadata": {},
   "outputs": [
    {
     "name": "stdout",
     "output_type": "stream",
     "text": [
      "Epoch 1/100\n",
      "512/512 [==============================] - 2s 3ms/step - loss: 0.6968 - accuracy: 0.4861 - val_loss: 0.8128 - val_accuracy: 0.0548\n",
      "Epoch 2/100\n",
      "512/512 [==============================] - 1s 2ms/step - loss: 0.6930 - accuracy: 0.5045 - val_loss: 1.1331 - val_accuracy: 0.0548\n",
      "Epoch 3/100\n",
      "512/512 [==============================] - 1s 2ms/step - loss: 0.6925 - accuracy: 0.5049 - val_loss: 0.4018 - val_accuracy: 0.9452\n",
      "Epoch 4/100\n",
      "512/512 [==============================] - 1s 2ms/step - loss: 0.6930 - accuracy: 0.5051 - val_loss: 2.0890 - val_accuracy: 0.0548\n",
      "Epoch 5/100\n",
      "512/512 [==============================] - 1s 2ms/step - loss: 0.6908 - accuracy: 0.5066 - val_loss: 1.3000 - val_accuracy: 0.0548\n",
      "Epoch 6/100\n",
      "512/512 [==============================] - 1s 2ms/step - loss: 0.6895 - accuracy: 0.5123 - val_loss: 0.7488 - val_accuracy: 0.0548\n",
      "Epoch 7/100\n",
      "512/512 [==============================] - 1s 3ms/step - loss: 0.6908 - accuracy: 0.5084 - val_loss: 0.8362 - val_accuracy: 0.0548\n",
      "Epoch 8/100\n",
      "512/512 [==============================] - 1s 2ms/step - loss: 0.6882 - accuracy: 0.5160 - val_loss: 0.7973 - val_accuracy: 0.7718\n",
      "Epoch 9/100\n",
      "512/512 [==============================] - 1s 2ms/step - loss: 0.6900 - accuracy: 0.5162 - val_loss: 0.8708 - val_accuracy: 0.7181\n",
      "Epoch 10/100\n",
      "512/512 [==============================] - 1s 2ms/step - loss: 0.6896 - accuracy: 0.5160 - val_loss: 1.0018 - val_accuracy: 0.6376\n",
      "Epoch 11/100\n",
      "512/512 [==============================] - 1s 2ms/step - loss: 0.6882 - accuracy: 0.5241 - val_loss: 2.4955 - val_accuracy: 0.0548\n",
      "Epoch 12/100\n",
      "512/512 [==============================] - 1s 2ms/step - loss: 0.6884 - accuracy: 0.5242 - val_loss: 2.5066 - val_accuracy: 0.0548\n",
      "Epoch 13/100\n",
      "512/512 [==============================] - 1s 2ms/step - loss: 0.6879 - accuracy: 0.5223 - val_loss: 1.0765 - val_accuracy: 0.5425\n"
     ]
    },
    {
     "data": {
      "text/plain": [
       "<keras.callbacks.History at 0x21b94923910>"
      ]
     },
     "execution_count": 9,
     "metadata": {},
     "output_type": "execute_result"
    }
   ],
   "source": [
    "#Fitting model\n",
    "model.fit(X_train, y_train, \n",
    "          epochs = 100,\n",
    "         validation_data=(X_val, y_val),\n",
    "         verbose = 1, \n",
    "         callbacks=callbacks, batch_size=10)"
   ]
  },
  {
   "cell_type": "code",
   "execution_count": 10,
   "metadata": {},
   "outputs": [
    {
     "data": {
      "text/plain": [
       "<matplotlib.legend.Legend at 0x21b95be3550>"
      ]
     },
     "execution_count": 10,
     "metadata": {},
     "output_type": "execute_result"
    },
    {
     "data": {
      "image/png": "[encoded data removed]",
      "text/plain": [
       "<Figure size 432x288 with 1 Axes>"
      ]
     },
     "metadata": {
      "needs_background": "light"
     },
     "output_type": "display_data"
    }
   ],
   "source": [
    "model_loss = pd.DataFrame(model.history.history)\n",
    "model_loss.plot()\n",
    "plt.legend(bbox_to_anchor=(1.02, 1), loc='upper left', borderaxespad=0)"
   ]
  },
  {
   "cell_type": "code",
   "execution_count": 19,
   "metadata": {},
   "outputs": [
    {
     "name": "stdout",
     "output_type": "stream",
     "text": [
      "48/48 [==============================] - 0s 2ms/step\n",
      "F1 Score 0.5415088887875056\n",
      "Accuracy 0.8845401174168297\n",
      "[0.69243323802948, 0.5164254903793335] [0.6776678562164307, 0.8845401406288147]\n"
     ]
    }
   ],
   "source": [
    "from keras.models import load_model\n",
    "saved_model = load_model('best_model.h5')\n",
    "\n",
    "#Predictions\n",
    "prediction_values = saved_model.predict(X_test)\n",
    "# Convert into classes \n",
    "prediction_best = []\n",
    "for i in prediction_values:\n",
    "    prediction_best.append(np.where(i > 0.5, 1,0)[0])\n",
    "\n",
    "print(f\"F1 Score {f1_score(y_test, prediction_best, average='macro')}\")\n",
    "print(f\"Accuracy {accuracy_score(y_test, prediction_best)}\")\n",
    "\n",
    "train_acc = saved_model.evaluate(X_train, y_train, verbose=0)\n",
    "test_acc = saved_model.evaluate(X_test, y_test, verbose=0)\n",
    "print(train_acc, test_acc)"
   ]
  },
  {
   "cell_type": "code",
   "execution_count": 12,
   "metadata": {},
   "outputs": [
    {
     "name": "stdout",
     "output_type": "stream",
     "text": [
      "48/48 [==============================] - 0s 2ms/step\n"
     ]
    }
   ],
   "source": [
    "#Predictions\n",
    "prediction_values = model.predict(X_test)\n",
    "# Convert into classes \n",
    "prediction = []\n",
    "for i in prediction_values:\n",
    "    prediction.append(np.where(i > 0.5, 1,0)[0])\n",
    "    "
   ]
  },
  {
   "cell_type": "code",
   "execution_count": 17,
   "metadata": {},
   "outputs": [
    {
     "name": "stdout",
     "output_type": "stream",
     "text": [
      "F1 Score 0.5354289914936815\n",
      "Accuracy 0.8023483365949119\n"
     ]
    }
   ],
   "source": [
    "# Prediction on the last model not the best\n",
    "print(f\"F1 Score {f1_score(y_test, prediction, average='macro')}\")\n",
    "print(f\"Accuracy {accuracy_score(y_test, prediction)}\")"
   ]
  },
  {
   "cell_type": "code",
   "execution_count": 20,
   "metadata": {},
   "outputs": [
    {
     "name": "stdout",
     "output_type": "stream",
     "text": [
      "              precision    recall  f1-score   support\n",
      "\n",
      "           0       0.96      0.92      0.94      1458\n",
      "           1       0.11      0.20      0.14        75\n",
      "\n",
      "    accuracy                           0.88      1533\n",
      "   macro avg       0.54      0.56      0.54      1533\n",
      "weighted avg       0.92      0.88      0.90      1533\n",
      "\n",
      "\n",
      "[[1341  117]\n",
      " [  60   15]]\n"
     ]
    }
   ],
   "source": [
    "from sklearn.metrics import classification_report, confusion_matrix\n",
    "print(classification_report(y_test,prediction_best))\n",
    "print()\n",
    "cf = confusion_matrix(y_test,prediction_best)\n",
    "print(cf)"
   ]
  },
  {
   "cell_type": "code",
   "execution_count": 21,
   "metadata": {},
   "outputs": [
    {
     "data": {
      "text/plain": [
       "<AxesSubplot:>"
      ]
     },
     "execution_count": 21,
     "metadata": {},
     "output_type": "execute_result"
    },
    {
     "data": {
      "image/png": "[encoded data removed]",
      "text/plain": [
       "<Figure size 432x288 with 2 Axes>"
      ]
     },
     "metadata": {
      "needs_background": "light"
     },
     "output_type": "display_data"
    }
   ],
   "source": [
    "import seaborn as sns\n",
    "sns.heatmap(cf, annot=True)"
   ]
  },
  {
   "cell_type": "markdown",
   "metadata": {},
   "source": [
    "### XGBoost"
   ]
  },
  {
   "cell_type": "code",
   "execution_count": 22,
   "metadata": {},
   "outputs": [
    {
     "name": "stdout",
     "output_type": "stream",
     "text": [
      "F1 Score 0.5541095890410959\n",
      "Accuracy 0.9191128506196999\n",
      "              precision    recall  f1-score   support\n",
      "\n",
      "           0       0.96      0.96      0.96      1458\n",
      "           1       0.15      0.15      0.15        75\n",
      "\n",
      "    accuracy                           0.92      1533\n",
      "   macro avg       0.56      0.55      0.55      1533\n",
      "weighted avg       0.92      0.92      0.92      1533\n",
      "\n",
      "\n",
      "[[1398   60]\n",
      " [  64   11]]\n"
     ]
    }
   ],
   "source": [
    "from xgboost import XGBClassifier\n",
    "XGB = XGBClassifier(eval_metric= 'error')\n",
    "XGB.fit(X_train, y_train)\n",
    "y_pred = XGB.predict(X_test)\n",
    "print(f\"F1 Score {f1_score(y_test, y_pred, average='macro')}\")\n",
    "print(f\"Accuracy {accuracy_score(y_test, y_pred)}\")\n",
    "print(classification_report(y_test,y_pred))\n",
    "print()\n",
    "cf = confusion_matrix(y_test,y_pred)\n",
    "print(cf)"
   ]
  },
  {
   "cell_type": "code",
   "execution_count": 23,
   "metadata": {},
   "outputs": [
    {
     "data": {
      "text/plain": [
       "<AxesSubplot:>"
      ]
     },
     "execution_count": 23,
     "metadata": {},
     "output_type": "execute_result"
    },
    {
     "data": {
      "image/png": "[encoded data removed]",
      "text/plain": [
       "<Figure size 432x288 with 2 Axes>"
      ]
     },
     "metadata": {
      "needs_background": "light"
     },
     "output_type": "display_data"
    }
   ],
   "source": [
    "sns.heatmap(cf, annot = True)"
   ]
  },
  {
   "cell_type": "markdown",
   "metadata": {},
   "source": [
    "### Random Forest"
   ]
  },
  {
   "cell_type": "code",
   "execution_count": 24,
   "metadata": {},
   "outputs": [
    {
     "name": "stdout",
     "output_type": "stream",
     "text": [
      "F1 Score 0.5053451178451178\n",
      "Accuracy 0.9399869536855838\n",
      "              precision    recall  f1-score   support\n",
      "\n",
      "           0       0.95      0.99      0.97      1458\n",
      "           1       0.10      0.03      0.04        75\n",
      "\n",
      "    accuracy                           0.94      1533\n",
      "   macro avg       0.52      0.51      0.51      1533\n",
      "weighted avg       0.91      0.94      0.92      1533\n",
      "\n",
      "\n"
     ]
    }
   ],
   "source": [
    "rf = RandomForestClassifier()\n",
    "rf.fit(X_train, y_train)\n",
    "y_pred = rf.predict(X_test)\n",
    "print(f\"F1 Score {f1_score(y_test, y_pred, average='macro')}\")\n",
    "print(f\"Accuracy {accuracy_score(y_test, y_pred)}\")\n",
    "print(classification_report(y_test,y_pred))\n",
    "print()\n",
    "cf = confusion_matrix(y_test,y_pred)"
   ]
  },
  {
   "cell_type": "code",
   "execution_count": 25,
   "metadata": {},
   "outputs": [
    {
     "data": {
      "text/plain": [
       "<AxesSubplot:>"
      ]
     },
     "execution_count": 25,
     "metadata": {},
     "output_type": "execute_result"
    },
    {
     "data": {
      "image/png": "[encoded data removed]",
      "text/plain": [
       "<Figure size 432x288 with 2 Axes>"
      ]
     },
     "metadata": {
      "needs_background": "light"
     },
     "output_type": "display_data"
    }
   ],
   "source": [
    "sns.heatmap(cf, annot = True)"
   ]
  }
 ],
 "metadata": {
  "interpreter": {
   "hash": "dbdd60645814b7938868bfb90c8a35d95b726a4da71410a39dd51595e66f716c"
  },
  "kernelspec": {
   "display_name": "Python 3.8.13 ('datascience')",
   "language": "python",
   "name": "python3"
  },
  "language_info": {
   "codemirror_mode": {
    "name": "ipython",
    "version": 3
   },
   "file_extension": ".py",
   "mimetype": "text/x-python",
   "name": "python",
   "nbconvert_exporter": "python",
   "pygments_lexer": "ipython3",
   "version": "3.8.13"
  },
  "orig_nbformat": 4
 },
 "nbformat": 4,
 "nbformat_minor": 2
}
