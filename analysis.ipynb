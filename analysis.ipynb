{
 "cells": [
  {
   "cell_type": "markdown",
   "metadata": {},
   "source": [
    "# Data Analysis\n",
    "### Predictive modelling of stroke occurences"
   ]
  },
  {
   "cell_type": "markdown",
   "metadata": {},
   "source": [
    "Import libraries"
   ]
  },
  {
   "cell_type": "code",
   "execution_count": 161,
   "metadata": {},
   "outputs": [],
   "source": [
    "import pandas as pd\n",
    "from utils import DataLoader\n",
    "import matplotlib.pyplot as plt\n",
    "import seaborn as sns\n",
    "import numpy as np\n",
    "from sklearn.ensemble import RandomForestClassifier\n",
    "from sklearn.metrics import f1_score, accuracy_score"
   ]
  },
  {
   "cell_type": "markdown",
   "metadata": {},
   "source": [
    "Load data"
   ]
  },
  {
   "cell_type": "code",
   "execution_count": 162,
   "metadata": {},
   "outputs": [],
   "source": [
    "data_loader = DataLoader(\"healthcare-dataset-stroke-data.csv\")\n",
    "data_loader.load_dataset()"
   ]
  },
  {
   "cell_type": "markdown",
   "metadata": {},
   "source": [
    "# Preprocess data\n",
    "- Using the preprocessing pipeline from Utils based on the findings from the data exploration \n",
    "- Oversample to account for the imbalance in the data set"
   ]
  },
  {
   "cell_type": "code",
   "execution_count": 163,
   "metadata": {},
   "outputs": [
    {
     "name": "stdout",
     "output_type": "stream",
     "text": [
      "(4087, 20)\n",
      "(2043, 20)\n",
      "(2044, 20)\n",
      "After oversampling: (7778, 20)\n"
     ]
    }
   ],
   "source": [
    "data_loader.preprocess_data()\n",
    "# Split the data for testing and training\n",
    "X_train, X_test, y_train, y_test, X_val, y_val = data_loader.get_data_split()\n",
    "print(X_train.shape)\n",
    "print(X_test.shape)\n",
    "print(X_val.shape)\n",
    "\n",
    "# Oversample the train data \n",
    "X_train, y_train = data_loader.oversample(X_train, y_train)\n",
    "print(\"After oversampling:\", X_train.shape)"
   ]
  },
  {
   "cell_type": "code",
   "execution_count": 164,
   "metadata": {},
   "outputs": [
    {
     "data": {
      "text/html": [
       "<div>\n",
       "<style scoped>\n",
       "    .dataframe tbody tr th:only-of-type {\n",
       "        vertical-align: middle;\n",
       "    }\n",
       "\n",
       "    .dataframe tbody tr th {\n",
       "        vertical-align: top;\n",
       "    }\n",
       "\n",
       "    .dataframe thead th {\n",
       "        text-align: right;\n",
       "    }\n",
       "</style>\n",
       "<table border=\"1\" class=\"dataframe\">\n",
       "  <thead>\n",
       "    <tr style=\"text-align: right;\">\n",
       "      <th></th>\n",
       "      <th>gender_Female</th>\n",
       "      <th>gender_Male</th>\n",
       "      <th>ever_married_No</th>\n",
       "      <th>ever_married_Yes</th>\n",
       "      <th>work_type_Govt_job</th>\n",
       "      <th>work_type_Never_worked</th>\n",
       "      <th>work_type_Private</th>\n",
       "      <th>work_type_Self-employed</th>\n",
       "      <th>work_type_children</th>\n",
       "      <th>Residence_type_Rural</th>\n",
       "      <th>Residence_type_Urban</th>\n",
       "      <th>smoking_status_Unknown</th>\n",
       "      <th>smoking_status_formerly smoked</th>\n",
       "      <th>smoking_status_never smoked</th>\n",
       "      <th>smoking_status_smokes</th>\n",
       "      <th>age</th>\n",
       "      <th>hypertension</th>\n",
       "      <th>heart_disease</th>\n",
       "      <th>avg_glucose_level</th>\n",
       "      <th>bmi</th>\n",
       "    </tr>\n",
       "  </thead>\n",
       "  <tbody>\n",
       "    <tr>\n",
       "      <th>0</th>\n",
       "      <td>1.0</td>\n",
       "      <td>0.0</td>\n",
       "      <td>0.0</td>\n",
       "      <td>1.0</td>\n",
       "      <td>0.0</td>\n",
       "      <td>0.0</td>\n",
       "      <td>1.0</td>\n",
       "      <td>0.0</td>\n",
       "      <td>0.0</td>\n",
       "      <td>0.0</td>\n",
       "      <td>1.0</td>\n",
       "      <td>1.0</td>\n",
       "      <td>0.0</td>\n",
       "      <td>0.0</td>\n",
       "      <td>0.0</td>\n",
       "      <td>40.0</td>\n",
       "      <td>0.0</td>\n",
       "      <td>0.0</td>\n",
       "      <td>153.24</td>\n",
       "      <td>38.2</td>\n",
       "    </tr>\n",
       "    <tr>\n",
       "      <th>1</th>\n",
       "      <td>0.0</td>\n",
       "      <td>1.0</td>\n",
       "      <td>0.0</td>\n",
       "      <td>1.0</td>\n",
       "      <td>0.0</td>\n",
       "      <td>0.0</td>\n",
       "      <td>0.0</td>\n",
       "      <td>1.0</td>\n",
       "      <td>0.0</td>\n",
       "      <td>0.0</td>\n",
       "      <td>1.0</td>\n",
       "      <td>0.0</td>\n",
       "      <td>0.0</td>\n",
       "      <td>0.0</td>\n",
       "      <td>1.0</td>\n",
       "      <td>63.0</td>\n",
       "      <td>0.0</td>\n",
       "      <td>0.0</td>\n",
       "      <td>248.37</td>\n",
       "      <td>32.2</td>\n",
       "    </tr>\n",
       "    <tr>\n",
       "      <th>2</th>\n",
       "      <td>1.0</td>\n",
       "      <td>0.0</td>\n",
       "      <td>1.0</td>\n",
       "      <td>0.0</td>\n",
       "      <td>0.0</td>\n",
       "      <td>0.0</td>\n",
       "      <td>1.0</td>\n",
       "      <td>0.0</td>\n",
       "      <td>0.0</td>\n",
       "      <td>1.0</td>\n",
       "      <td>0.0</td>\n",
       "      <td>1.0</td>\n",
       "      <td>0.0</td>\n",
       "      <td>0.0</td>\n",
       "      <td>0.0</td>\n",
       "      <td>27.0</td>\n",
       "      <td>0.0</td>\n",
       "      <td>0.0</td>\n",
       "      <td>226.75</td>\n",
       "      <td>28.9</td>\n",
       "    </tr>\n",
       "    <tr>\n",
       "      <th>3</th>\n",
       "      <td>1.0</td>\n",
       "      <td>0.0</td>\n",
       "      <td>0.0</td>\n",
       "      <td>1.0</td>\n",
       "      <td>0.0</td>\n",
       "      <td>0.0</td>\n",
       "      <td>0.0</td>\n",
       "      <td>1.0</td>\n",
       "      <td>0.0</td>\n",
       "      <td>0.0</td>\n",
       "      <td>1.0</td>\n",
       "      <td>0.0</td>\n",
       "      <td>0.0</td>\n",
       "      <td>0.0</td>\n",
       "      <td>1.0</td>\n",
       "      <td>39.0</td>\n",
       "      <td>0.0</td>\n",
       "      <td>0.0</td>\n",
       "      <td>82.85</td>\n",
       "      <td>22.9</td>\n",
       "    </tr>\n",
       "    <tr>\n",
       "      <th>4</th>\n",
       "      <td>1.0</td>\n",
       "      <td>0.0</td>\n",
       "      <td>0.0</td>\n",
       "      <td>1.0</td>\n",
       "      <td>0.0</td>\n",
       "      <td>0.0</td>\n",
       "      <td>1.0</td>\n",
       "      <td>0.0</td>\n",
       "      <td>0.0</td>\n",
       "      <td>1.0</td>\n",
       "      <td>0.0</td>\n",
       "      <td>0.0</td>\n",
       "      <td>0.0</td>\n",
       "      <td>1.0</td>\n",
       "      <td>0.0</td>\n",
       "      <td>42.0</td>\n",
       "      <td>0.0</td>\n",
       "      <td>0.0</td>\n",
       "      <td>108.96</td>\n",
       "      <td>27.5</td>\n",
       "    </tr>\n",
       "    <tr>\n",
       "      <th>...</th>\n",
       "      <td>...</td>\n",
       "      <td>...</td>\n",
       "      <td>...</td>\n",
       "      <td>...</td>\n",
       "      <td>...</td>\n",
       "      <td>...</td>\n",
       "      <td>...</td>\n",
       "      <td>...</td>\n",
       "      <td>...</td>\n",
       "      <td>...</td>\n",
       "      <td>...</td>\n",
       "      <td>...</td>\n",
       "      <td>...</td>\n",
       "      <td>...</td>\n",
       "      <td>...</td>\n",
       "      <td>...</td>\n",
       "      <td>...</td>\n",
       "      <td>...</td>\n",
       "      <td>...</td>\n",
       "      <td>...</td>\n",
       "    </tr>\n",
       "    <tr>\n",
       "      <th>7773</th>\n",
       "      <td>1.0</td>\n",
       "      <td>0.0</td>\n",
       "      <td>0.0</td>\n",
       "      <td>1.0</td>\n",
       "      <td>1.0</td>\n",
       "      <td>0.0</td>\n",
       "      <td>0.0</td>\n",
       "      <td>0.0</td>\n",
       "      <td>0.0</td>\n",
       "      <td>0.0</td>\n",
       "      <td>1.0</td>\n",
       "      <td>0.0</td>\n",
       "      <td>0.0</td>\n",
       "      <td>1.0</td>\n",
       "      <td>0.0</td>\n",
       "      <td>69.0</td>\n",
       "      <td>0.0</td>\n",
       "      <td>0.0</td>\n",
       "      <td>82.81</td>\n",
       "      <td>28.0</td>\n",
       "    </tr>\n",
       "    <tr>\n",
       "      <th>7774</th>\n",
       "      <td>1.0</td>\n",
       "      <td>0.0</td>\n",
       "      <td>0.0</td>\n",
       "      <td>1.0</td>\n",
       "      <td>0.0</td>\n",
       "      <td>0.0</td>\n",
       "      <td>1.0</td>\n",
       "      <td>0.0</td>\n",
       "      <td>0.0</td>\n",
       "      <td>0.0</td>\n",
       "      <td>1.0</td>\n",
       "      <td>0.0</td>\n",
       "      <td>1.0</td>\n",
       "      <td>0.0</td>\n",
       "      <td>0.0</td>\n",
       "      <td>63.0</td>\n",
       "      <td>0.0</td>\n",
       "      <td>0.0</td>\n",
       "      <td>90.90</td>\n",
       "      <td>28.1</td>\n",
       "    </tr>\n",
       "    <tr>\n",
       "      <th>7775</th>\n",
       "      <td>0.0</td>\n",
       "      <td>1.0</td>\n",
       "      <td>0.0</td>\n",
       "      <td>1.0</td>\n",
       "      <td>0.0</td>\n",
       "      <td>0.0</td>\n",
       "      <td>0.0</td>\n",
       "      <td>1.0</td>\n",
       "      <td>0.0</td>\n",
       "      <td>1.0</td>\n",
       "      <td>0.0</td>\n",
       "      <td>0.0</td>\n",
       "      <td>0.0</td>\n",
       "      <td>1.0</td>\n",
       "      <td>0.0</td>\n",
       "      <td>80.0</td>\n",
       "      <td>0.0</td>\n",
       "      <td>0.0</td>\n",
       "      <td>104.12</td>\n",
       "      <td>23.5</td>\n",
       "    </tr>\n",
       "    <tr>\n",
       "      <th>7776</th>\n",
       "      <td>0.0</td>\n",
       "      <td>1.0</td>\n",
       "      <td>0.0</td>\n",
       "      <td>1.0</td>\n",
       "      <td>0.0</td>\n",
       "      <td>0.0</td>\n",
       "      <td>1.0</td>\n",
       "      <td>0.0</td>\n",
       "      <td>0.0</td>\n",
       "      <td>1.0</td>\n",
       "      <td>0.0</td>\n",
       "      <td>0.0</td>\n",
       "      <td>1.0</td>\n",
       "      <td>0.0</td>\n",
       "      <td>0.0</td>\n",
       "      <td>66.0</td>\n",
       "      <td>0.0</td>\n",
       "      <td>0.0</td>\n",
       "      <td>76.46</td>\n",
       "      <td>21.2</td>\n",
       "    </tr>\n",
       "    <tr>\n",
       "      <th>7777</th>\n",
       "      <td>0.0</td>\n",
       "      <td>1.0</td>\n",
       "      <td>0.0</td>\n",
       "      <td>1.0</td>\n",
       "      <td>0.0</td>\n",
       "      <td>0.0</td>\n",
       "      <td>1.0</td>\n",
       "      <td>0.0</td>\n",
       "      <td>0.0</td>\n",
       "      <td>0.0</td>\n",
       "      <td>1.0</td>\n",
       "      <td>0.0</td>\n",
       "      <td>1.0</td>\n",
       "      <td>0.0</td>\n",
       "      <td>0.0</td>\n",
       "      <td>66.0</td>\n",
       "      <td>0.0</td>\n",
       "      <td>0.0</td>\n",
       "      <td>151.16</td>\n",
       "      <td>27.5</td>\n",
       "    </tr>\n",
       "  </tbody>\n",
       "</table>\n",
       "<p>7778 rows × 20 columns</p>\n",
       "</div>"
      ],
      "text/plain": [
       "      gender_Female  gender_Male  ever_married_No  ever_married_Yes  \\\n",
       "0               1.0          0.0              0.0               1.0   \n",
       "1               0.0          1.0              0.0               1.0   \n",
       "2               1.0          0.0              1.0               0.0   \n",
       "3               1.0          0.0              0.0               1.0   \n",
       "4               1.0          0.0              0.0               1.0   \n",
       "...             ...          ...              ...               ...   \n",
       "7773            1.0          0.0              0.0               1.0   \n",
       "7774            1.0          0.0              0.0               1.0   \n",
       "7775            0.0          1.0              0.0               1.0   \n",
       "7776            0.0          1.0              0.0               1.0   \n",
       "7777            0.0          1.0              0.0               1.0   \n",
       "\n",
       "      work_type_Govt_job  work_type_Never_worked  work_type_Private  \\\n",
       "0                    0.0                     0.0                1.0   \n",
       "1                    0.0                     0.0                0.0   \n",
       "2                    0.0                     0.0                1.0   \n",
       "3                    0.0                     0.0                0.0   \n",
       "4                    0.0                     0.0                1.0   \n",
       "...                  ...                     ...                ...   \n",
       "7773                 1.0                     0.0                0.0   \n",
       "7774                 0.0                     0.0                1.0   \n",
       "7775                 0.0                     0.0                0.0   \n",
       "7776                 0.0                     0.0                1.0   \n",
       "7777                 0.0                     0.0                1.0   \n",
       "\n",
       "      work_type_Self-employed  work_type_children  Residence_type_Rural  \\\n",
       "0                         0.0                 0.0                   0.0   \n",
       "1                         1.0                 0.0                   0.0   \n",
       "2                         0.0                 0.0                   1.0   \n",
       "3                         1.0                 0.0                   0.0   \n",
       "4                         0.0                 0.0                   1.0   \n",
       "...                       ...                 ...                   ...   \n",
       "7773                      0.0                 0.0                   0.0   \n",
       "7774                      0.0                 0.0                   0.0   \n",
       "7775                      1.0                 0.0                   1.0   \n",
       "7776                      0.0                 0.0                   1.0   \n",
       "7777                      0.0                 0.0                   0.0   \n",
       "\n",
       "      Residence_type_Urban  smoking_status_Unknown  \\\n",
       "0                      1.0                     1.0   \n",
       "1                      1.0                     0.0   \n",
       "2                      0.0                     1.0   \n",
       "3                      1.0                     0.0   \n",
       "4                      0.0                     0.0   \n",
       "...                    ...                     ...   \n",
       "7773                   1.0                     0.0   \n",
       "7774                   1.0                     0.0   \n",
       "7775                   0.0                     0.0   \n",
       "7776                   0.0                     0.0   \n",
       "7777                   1.0                     0.0   \n",
       "\n",
       "      smoking_status_formerly smoked  smoking_status_never smoked  \\\n",
       "0                                0.0                          0.0   \n",
       "1                                0.0                          0.0   \n",
       "2                                0.0                          0.0   \n",
       "3                                0.0                          0.0   \n",
       "4                                0.0                          1.0   \n",
       "...                              ...                          ...   \n",
       "7773                             0.0                          1.0   \n",
       "7774                             1.0                          0.0   \n",
       "7775                             0.0                          1.0   \n",
       "7776                             1.0                          0.0   \n",
       "7777                             1.0                          0.0   \n",
       "\n",
       "      smoking_status_smokes   age  hypertension  heart_disease  \\\n",
       "0                       0.0  40.0           0.0            0.0   \n",
       "1                       1.0  63.0           0.0            0.0   \n",
       "2                       0.0  27.0           0.0            0.0   \n",
       "3                       1.0  39.0           0.0            0.0   \n",
       "4                       0.0  42.0           0.0            0.0   \n",
       "...                     ...   ...           ...            ...   \n",
       "7773                    0.0  69.0           0.0            0.0   \n",
       "7774                    0.0  63.0           0.0            0.0   \n",
       "7775                    0.0  80.0           0.0            0.0   \n",
       "7776                    0.0  66.0           0.0            0.0   \n",
       "7777                    0.0  66.0           0.0            0.0   \n",
       "\n",
       "      avg_glucose_level   bmi  \n",
       "0                153.24  38.2  \n",
       "1                248.37  32.2  \n",
       "2                226.75  28.9  \n",
       "3                 82.85  22.9  \n",
       "4                108.96  27.5  \n",
       "...                 ...   ...  \n",
       "7773              82.81  28.0  \n",
       "7774              90.90  28.1  \n",
       "7775             104.12  23.5  \n",
       "7776              76.46  21.2  \n",
       "7777             151.16  27.5  \n",
       "\n",
       "[7778 rows x 20 columns]"
      ]
     },
     "execution_count": 164,
     "metadata": {},
     "output_type": "execute_result"
    }
   ],
   "source": [
    "X_train"
   ]
  },
  {
   "cell_type": "markdown",
   "metadata": {},
   "source": [
    "## Fit models\n",
    "- ANN\n",
    "- Random Forest\n",
    "- XGBoost"
   ]
  },
  {
   "cell_type": "markdown",
   "metadata": {},
   "source": [
    "### ANN"
   ]
  },
  {
   "cell_type": "code",
   "execution_count": 165,
   "metadata": {},
   "outputs": [],
   "source": [
    "#Scale and Fit the data\n",
    "# Scaling is needed which it is not for random forest or XGBoost\n",
    "from sklearn.preprocessing import StandardScaler\n",
    "scaler = StandardScaler()\n",
    "X_train = scaler.fit_transform(X_train)\n",
    "X_test = scaler.transform(X_test)\n",
    "X_val = scaler.transform(X_val)"
   ]
  },
  {
   "cell_type": "code",
   "execution_count": 166,
   "metadata": {},
   "outputs": [],
   "source": [
    "import tensorflow as tf\n",
    "from tensorflow.keras.models import Sequential\n",
    "from tensorflow.keras.layers import Dense, Activation,Dropout\n",
    "from tensorflow.keras.callbacks import EarlyStopping, ModelCheckpoint\n",
    "# For reproducebility\n",
    "tf.random.set_seed(2)"
   ]
  },
  {
   "cell_type": "code",
   "execution_count": 192,
   "metadata": {},
   "outputs": [],
   "source": [
    "#ANN MODEL\n",
    "model = Sequential()\n",
    "\n",
    "model.add(Dense(units = 14, activation = 'relu'))\n",
    "model.add(Dropout(.3))\n",
    "model.add(Dense(units = 7, activation = 'relu'))\n",
    "model.add(Dropout(.3))\n",
    "model.add(Dense(units = 3, activation = 'relu'))\n",
    "model.add(Dropout(.3))\n",
    "model.add(Dense(units = 1, activation = 'sigmoid'))\n",
    "\n",
    "model.compile(loss = 'binary_crossentropy', optimizer = 'adam', metrics = 'accuracy') # adam or SGD"
   ]
  },
  {
   "cell_type": "code",
   "execution_count": 193,
   "metadata": {},
   "outputs": [],
   "source": [
    "#stops when validation loss is not dropping for 3 epochs\n",
    "#early_stop = EarlyStopping(monitor = 'val_loss', mode = 'min', patience = 10, verbose = 1)\n",
    "# Rule of thumb, patience is 10% of the number of epochs \n",
    "# We need to save the model \n",
    "callbacks = [EarlyStopping(monitor='val_loss', patience=10),\n",
    "             ModelCheckpoint(filepath='best_model.h5', monitor='val_loss', save_best_only=True)]"
   ]
  },
  {
   "cell_type": "code",
   "execution_count": 194,
   "metadata": {},
   "outputs": [
    {
     "name": "stdout",
     "output_type": "stream",
     "text": [
      "Epoch 1/150\n",
      "260/260 [==============================] - 2s 4ms/step - loss: 0.6832 - accuracy: 0.5360 - val_loss: 0.6173 - val_accuracy: 0.3816\n",
      "Epoch 2/150\n",
      "260/260 [==============================] - 1s 3ms/step - loss: 0.6541 - accuracy: 0.5926 - val_loss: 0.5935 - val_accuracy: 0.4354\n",
      "Epoch 3/150\n",
      "260/260 [==============================] - 1s 3ms/step - loss: 0.6328 - accuracy: 0.6233 - val_loss: 0.5490 - val_accuracy: 0.6111\n",
      "Epoch 4/150\n",
      "260/260 [==============================] - 1s 3ms/step - loss: 0.5919 - accuracy: 0.6857 - val_loss: 0.4615 - val_accuracy: 0.6654\n",
      "Epoch 5/150\n",
      "260/260 [==============================] - 1s 3ms/step - loss: 0.5850 - accuracy: 0.6998 - val_loss: 0.4410 - val_accuracy: 0.6859\n",
      "Epoch 6/150\n",
      "260/260 [==============================] - 1s 2ms/step - loss: 0.5661 - accuracy: 0.7137 - val_loss: 0.4529 - val_accuracy: 0.6737\n",
      "Epoch 7/150\n",
      "260/260 [==============================] - 1s 2ms/step - loss: 0.5433 - accuracy: 0.7287 - val_loss: 0.4681 - val_accuracy: 0.7016\n",
      "Epoch 8/150\n",
      "260/260 [==============================] - 1s 3ms/step - loss: 0.5275 - accuracy: 0.7343 - val_loss: 0.4422 - val_accuracy: 0.7250\n",
      "Epoch 9/150\n",
      "260/260 [==============================] - 1s 3ms/step - loss: 0.5223 - accuracy: 0.7411 - val_loss: 0.4439 - val_accuracy: 0.7138\n",
      "Epoch 10/150\n",
      "260/260 [==============================] - 1s 4ms/step - loss: 0.5162 - accuracy: 0.7384 - val_loss: 0.4349 - val_accuracy: 0.7206\n",
      "Epoch 11/150\n",
      "260/260 [==============================] - 1s 4ms/step - loss: 0.5091 - accuracy: 0.7480 - val_loss: 0.4233 - val_accuracy: 0.7304\n",
      "Epoch 12/150\n",
      "260/260 [==============================] - 1s 3ms/step - loss: 0.5009 - accuracy: 0.7510 - val_loss: 0.4350 - val_accuracy: 0.7148\n",
      "Epoch 13/150\n",
      "260/260 [==============================] - 1s 3ms/step - loss: 0.4942 - accuracy: 0.7546 - val_loss: 0.4274 - val_accuracy: 0.7167\n",
      "Epoch 14/150\n",
      "260/260 [==============================] - 1s 3ms/step - loss: 0.4945 - accuracy: 0.7596 - val_loss: 0.4255 - val_accuracy: 0.7172\n",
      "Epoch 15/150\n",
      "260/260 [==============================] - 1s 3ms/step - loss: 0.4837 - accuracy: 0.7639 - val_loss: 0.4109 - val_accuracy: 0.7299\n",
      "Epoch 16/150\n",
      "260/260 [==============================] - 1s 3ms/step - loss: 0.4927 - accuracy: 0.7544 - val_loss: 0.4031 - val_accuracy: 0.7280\n",
      "Epoch 17/150\n",
      "260/260 [==============================] - 1s 3ms/step - loss: 0.4838 - accuracy: 0.7616 - val_loss: 0.4120 - val_accuracy: 0.7211\n",
      "Epoch 18/150\n",
      "260/260 [==============================] - 1s 4ms/step - loss: 0.4847 - accuracy: 0.7607 - val_loss: 0.4192 - val_accuracy: 0.7123\n",
      "Epoch 19/150\n",
      "260/260 [==============================] - 1s 3ms/step - loss: 0.4788 - accuracy: 0.7627 - val_loss: 0.4054 - val_accuracy: 0.7246\n",
      "Epoch 20/150\n",
      "260/260 [==============================] - 1s 3ms/step - loss: 0.4738 - accuracy: 0.7654 - val_loss: 0.4225 - val_accuracy: 0.7153\n",
      "Epoch 21/150\n",
      "260/260 [==============================] - 1s 3ms/step - loss: 0.4731 - accuracy: 0.7634 - val_loss: 0.4135 - val_accuracy: 0.7162\n",
      "Epoch 22/150\n",
      "260/260 [==============================] - 1s 3ms/step - loss: 0.4681 - accuracy: 0.7686 - val_loss: 0.3908 - val_accuracy: 0.7671\n",
      "Epoch 23/150\n",
      "260/260 [==============================] - 1s 3ms/step - loss: 0.4651 - accuracy: 0.7684 - val_loss: 0.3960 - val_accuracy: 0.7617\n",
      "Epoch 24/150\n",
      "260/260 [==============================] - 1s 3ms/step - loss: 0.4663 - accuracy: 0.7696 - val_loss: 0.3978 - val_accuracy: 0.7676\n",
      "Epoch 25/150\n",
      "260/260 [==============================] - 1s 3ms/step - loss: 0.4596 - accuracy: 0.7722 - val_loss: 0.4065 - val_accuracy: 0.7622\n",
      "Epoch 26/150\n",
      "260/260 [==============================] - 1s 3ms/step - loss: 0.4584 - accuracy: 0.7718 - val_loss: 0.3792 - val_accuracy: 0.7779\n",
      "Epoch 27/150\n",
      "260/260 [==============================] - 1s 3ms/step - loss: 0.4563 - accuracy: 0.7736 - val_loss: 0.3941 - val_accuracy: 0.7735\n",
      "Epoch 28/150\n",
      "260/260 [==============================] - 1s 3ms/step - loss: 0.4532 - accuracy: 0.7755 - val_loss: 0.3873 - val_accuracy: 0.7750\n",
      "Epoch 29/150\n",
      "260/260 [==============================] - 1s 3ms/step - loss: 0.4534 - accuracy: 0.7790 - val_loss: 0.3820 - val_accuracy: 0.7852\n",
      "Epoch 30/150\n",
      "260/260 [==============================] - 1s 3ms/step - loss: 0.4511 - accuracy: 0.7733 - val_loss: 0.3775 - val_accuracy: 0.7794\n",
      "Epoch 31/150\n",
      "260/260 [==============================] - 1s 3ms/step - loss: 0.4469 - accuracy: 0.7758 - val_loss: 0.3688 - val_accuracy: 0.7901\n",
      "Epoch 32/150\n",
      "260/260 [==============================] - 1s 3ms/step - loss: 0.4481 - accuracy: 0.7754 - val_loss: 0.3832 - val_accuracy: 0.7818\n",
      "Epoch 33/150\n",
      "260/260 [==============================] - 1s 3ms/step - loss: 0.4471 - accuracy: 0.7776 - val_loss: 0.3676 - val_accuracy: 0.7896\n",
      "Epoch 34/150\n",
      "260/260 [==============================] - 1s 3ms/step - loss: 0.4395 - accuracy: 0.7764 - val_loss: 0.3643 - val_accuracy: 0.7867\n",
      "Epoch 35/150\n",
      "260/260 [==============================] - 1s 3ms/step - loss: 0.4384 - accuracy: 0.7831 - val_loss: 0.3726 - val_accuracy: 0.7828\n",
      "Epoch 36/150\n",
      "260/260 [==============================] - 1s 3ms/step - loss: 0.4403 - accuracy: 0.7745 - val_loss: 0.3780 - val_accuracy: 0.7818\n",
      "Epoch 37/150\n",
      "260/260 [==============================] - 1s 3ms/step - loss: 0.4370 - accuracy: 0.7816 - val_loss: 0.3675 - val_accuracy: 0.7872\n",
      "Epoch 38/150\n",
      "260/260 [==============================] - 1s 3ms/step - loss: 0.4400 - accuracy: 0.7803 - val_loss: 0.3750 - val_accuracy: 0.7764\n",
      "Epoch 39/150\n",
      "260/260 [==============================] - 1s 3ms/step - loss: 0.4396 - accuracy: 0.7795 - val_loss: 0.3737 - val_accuracy: 0.7803\n",
      "Epoch 40/150\n",
      "260/260 [==============================] - 1s 3ms/step - loss: 0.4340 - accuracy: 0.7756 - val_loss: 0.3687 - val_accuracy: 0.7847\n",
      "Epoch 41/150\n",
      "260/260 [==============================] - 1s 3ms/step - loss: 0.4314 - accuracy: 0.7822 - val_loss: 0.3604 - val_accuracy: 0.7857\n",
      "Epoch 42/150\n",
      "260/260 [==============================] - 1s 3ms/step - loss: 0.4341 - accuracy: 0.7792 - val_loss: 0.3528 - val_accuracy: 0.7906\n",
      "Epoch 43/150\n",
      "260/260 [==============================] - 1s 3ms/step - loss: 0.4338 - accuracy: 0.7782 - val_loss: 0.3482 - val_accuracy: 0.7975\n",
      "Epoch 44/150\n",
      "260/260 [==============================] - 1s 3ms/step - loss: 0.4246 - accuracy: 0.7861 - val_loss: 0.3490 - val_accuracy: 0.7970\n",
      "Epoch 45/150\n",
      "260/260 [==============================] - 1s 3ms/step - loss: 0.4272 - accuracy: 0.7837 - val_loss: 0.3457 - val_accuracy: 0.7975\n",
      "Epoch 46/150\n",
      "260/260 [==============================] - 1s 3ms/step - loss: 0.4240 - accuracy: 0.7880 - val_loss: 0.3451 - val_accuracy: 0.7979\n",
      "Epoch 47/150\n",
      "260/260 [==============================] - 1s 3ms/step - loss: 0.4186 - accuracy: 0.7882 - val_loss: 0.3459 - val_accuracy: 0.7979\n",
      "Epoch 48/150\n",
      "260/260 [==============================] - 1s 3ms/step - loss: 0.4235 - accuracy: 0.7817 - val_loss: 0.3456 - val_accuracy: 0.7960\n",
      "Epoch 49/150\n",
      "260/260 [==============================] - 1s 3ms/step - loss: 0.4148 - accuracy: 0.7976 - val_loss: 0.3445 - val_accuracy: 0.8082\n",
      "Epoch 50/150\n",
      "260/260 [==============================] - 1s 3ms/step - loss: 0.4196 - accuracy: 0.7902 - val_loss: 0.3316 - val_accuracy: 0.8151\n",
      "Epoch 51/150\n",
      "260/260 [==============================] - 1s 3ms/step - loss: 0.4146 - accuracy: 0.7916 - val_loss: 0.3639 - val_accuracy: 0.7965\n",
      "Epoch 52/150\n",
      "260/260 [==============================] - 1s 3ms/step - loss: 0.4140 - accuracy: 0.7900 - val_loss: 0.3571 - val_accuracy: 0.7975\n",
      "Epoch 53/150\n",
      "260/260 [==============================] - 1s 3ms/step - loss: 0.4176 - accuracy: 0.7876 - val_loss: 0.3375 - val_accuracy: 0.8053\n",
      "Epoch 54/150\n",
      "260/260 [==============================] - 1s 3ms/step - loss: 0.4121 - accuracy: 0.7902 - val_loss: 0.3333 - val_accuracy: 0.8121\n",
      "Epoch 55/150\n",
      "260/260 [==============================] - 1s 3ms/step - loss: 0.4164 - accuracy: 0.7890 - val_loss: 0.3381 - val_accuracy: 0.8058\n",
      "Epoch 56/150\n",
      "260/260 [==============================] - 1s 3ms/step - loss: 0.4122 - accuracy: 0.7904 - val_loss: 0.3413 - val_accuracy: 0.8053\n",
      "Epoch 57/150\n",
      "260/260 [==============================] - 1s 3ms/step - loss: 0.4086 - accuracy: 0.7936 - val_loss: 0.3341 - val_accuracy: 0.8116\n",
      "Epoch 58/150\n",
      "260/260 [==============================] - 1s 3ms/step - loss: 0.4157 - accuracy: 0.7863 - val_loss: 0.3377 - val_accuracy: 0.8053\n",
      "Epoch 59/150\n",
      "260/260 [==============================] - 1s 3ms/step - loss: 0.4109 - accuracy: 0.7885 - val_loss: 0.3255 - val_accuracy: 0.8131\n",
      "Epoch 60/150\n",
      "260/260 [==============================] - 1s 3ms/step - loss: 0.4051 - accuracy: 0.7939 - val_loss: 0.3282 - val_accuracy: 0.8283\n",
      "Epoch 61/150\n",
      "260/260 [==============================] - 1s 3ms/step - loss: 0.4105 - accuracy: 0.7951 - val_loss: 0.3194 - val_accuracy: 0.8312\n",
      "Epoch 62/150\n",
      "260/260 [==============================] - 1s 3ms/step - loss: 0.4064 - accuracy: 0.7934 - val_loss: 0.3175 - val_accuracy: 0.8405\n",
      "Epoch 63/150\n",
      "260/260 [==============================] - 1s 3ms/step - loss: 0.4071 - accuracy: 0.8014 - val_loss: 0.3263 - val_accuracy: 0.8175\n",
      "Epoch 64/150\n",
      "260/260 [==============================] - 1s 3ms/step - loss: 0.4093 - accuracy: 0.7889 - val_loss: 0.3214 - val_accuracy: 0.7265\n",
      "Epoch 65/150\n",
      "260/260 [==============================] - 1s 3ms/step - loss: 0.4064 - accuracy: 0.7907 - val_loss: 0.3228 - val_accuracy: 0.7275\n",
      "Epoch 66/150\n",
      "260/260 [==============================] - 1s 3ms/step - loss: 0.4006 - accuracy: 0.7953 - val_loss: 0.3149 - val_accuracy: 0.8400\n",
      "Epoch 67/150\n",
      "260/260 [==============================] - 1s 3ms/step - loss: 0.4037 - accuracy: 0.7936 - val_loss: 0.3320 - val_accuracy: 0.7216\n",
      "Epoch 68/150\n",
      "260/260 [==============================] - 1s 3ms/step - loss: 0.4095 - accuracy: 0.7906 - val_loss: 0.3107 - val_accuracy: 0.7299\n",
      "Epoch 69/150\n",
      "260/260 [==============================] - 1s 2ms/step - loss: 0.3998 - accuracy: 0.7990 - val_loss: 0.3138 - val_accuracy: 0.7343\n",
      "Epoch 70/150\n",
      "260/260 [==============================] - 1s 2ms/step - loss: 0.4033 - accuracy: 0.7899 - val_loss: 0.3080 - val_accuracy: 0.7348\n",
      "Epoch 71/150\n",
      "260/260 [==============================] - 1s 3ms/step - loss: 0.3973 - accuracy: 0.7975 - val_loss: 0.3182 - val_accuracy: 0.7295\n",
      "Epoch 72/150\n",
      "260/260 [==============================] - 1s 3ms/step - loss: 0.3990 - accuracy: 0.7917 - val_loss: 0.3235 - val_accuracy: 0.7299\n",
      "Epoch 73/150\n",
      "260/260 [==============================] - 1s 3ms/step - loss: 0.4076 - accuracy: 0.7866 - val_loss: 0.3180 - val_accuracy: 0.7314\n",
      "Epoch 74/150\n",
      "260/260 [==============================] - 1s 3ms/step - loss: 0.4032 - accuracy: 0.7933 - val_loss: 0.3218 - val_accuracy: 0.7260\n",
      "Epoch 75/150\n",
      "260/260 [==============================] - 1s 3ms/step - loss: 0.4039 - accuracy: 0.7940 - val_loss: 0.3146 - val_accuracy: 0.7314\n",
      "Epoch 76/150\n",
      "260/260 [==============================] - 1s 3ms/step - loss: 0.3978 - accuracy: 0.7958 - val_loss: 0.3182 - val_accuracy: 0.7299\n",
      "Epoch 77/150\n",
      "260/260 [==============================] - 1s 3ms/step - loss: 0.4031 - accuracy: 0.7948 - val_loss: 0.3081 - val_accuracy: 0.7295\n",
      "Epoch 78/150\n",
      "260/260 [==============================] - 1s 3ms/step - loss: 0.3997 - accuracy: 0.7956 - val_loss: 0.3107 - val_accuracy: 0.7285\n",
      "Epoch 79/150\n",
      "260/260 [==============================] - 1s 3ms/step - loss: 0.4009 - accuracy: 0.7930 - val_loss: 0.3076 - val_accuracy: 0.7309\n",
      "Epoch 80/150\n",
      "260/260 [==============================] - 1s 3ms/step - loss: 0.4020 - accuracy: 0.7945 - val_loss: 0.3049 - val_accuracy: 0.7363\n",
      "Epoch 81/150\n",
      "260/260 [==============================] - 1s 3ms/step - loss: 0.4002 - accuracy: 0.7975 - val_loss: 0.3075 - val_accuracy: 0.7334\n",
      "Epoch 82/150\n",
      "260/260 [==============================] - 1s 3ms/step - loss: 0.3992 - accuracy: 0.7945 - val_loss: 0.3019 - val_accuracy: 0.8571\n",
      "Epoch 83/150\n",
      "260/260 [==============================] - 1s 3ms/step - loss: 0.3990 - accuracy: 0.7989 - val_loss: 0.2964 - val_accuracy: 0.8635\n",
      "Epoch 84/150\n",
      "260/260 [==============================] - 1s 2ms/step - loss: 0.4037 - accuracy: 0.7924 - val_loss: 0.3067 - val_accuracy: 0.8571\n",
      "Epoch 85/150\n",
      "260/260 [==============================] - 1s 2ms/step - loss: 0.4011 - accuracy: 0.7933 - val_loss: 0.3036 - val_accuracy: 0.8523\n",
      "Epoch 86/150\n",
      "260/260 [==============================] - 1s 2ms/step - loss: 0.3926 - accuracy: 0.7989 - val_loss: 0.3051 - val_accuracy: 0.7407\n",
      "Epoch 87/150\n",
      "260/260 [==============================] - 1s 3ms/step - loss: 0.3972 - accuracy: 0.7997 - val_loss: 0.3023 - val_accuracy: 0.8576\n",
      "Epoch 88/150\n",
      "260/260 [==============================] - 1s 3ms/step - loss: 0.3930 - accuracy: 0.8032 - val_loss: 0.3077 - val_accuracy: 0.8571\n",
      "Epoch 89/150\n",
      "260/260 [==============================] - 1s 3ms/step - loss: 0.3898 - accuracy: 0.8025 - val_loss: 0.2986 - val_accuracy: 0.8650\n",
      "Epoch 90/150\n",
      "260/260 [==============================] - 1s 3ms/step - loss: 0.3926 - accuracy: 0.7972 - val_loss: 0.3064 - val_accuracy: 0.8620\n",
      "Epoch 91/150\n",
      "260/260 [==============================] - 1s 3ms/step - loss: 0.3945 - accuracy: 0.7993 - val_loss: 0.2981 - val_accuracy: 0.8611\n",
      "Epoch 92/150\n",
      "260/260 [==============================] - 1s 3ms/step - loss: 0.3980 - accuracy: 0.7965 - val_loss: 0.2878 - val_accuracy: 0.8684\n",
      "Epoch 93/150\n",
      "260/260 [==============================] - 1s 3ms/step - loss: 0.3908 - accuracy: 0.8001 - val_loss: 0.3031 - val_accuracy: 0.8611\n",
      "Epoch 94/150\n",
      "260/260 [==============================] - 1s 3ms/step - loss: 0.3996 - accuracy: 0.7969 - val_loss: 0.3016 - val_accuracy: 0.8601\n",
      "Epoch 95/150\n",
      "260/260 [==============================] - 1s 3ms/step - loss: 0.3943 - accuracy: 0.7958 - val_loss: 0.2978 - val_accuracy: 0.7397\n",
      "Epoch 96/150\n",
      "260/260 [==============================] - 1s 3ms/step - loss: 0.3910 - accuracy: 0.8026 - val_loss: 0.3005 - val_accuracy: 0.8615\n",
      "Epoch 97/150\n",
      "260/260 [==============================] - 1s 3ms/step - loss: 0.4012 - accuracy: 0.7987 - val_loss: 0.2992 - val_accuracy: 0.8591\n",
      "Epoch 98/150\n",
      "260/260 [==============================] - 1s 3ms/step - loss: 0.3852 - accuracy: 0.8052 - val_loss: 0.2923 - val_accuracy: 0.8704\n",
      "Epoch 99/150\n",
      "260/260 [==============================] - 1s 3ms/step - loss: 0.3877 - accuracy: 0.8035 - val_loss: 0.2987 - val_accuracy: 0.7412\n",
      "Epoch 100/150\n",
      "260/260 [==============================] - 1s 3ms/step - loss: 0.3961 - accuracy: 0.8007 - val_loss: 0.3032 - val_accuracy: 0.7383\n",
      "Epoch 101/150\n",
      "260/260 [==============================] - 1s 3ms/step - loss: 0.3897 - accuracy: 0.8016 - val_loss: 0.2958 - val_accuracy: 0.7451\n",
      "Epoch 102/150\n",
      "260/260 [==============================] - 1s 3ms/step - loss: 0.3884 - accuracy: 0.8056 - val_loss: 0.2893 - val_accuracy: 0.8679\n"
     ]
    },
    {
     "data": {
      "text/plain": [
       "<keras.callbacks.History at 0x1b08db9afd0>"
      ]
     },
     "execution_count": 194,
     "metadata": {},
     "output_type": "execute_result"
    }
   ],
   "source": [
    "#Fitting model\n",
    "model.fit(X_train, y_train, \n",
    "          epochs = 150,\n",
    "         validation_data=(X_val, y_val),\n",
    "         verbose = 1, \n",
    "         callbacks=callbacks, batch_size=30)"
   ]
  },
  {
   "cell_type": "code",
   "execution_count": 195,
   "metadata": {},
   "outputs": [
    {
     "data": {
      "text/plain": [
       "<matplotlib.legend.Legend at 0x1b08dc24160>"
      ]
     },
     "execution_count": 195,
     "metadata": {},
     "output_type": "execute_result"
    },
    {
     "data": {
      "image/png": "[encoded data removed]",
      "text/plain": [
       "<Figure size 432x288 with 1 Axes>"
      ]
     },
     "metadata": {
      "needs_background": "light"
     },
     "output_type": "display_data"
    }
   ],
   "source": [
    "model_loss = pd.DataFrame(model.history.history)\n",
    "model_loss.plot()\n",
    "plt.legend(bbox_to_anchor=(1.02, 1), loc='upper left', borderaxespad=0)"
   ]
  },
  {
   "cell_type": "code",
   "execution_count": 196,
   "metadata": {},
   "outputs": [
    {
     "name": "stdout",
     "output_type": "stream",
     "text": [
      "64/64 [==============================] - 0s 2ms/step\n",
      "F1 Score 0.6537940124270383\n",
      "Accuracy 0.8590308370044053\n"
     ]
    }
   ],
   "source": [
    "from keras.models import load_model\n",
    "saved_model = load_model('best_model.h5')\n",
    "\n",
    "#Predictions\n",
    "prediction_values = saved_model.predict(X_test)\n",
    "# Convert into classes \n",
    "prediction_best = []\n",
    "for i in prediction_values:\n",
    "    prediction_best.append(np.where(i > 0.5, 1,0)[0])\n",
    "\n",
    "print(f\"F1 Score {f1_score(y_test, prediction_best, average='macro')}\")\n",
    "print(f\"Accuracy {accuracy_score(y_test, prediction_best)}\")"
   ]
  },
  {
   "cell_type": "code",
   "execution_count": 197,
   "metadata": {},
   "outputs": [
    {
     "name": "stdout",
     "output_type": "stream",
     "text": [
      "64/64 [==============================] - 0s 2ms/step\n"
     ]
    }
   ],
   "source": [
    "#Predictions\n",
    "prediction_values = model.predict(X_test)\n",
    "# Convert into classes \n",
    "prediction = []\n",
    "for i in prediction_values:\n",
    "    prediction.append(np.where(i > 0.5, 1,0)[0])\n",
    "    "
   ]
  },
  {
   "cell_type": "code",
   "execution_count": 198,
   "metadata": {},
   "outputs": [
    {
     "name": "stdout",
     "output_type": "stream",
     "text": [
      "F1 Score 0.6545087068133688\n",
      "Accuracy 0.8585413607440039\n"
     ]
    }
   ],
   "source": [
    "# Prediction on the last model not the best\n",
    "print(f\"F1 Score {f1_score(y_test, prediction, average='macro')}\")\n",
    "print(f\"Accuracy {accuracy_score(y_test, prediction)}\")"
   ]
  },
  {
   "cell_type": "code",
   "execution_count": 199,
   "metadata": {},
   "outputs": [
    {
     "name": "stdout",
     "output_type": "stream",
     "text": [
      "              precision    recall  f1-score   support\n",
      "\n",
      "           0       0.99      0.86      0.92      1935\n",
      "           1       0.25      0.84      0.39       108\n",
      "\n",
      "    accuracy                           0.86      2043\n",
      "   macro avg       0.62      0.85      0.65      2043\n",
      "weighted avg       0.95      0.86      0.89      2043\n",
      "\n",
      "\n",
      "[[1664  271]\n",
      " [  17   91]]\n"
     ]
    }
   ],
   "source": [
    "from sklearn.metrics import classification_report, confusion_matrix\n",
    "print(classification_report(y_test,prediction_best))\n",
    "print()\n",
    "cf = confusion_matrix(y_test,prediction_best)\n",
    "print(cf)"
   ]
  },
  {
   "cell_type": "code",
   "execution_count": 175,
   "metadata": {},
   "outputs": [
    {
     "data": {
      "text/plain": [
       "<AxesSubplot:>"
      ]
     },
     "execution_count": 175,
     "metadata": {},
     "output_type": "execute_result"
    },
    {
     "data": {
      "image/png": "[encoded data removed]",
      "text/plain": [
       "<Figure size 432x288 with 2 Axes>"
      ]
     },
     "metadata": {
      "needs_background": "light"
     },
     "output_type": "display_data"
    }
   ],
   "source": [
    "import seaborn as sns\n",
    "sns.heatmap(cf, annot=True)"
   ]
  },
  {
   "cell_type": "markdown",
   "metadata": {},
   "source": [
    "### XGBoost"
   ]
  },
  {
   "cell_type": "code",
   "execution_count": 176,
   "metadata": {},
   "outputs": [
    {
     "name": "stdout",
     "output_type": "stream",
     "text": [
      "F1 Score 0.9788344988344989\n",
      "Accuracy 0.9955947136563876\n",
      "              precision    recall  f1-score   support\n",
      "\n",
      "           0       1.00      1.00      1.00      1935\n",
      "           1       0.92      1.00      0.96       108\n",
      "\n",
      "    accuracy                           1.00      2043\n",
      "   macro avg       0.96      1.00      0.98      2043\n",
      "weighted avg       1.00      1.00      1.00      2043\n",
      "\n",
      "\n",
      "[[1926    9]\n",
      " [   0  108]]\n"
     ]
    }
   ],
   "source": [
    "from xgboost import XGBClassifier\n",
    "XGB = XGBClassifier(eval_metric= 'error')\n",
    "XGB.fit(X_train, y_train)\n",
    "y_pred = XGB.predict(X_test)\n",
    "print(f\"F1 Score {f1_score(y_test, y_pred, average='macro')}\")\n",
    "print(f\"Accuracy {accuracy_score(y_test, y_pred)}\")\n",
    "print(classification_report(y_test,y_pred))\n",
    "print()\n",
    "cf = confusion_matrix(y_test,y_pred)\n",
    "print(cf)"
   ]
  },
  {
   "cell_type": "code",
   "execution_count": 177,
   "metadata": {},
   "outputs": [
    {
     "data": {
      "text/plain": [
       "<AxesSubplot:>"
      ]
     },
     "execution_count": 177,
     "metadata": {},
     "output_type": "execute_result"
    },
    {
     "data": {
      "image/png": "[encoded data removed]",
      "text/plain": [
       "<Figure size 432x288 with 2 Axes>"
      ]
     },
     "metadata": {
      "needs_background": "light"
     },
     "output_type": "display_data"
    }
   ],
   "source": [
    "sns.heatmap(cf, annot = True)"
   ]
  },
  {
   "cell_type": "markdown",
   "metadata": {},
   "source": [
    "### Random Forest"
   ]
  },
  {
   "cell_type": "code",
   "execution_count": 178,
   "metadata": {},
   "outputs": [
    {
     "name": "stdout",
     "output_type": "stream",
     "text": [
      "F1 Score 1.0\n",
      "Accuracy 1.0\n",
      "              precision    recall  f1-score   support\n",
      "\n",
      "           0       1.00      1.00      1.00      1935\n",
      "           1       1.00      1.00      1.00       108\n",
      "\n",
      "    accuracy                           1.00      2043\n",
      "   macro avg       1.00      1.00      1.00      2043\n",
      "weighted avg       1.00      1.00      1.00      2043\n",
      "\n",
      "\n"
     ]
    }
   ],
   "source": [
    "rf = RandomForestClassifier()\n",
    "rf.fit(X_train, y_train)\n",
    "y_pred = rf.predict(X_test)\n",
    "print(f\"F1 Score {f1_score(y_test, y_pred, average='macro')}\")\n",
    "print(f\"Accuracy {accuracy_score(y_test, y_pred)}\")\n",
    "print(classification_report(y_test,y_pred))\n",
    "print()\n",
    "cf = confusion_matrix(y_test,y_pred)"
   ]
  },
  {
   "cell_type": "code",
   "execution_count": 179,
   "metadata": {},
   "outputs": [
    {
     "data": {
      "text/plain": [
       "<AxesSubplot:>"
      ]
     },
     "execution_count": 179,
     "metadata": {},
     "output_type": "execute_result"
    },
    {
     "data": {
      "image/png": "[encoded data removed]",
      "text/plain": [
       "<Figure size 432x288 with 2 Axes>"
      ]
     },
     "metadata": {
      "needs_background": "light"
     },
     "output_type": "display_data"
    }
   ],
   "source": [
    "sns.heatmap(cf, annot = True)"
   ]
  }
 ],
 "metadata": {
  "interpreter": {
   "hash": "dbdd60645814b7938868bfb90c8a35d95b726a4da71410a39dd51595e66f716c"
  },
  "kernelspec": {
   "display_name": "Python 3.8.13 ('datascience')",
   "language": "python",
   "name": "python3"
  },
  "language_info": {
   "codemirror_mode": {
    "name": "ipython",
    "version": 3
   },
   "file_extension": ".py",
   "mimetype": "text/x-python",
   "name": "python",
   "nbconvert_exporter": "python",
   "pygments_lexer": "ipython3",
   "version": "3.8.13"
  },
  "orig_nbformat": 4
 },
 "nbformat": 4,
 "nbformat_minor": 2
}
