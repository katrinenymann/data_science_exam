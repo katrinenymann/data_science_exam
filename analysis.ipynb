{
 "cells": [
  {
   "cell_type": "markdown",
   "metadata": {},
   "source": [
    "# Data Analysis\n",
    "### Predictive modelling of stroke occurences"
   ]
  },
  {
   "cell_type": "markdown",
   "metadata": {},
   "source": [
    "Import libraries"
   ]
  },
  {
   "cell_type": "code",
   "execution_count": 36,
   "metadata": {},
   "outputs": [],
   "source": [
    "import pandas as pd\n",
    "from utils import DataLoader, Performance\n",
    "import matplotlib.pyplot as plt\n",
    "import seaborn as sns\n",
    "import numpy as np\n",
    "from sklearn.ensemble import RandomForestClassifier\n",
    "from sklearn.metrics import f1_score, accuracy_score\n",
    "import warnings\n",
    "warnings.filterwarnings('once')\n",
    "from sklearn.metrics import classification_report, confusion_matrix, precision_recall_fscore_support"
   ]
  },
  {
   "cell_type": "markdown",
   "metadata": {},
   "source": [
    "Load data"
   ]
  },
  {
   "cell_type": "code",
   "execution_count": 37,
   "metadata": {},
   "outputs": [],
   "source": [
    "data_loader = DataLoader(\"healthcare-dataset-stroke-data.csv\")\n",
    "data_loader.load_dataset()"
   ]
  },
  {
   "cell_type": "markdown",
   "metadata": {},
   "source": [
    "# Preprocess data\n",
    "- Using the preprocessing pipeline from Utils based on the findings from the data exploration \n",
    "- Undersample to account for the imbalance in the data set"
   ]
  },
  {
   "cell_type": "code",
   "execution_count": 38,
   "metadata": {},
   "outputs": [
    {
     "name": "stdout",
     "output_type": "stream",
     "text": [
      "(3065, 20)\n",
      "(1022, 20)\n",
      "(1022, 20)\n",
      "After undersampling: (308, 20)\n"
     ]
    }
   ],
   "source": [
    "data_loader.preprocess_data()\n",
    "# Split the data for testing and training for ANN \n",
    "X_train, X_test, X_val, y_train, y_test, y_val = data_loader.get_data_split(ANN = True)\n",
    "print(X_train.shape)\n",
    "print(X_test.shape)\n",
    "print(X_val.shape)\n",
    "\n",
    "# Oversample the train data \n",
    "X_train, y_train = data_loader.undersample(X_train, y_train)\n",
    "print(\"After undersampling:\", X_train.shape)"
   ]
  },
  {
   "cell_type": "code",
   "execution_count": 39,
   "metadata": {},
   "outputs": [
    {
     "data": {
      "text/html": [
       "<div>\n",
       "<style scoped>\n",
       "    .dataframe tbody tr th:only-of-type {\n",
       "        vertical-align: middle;\n",
       "    }\n",
       "\n",
       "    .dataframe tbody tr th {\n",
       "        vertical-align: top;\n",
       "    }\n",
       "\n",
       "    .dataframe thead th {\n",
       "        text-align: right;\n",
       "    }\n",
       "</style>\n",
       "<table border=\"1\" class=\"dataframe\">\n",
       "  <thead>\n",
       "    <tr style=\"text-align: right;\">\n",
       "      <th></th>\n",
       "      <th>gender_Female</th>\n",
       "      <th>gender_Male</th>\n",
       "      <th>ever_married_No</th>\n",
       "      <th>ever_married_Yes</th>\n",
       "      <th>work_type_Govt_job</th>\n",
       "      <th>work_type_Never_worked</th>\n",
       "      <th>work_type_Private</th>\n",
       "      <th>work_type_Self-employed</th>\n",
       "      <th>work_type_children</th>\n",
       "      <th>Residence_type_Rural</th>\n",
       "      <th>Residence_type_Urban</th>\n",
       "      <th>smoking_status_Unknown</th>\n",
       "      <th>smoking_status_formerly smoked</th>\n",
       "      <th>smoking_status_never smoked</th>\n",
       "      <th>smoking_status_smokes</th>\n",
       "      <th>age</th>\n",
       "      <th>hypertension</th>\n",
       "      <th>heart_disease</th>\n",
       "      <th>avg_glucose_level</th>\n",
       "      <th>bmi</th>\n",
       "    </tr>\n",
       "  </thead>\n",
       "  <tbody>\n",
       "    <tr>\n",
       "      <th>0</th>\n",
       "      <td>0.0</td>\n",
       "      <td>1.0</td>\n",
       "      <td>1.0</td>\n",
       "      <td>0.0</td>\n",
       "      <td>0.0</td>\n",
       "      <td>0.0</td>\n",
       "      <td>1.0</td>\n",
       "      <td>0.0</td>\n",
       "      <td>0.0</td>\n",
       "      <td>0.0</td>\n",
       "      <td>1.0</td>\n",
       "      <td>1.0</td>\n",
       "      <td>0.0</td>\n",
       "      <td>0.0</td>\n",
       "      <td>0.0</td>\n",
       "      <td>19.0</td>\n",
       "      <td>0.0</td>\n",
       "      <td>0.0</td>\n",
       "      <td>119.58</td>\n",
       "      <td>24.8</td>\n",
       "    </tr>\n",
       "    <tr>\n",
       "      <th>1</th>\n",
       "      <td>0.0</td>\n",
       "      <td>1.0</td>\n",
       "      <td>0.0</td>\n",
       "      <td>1.0</td>\n",
       "      <td>0.0</td>\n",
       "      <td>0.0</td>\n",
       "      <td>1.0</td>\n",
       "      <td>0.0</td>\n",
       "      <td>0.0</td>\n",
       "      <td>1.0</td>\n",
       "      <td>0.0</td>\n",
       "      <td>0.0</td>\n",
       "      <td>0.0</td>\n",
       "      <td>1.0</td>\n",
       "      <td>0.0</td>\n",
       "      <td>60.0</td>\n",
       "      <td>0.0</td>\n",
       "      <td>0.0</td>\n",
       "      <td>101.34</td>\n",
       "      <td>32.8</td>\n",
       "    </tr>\n",
       "    <tr>\n",
       "      <th>2</th>\n",
       "      <td>1.0</td>\n",
       "      <td>0.0</td>\n",
       "      <td>0.0</td>\n",
       "      <td>1.0</td>\n",
       "      <td>0.0</td>\n",
       "      <td>0.0</td>\n",
       "      <td>1.0</td>\n",
       "      <td>0.0</td>\n",
       "      <td>0.0</td>\n",
       "      <td>0.0</td>\n",
       "      <td>1.0</td>\n",
       "      <td>0.0</td>\n",
       "      <td>0.0</td>\n",
       "      <td>1.0</td>\n",
       "      <td>0.0</td>\n",
       "      <td>22.0</td>\n",
       "      <td>0.0</td>\n",
       "      <td>0.0</td>\n",
       "      <td>89.06</td>\n",
       "      <td>27.7</td>\n",
       "    </tr>\n",
       "    <tr>\n",
       "      <th>3</th>\n",
       "      <td>1.0</td>\n",
       "      <td>0.0</td>\n",
       "      <td>0.0</td>\n",
       "      <td>1.0</td>\n",
       "      <td>0.0</td>\n",
       "      <td>0.0</td>\n",
       "      <td>0.0</td>\n",
       "      <td>1.0</td>\n",
       "      <td>0.0</td>\n",
       "      <td>1.0</td>\n",
       "      <td>0.0</td>\n",
       "      <td>1.0</td>\n",
       "      <td>0.0</td>\n",
       "      <td>0.0</td>\n",
       "      <td>0.0</td>\n",
       "      <td>82.0</td>\n",
       "      <td>0.0</td>\n",
       "      <td>1.0</td>\n",
       "      <td>229.58</td>\n",
       "      <td>23.7</td>\n",
       "    </tr>\n",
       "    <tr>\n",
       "      <th>4</th>\n",
       "      <td>0.0</td>\n",
       "      <td>1.0</td>\n",
       "      <td>0.0</td>\n",
       "      <td>1.0</td>\n",
       "      <td>0.0</td>\n",
       "      <td>0.0</td>\n",
       "      <td>1.0</td>\n",
       "      <td>0.0</td>\n",
       "      <td>0.0</td>\n",
       "      <td>0.0</td>\n",
       "      <td>1.0</td>\n",
       "      <td>0.0</td>\n",
       "      <td>0.0</td>\n",
       "      <td>0.0</td>\n",
       "      <td>1.0</td>\n",
       "      <td>56.0</td>\n",
       "      <td>0.0</td>\n",
       "      <td>0.0</td>\n",
       "      <td>96.93</td>\n",
       "      <td>25.0</td>\n",
       "    </tr>\n",
       "    <tr>\n",
       "      <th>...</th>\n",
       "      <td>...</td>\n",
       "      <td>...</td>\n",
       "      <td>...</td>\n",
       "      <td>...</td>\n",
       "      <td>...</td>\n",
       "      <td>...</td>\n",
       "      <td>...</td>\n",
       "      <td>...</td>\n",
       "      <td>...</td>\n",
       "      <td>...</td>\n",
       "      <td>...</td>\n",
       "      <td>...</td>\n",
       "      <td>...</td>\n",
       "      <td>...</td>\n",
       "      <td>...</td>\n",
       "      <td>...</td>\n",
       "      <td>...</td>\n",
       "      <td>...</td>\n",
       "      <td>...</td>\n",
       "      <td>...</td>\n",
       "    </tr>\n",
       "    <tr>\n",
       "      <th>303</th>\n",
       "      <td>1.0</td>\n",
       "      <td>0.0</td>\n",
       "      <td>0.0</td>\n",
       "      <td>1.0</td>\n",
       "      <td>0.0</td>\n",
       "      <td>0.0</td>\n",
       "      <td>1.0</td>\n",
       "      <td>0.0</td>\n",
       "      <td>0.0</td>\n",
       "      <td>1.0</td>\n",
       "      <td>0.0</td>\n",
       "      <td>0.0</td>\n",
       "      <td>0.0</td>\n",
       "      <td>1.0</td>\n",
       "      <td>0.0</td>\n",
       "      <td>80.0</td>\n",
       "      <td>1.0</td>\n",
       "      <td>0.0</td>\n",
       "      <td>74.90</td>\n",
       "      <td>22.2</td>\n",
       "    </tr>\n",
       "    <tr>\n",
       "      <th>304</th>\n",
       "      <td>0.0</td>\n",
       "      <td>1.0</td>\n",
       "      <td>0.0</td>\n",
       "      <td>1.0</td>\n",
       "      <td>0.0</td>\n",
       "      <td>0.0</td>\n",
       "      <td>1.0</td>\n",
       "      <td>0.0</td>\n",
       "      <td>0.0</td>\n",
       "      <td>0.0</td>\n",
       "      <td>1.0</td>\n",
       "      <td>1.0</td>\n",
       "      <td>0.0</td>\n",
       "      <td>0.0</td>\n",
       "      <td>0.0</td>\n",
       "      <td>74.0</td>\n",
       "      <td>0.0</td>\n",
       "      <td>0.0</td>\n",
       "      <td>98.55</td>\n",
       "      <td>25.6</td>\n",
       "    </tr>\n",
       "    <tr>\n",
       "      <th>305</th>\n",
       "      <td>0.0</td>\n",
       "      <td>1.0</td>\n",
       "      <td>0.0</td>\n",
       "      <td>1.0</td>\n",
       "      <td>0.0</td>\n",
       "      <td>0.0</td>\n",
       "      <td>0.0</td>\n",
       "      <td>1.0</td>\n",
       "      <td>0.0</td>\n",
       "      <td>1.0</td>\n",
       "      <td>0.0</td>\n",
       "      <td>0.0</td>\n",
       "      <td>0.0</td>\n",
       "      <td>1.0</td>\n",
       "      <td>0.0</td>\n",
       "      <td>80.0</td>\n",
       "      <td>0.0</td>\n",
       "      <td>0.0</td>\n",
       "      <td>104.12</td>\n",
       "      <td>23.5</td>\n",
       "    </tr>\n",
       "    <tr>\n",
       "      <th>306</th>\n",
       "      <td>1.0</td>\n",
       "      <td>0.0</td>\n",
       "      <td>0.0</td>\n",
       "      <td>1.0</td>\n",
       "      <td>0.0</td>\n",
       "      <td>0.0</td>\n",
       "      <td>1.0</td>\n",
       "      <td>0.0</td>\n",
       "      <td>0.0</td>\n",
       "      <td>0.0</td>\n",
       "      <td>1.0</td>\n",
       "      <td>0.0</td>\n",
       "      <td>1.0</td>\n",
       "      <td>0.0</td>\n",
       "      <td>0.0</td>\n",
       "      <td>76.0</td>\n",
       "      <td>0.0</td>\n",
       "      <td>0.0</td>\n",
       "      <td>57.92</td>\n",
       "      <td>28.1</td>\n",
       "    </tr>\n",
       "    <tr>\n",
       "      <th>307</th>\n",
       "      <td>1.0</td>\n",
       "      <td>0.0</td>\n",
       "      <td>0.0</td>\n",
       "      <td>1.0</td>\n",
       "      <td>0.0</td>\n",
       "      <td>0.0</td>\n",
       "      <td>1.0</td>\n",
       "      <td>0.0</td>\n",
       "      <td>0.0</td>\n",
       "      <td>0.0</td>\n",
       "      <td>1.0</td>\n",
       "      <td>0.0</td>\n",
       "      <td>0.0</td>\n",
       "      <td>1.0</td>\n",
       "      <td>0.0</td>\n",
       "      <td>49.0</td>\n",
       "      <td>0.0</td>\n",
       "      <td>0.0</td>\n",
       "      <td>60.91</td>\n",
       "      <td>29.9</td>\n",
       "    </tr>\n",
       "  </tbody>\n",
       "</table>\n",
       "<p>308 rows × 20 columns</p>\n",
       "</div>"
      ],
      "text/plain": [
       "     gender_Female  gender_Male  ever_married_No  ever_married_Yes  \\\n",
       "0              0.0          1.0              1.0               0.0   \n",
       "1              0.0          1.0              0.0               1.0   \n",
       "2              1.0          0.0              0.0               1.0   \n",
       "3              1.0          0.0              0.0               1.0   \n",
       "4              0.0          1.0              0.0               1.0   \n",
       "..             ...          ...              ...               ...   \n",
       "303            1.0          0.0              0.0               1.0   \n",
       "304            0.0          1.0              0.0               1.0   \n",
       "305            0.0          1.0              0.0               1.0   \n",
       "306            1.0          0.0              0.0               1.0   \n",
       "307            1.0          0.0              0.0               1.0   \n",
       "\n",
       "     work_type_Govt_job  work_type_Never_worked  work_type_Private  \\\n",
       "0                   0.0                     0.0                1.0   \n",
       "1                   0.0                     0.0                1.0   \n",
       "2                   0.0                     0.0                1.0   \n",
       "3                   0.0                     0.0                0.0   \n",
       "4                   0.0                     0.0                1.0   \n",
       "..                  ...                     ...                ...   \n",
       "303                 0.0                     0.0                1.0   \n",
       "304                 0.0                     0.0                1.0   \n",
       "305                 0.0                     0.0                0.0   \n",
       "306                 0.0                     0.0                1.0   \n",
       "307                 0.0                     0.0                1.0   \n",
       "\n",
       "     work_type_Self-employed  work_type_children  Residence_type_Rural  \\\n",
       "0                        0.0                 0.0                   0.0   \n",
       "1                        0.0                 0.0                   1.0   \n",
       "2                        0.0                 0.0                   0.0   \n",
       "3                        1.0                 0.0                   1.0   \n",
       "4                        0.0                 0.0                   0.0   \n",
       "..                       ...                 ...                   ...   \n",
       "303                      0.0                 0.0                   1.0   \n",
       "304                      0.0                 0.0                   0.0   \n",
       "305                      1.0                 0.0                   1.0   \n",
       "306                      0.0                 0.0                   0.0   \n",
       "307                      0.0                 0.0                   0.0   \n",
       "\n",
       "     Residence_type_Urban  smoking_status_Unknown  \\\n",
       "0                     1.0                     1.0   \n",
       "1                     0.0                     0.0   \n",
       "2                     1.0                     0.0   \n",
       "3                     0.0                     1.0   \n",
       "4                     1.0                     0.0   \n",
       "..                    ...                     ...   \n",
       "303                   0.0                     0.0   \n",
       "304                   1.0                     1.0   \n",
       "305                   0.0                     0.0   \n",
       "306                   1.0                     0.0   \n",
       "307                   1.0                     0.0   \n",
       "\n",
       "     smoking_status_formerly smoked  smoking_status_never smoked  \\\n",
       "0                               0.0                          0.0   \n",
       "1                               0.0                          1.0   \n",
       "2                               0.0                          1.0   \n",
       "3                               0.0                          0.0   \n",
       "4                               0.0                          0.0   \n",
       "..                              ...                          ...   \n",
       "303                             0.0                          1.0   \n",
       "304                             0.0                          0.0   \n",
       "305                             0.0                          1.0   \n",
       "306                             1.0                          0.0   \n",
       "307                             0.0                          1.0   \n",
       "\n",
       "     smoking_status_smokes   age  hypertension  heart_disease  \\\n",
       "0                      0.0  19.0           0.0            0.0   \n",
       "1                      0.0  60.0           0.0            0.0   \n",
       "2                      0.0  22.0           0.0            0.0   \n",
       "3                      0.0  82.0           0.0            1.0   \n",
       "4                      1.0  56.0           0.0            0.0   \n",
       "..                     ...   ...           ...            ...   \n",
       "303                    0.0  80.0           1.0            0.0   \n",
       "304                    0.0  74.0           0.0            0.0   \n",
       "305                    0.0  80.0           0.0            0.0   \n",
       "306                    0.0  76.0           0.0            0.0   \n",
       "307                    0.0  49.0           0.0            0.0   \n",
       "\n",
       "     avg_glucose_level   bmi  \n",
       "0               119.58  24.8  \n",
       "1               101.34  32.8  \n",
       "2                89.06  27.7  \n",
       "3               229.58  23.7  \n",
       "4                96.93  25.0  \n",
       "..                 ...   ...  \n",
       "303              74.90  22.2  \n",
       "304              98.55  25.6  \n",
       "305             104.12  23.5  \n",
       "306              57.92  28.1  \n",
       "307              60.91  29.9  \n",
       "\n",
       "[308 rows x 20 columns]"
      ]
     },
     "execution_count": 39,
     "metadata": {},
     "output_type": "execute_result"
    }
   ],
   "source": [
    "# Check data\n",
    "X_train"
   ]
  },
  {
   "cell_type": "markdown",
   "metadata": {},
   "source": [
    "## Fit models\n",
    "- ANN\n",
    "- Random Forest\n",
    "- XGBoost"
   ]
  },
  {
   "cell_type": "markdown",
   "metadata": {},
   "source": [
    "### ANN"
   ]
  },
  {
   "cell_type": "code",
   "execution_count": 40,
   "metadata": {},
   "outputs": [],
   "source": [
    "#Scale and Fit the data\n",
    "# Scaling is needed which it is not for random forest or XGBoost\n",
    "from sklearn.preprocessing import StandardScaler\n",
    "scaler = StandardScaler()\n",
    "X_train_scaled = scaler.fit_transform(X_train)\n",
    "X_test_scaled = scaler.transform(X_test)\n",
    "X_val_scaled = scaler.transform(X_val)"
   ]
  },
  {
   "cell_type": "code",
   "execution_count": 41,
   "metadata": {},
   "outputs": [],
   "source": [
    "import tensorflow as tf\n",
    "from tensorflow.keras.models import Sequential\n",
    "from tensorflow.keras.layers import Dense, Activation,Dropout\n",
    "from tensorflow.keras.callbacks import EarlyStopping, ModelCheckpoint\n",
    "tf.random.set_seed(2)"
   ]
  },
  {
   "cell_type": "markdown",
   "metadata": {},
   "source": [
    "#### Define model"
   ]
  },
  {
   "cell_type": "code",
   "execution_count": 42,
   "metadata": {},
   "outputs": [],
   "source": [
    "#ANN MODEL\n",
    "model = Sequential()\n",
    "\n",
    "model.add(Dense(units = 14, activation = 'relu'))\n",
    "model.add(Dropout(.1))\n",
    "model.add(Dense(units = 7, activation = 'relu'))\n",
    "model.add(Dropout(.1))\n",
    "model.add(Dense(units = 3, activation = 'relu'))\n",
    "model.add(Dropout(.1))\n",
    "model.add(Dense(units = 1, activation = 'sigmoid'))\n",
    "\n",
    "model.compile(loss = 'binary_crossentropy', optimizer = 'adam', metrics = 'accuracy') # metrics=[tf.keras.metrics.FalsePositives()]"
   ]
  },
  {
   "cell_type": "markdown",
   "metadata": {},
   "source": [
    "#### Define early stopping callback"
   ]
  },
  {
   "cell_type": "code",
   "execution_count": 43,
   "metadata": {},
   "outputs": [],
   "source": [
    "#stops when validation loss is not dropping for 3 epochs\n",
    "#early_stop = EarlyStopping(monitor = 'val_loss', mode = 'min', patience = 10, verbose = 1)\n",
    "# Rule of thumb, patience is 10% of the number of epochs \n",
    "# We need to save the model \n",
    "callbacks = [EarlyStopping(monitor='val_loss', patience=12),\n",
    "             ModelCheckpoint(filepath='best_model.h5', monitor='val_loss', save_best_only=True)]"
   ]
  },
  {
   "cell_type": "markdown",
   "metadata": {},
   "source": [
    "#### Fit model"
   ]
  },
  {
   "cell_type": "code",
   "execution_count": 44,
   "metadata": {},
   "outputs": [
    {
     "name": "stdout",
     "output_type": "stream",
     "text": [
      "Epoch 1/150\n",
      "11/11 [==============================] - 1s 29ms/step - loss: 0.6819 - accuracy: 0.4968 - val_loss: 0.6497 - val_accuracy: 0.9550\n",
      "Epoch 2/150\n",
      "11/11 [==============================] - 0s 14ms/step - loss: 0.6900 - accuracy: 0.5162 - val_loss: 0.6490 - val_accuracy: 0.4775\n",
      "Epoch 3/150\n",
      "11/11 [==============================] - 0s 14ms/step - loss: 0.6885 - accuracy: 0.4968 - val_loss: 0.6485 - val_accuracy: 0.4814\n",
      "Epoch 4/150\n",
      "11/11 [==============================] - 0s 14ms/step - loss: 0.6821 - accuracy: 0.5455 - val_loss: 0.6454 - val_accuracy: 0.4883\n",
      "Epoch 5/150\n",
      "11/11 [==============================] - 0s 13ms/step - loss: 0.6879 - accuracy: 0.5649 - val_loss: 0.6426 - val_accuracy: 0.4961\n",
      "Epoch 6/150\n",
      "11/11 [==============================] - 0s 15ms/step - loss: 0.6794 - accuracy: 0.5617 - val_loss: 0.6402 - val_accuracy: 0.5137\n",
      "Epoch 7/150\n",
      "11/11 [==============================] - 0s 13ms/step - loss: 0.6754 - accuracy: 0.5909 - val_loss: 0.6370 - val_accuracy: 0.5587\n",
      "Epoch 8/150\n",
      "11/11 [==============================] - 0s 14ms/step - loss: 0.6775 - accuracy: 0.5942 - val_loss: 0.6306 - val_accuracy: 0.6204\n",
      "Epoch 9/150\n",
      "11/11 [==============================] - 0s 14ms/step - loss: 0.6663 - accuracy: 0.6136 - val_loss: 0.6202 - val_accuracy: 0.6507\n",
      "Epoch 10/150\n",
      "11/11 [==============================] - 0s 14ms/step - loss: 0.6589 - accuracy: 0.6331 - val_loss: 0.6031 - val_accuracy: 0.6800\n",
      "Epoch 11/150\n",
      "11/11 [==============================] - 0s 14ms/step - loss: 0.6529 - accuracy: 0.6266 - val_loss: 0.5840 - val_accuracy: 0.6977\n",
      "Epoch 12/150\n",
      "11/11 [==============================] - 0s 14ms/step - loss: 0.6447 - accuracy: 0.6623 - val_loss: 0.5628 - val_accuracy: 0.7104\n",
      "Epoch 13/150\n",
      "11/11 [==============================] - 0s 16ms/step - loss: 0.6444 - accuracy: 0.6623 - val_loss: 0.5499 - val_accuracy: 0.7202\n",
      "Epoch 14/150\n",
      "11/11 [==============================] - 0s 18ms/step - loss: 0.6303 - accuracy: 0.6721 - val_loss: 0.5278 - val_accuracy: 0.7319\n",
      "Epoch 15/150\n",
      "11/11 [==============================] - 0s 14ms/step - loss: 0.6287 - accuracy: 0.6526 - val_loss: 0.5104 - val_accuracy: 0.7368\n",
      "Epoch 16/150\n",
      "11/11 [==============================] - 0s 13ms/step - loss: 0.6371 - accuracy: 0.6753 - val_loss: 0.4955 - val_accuracy: 0.7466\n",
      "Epoch 17/150\n",
      "11/11 [==============================] - 0s 18ms/step - loss: 0.6287 - accuracy: 0.6818 - val_loss: 0.4902 - val_accuracy: 0.7436\n",
      "Epoch 18/150\n",
      "11/11 [==============================] - 0s 9ms/step - loss: 0.6363 - accuracy: 0.6494 - val_loss: 0.4924 - val_accuracy: 0.7417\n",
      "Epoch 19/150\n",
      "11/11 [==============================] - 0s 10ms/step - loss: 0.6326 - accuracy: 0.6461 - val_loss: 0.4924 - val_accuracy: 0.7368\n",
      "Epoch 20/150\n",
      "11/11 [==============================] - 0s 12ms/step - loss: 0.6143 - accuracy: 0.6494 - val_loss: 0.4922 - val_accuracy: 0.7202\n",
      "Epoch 21/150\n",
      "11/11 [==============================] - 0s 14ms/step - loss: 0.6240 - accuracy: 0.6721 - val_loss: 0.4869 - val_accuracy: 0.7260\n",
      "Epoch 22/150\n",
      "11/11 [==============================] - 0s 12ms/step - loss: 0.6219 - accuracy: 0.6851 - val_loss: 0.4794 - val_accuracy: 0.7290\n",
      "Epoch 23/150\n",
      "11/11 [==============================] - 0s 8ms/step - loss: 0.6115 - accuracy: 0.6721 - val_loss: 0.4809 - val_accuracy: 0.7153\n",
      "Epoch 24/150\n",
      "11/11 [==============================] - 0s 8ms/step - loss: 0.6118 - accuracy: 0.6818 - val_loss: 0.4831 - val_accuracy: 0.7016\n",
      "Epoch 25/150\n",
      "11/11 [==============================] - 0s 9ms/step - loss: 0.6056 - accuracy: 0.6786 - val_loss: 0.4851 - val_accuracy: 0.6879\n",
      "Epoch 26/150\n",
      "11/11 [==============================] - 0s 12ms/step - loss: 0.5871 - accuracy: 0.7013 - val_loss: 0.4782 - val_accuracy: 0.6888\n",
      "Epoch 27/150\n",
      "11/11 [==============================] - 0s 11ms/step - loss: 0.6010 - accuracy: 0.7175 - val_loss: 0.4736 - val_accuracy: 0.6898\n",
      "Epoch 28/150\n",
      "11/11 [==============================] - 0s 11ms/step - loss: 0.5806 - accuracy: 0.7208 - val_loss: 0.4643 - val_accuracy: 0.7016\n",
      "Epoch 29/150\n",
      "11/11 [==============================] - 0s 11ms/step - loss: 0.5747 - accuracy: 0.7403 - val_loss: 0.4553 - val_accuracy: 0.7202\n",
      "Epoch 30/150\n",
      "11/11 [==============================] - 0s 12ms/step - loss: 0.5844 - accuracy: 0.7240 - val_loss: 0.4533 - val_accuracy: 0.7182\n",
      "Epoch 31/150\n",
      "11/11 [==============================] - 0s 12ms/step - loss: 0.5801 - accuracy: 0.7273 - val_loss: 0.4512 - val_accuracy: 0.7221\n",
      "Epoch 32/150\n",
      "11/11 [==============================] - 0s 8ms/step - loss: 0.5911 - accuracy: 0.6981 - val_loss: 0.4542 - val_accuracy: 0.7153\n",
      "Epoch 33/150\n",
      "11/11 [==============================] - 0s 9ms/step - loss: 0.5686 - accuracy: 0.7500 - val_loss: 0.4532 - val_accuracy: 0.7123\n",
      "Epoch 34/150\n",
      "11/11 [==============================] - 0s 9ms/step - loss: 0.5832 - accuracy: 0.6818 - val_loss: 0.4593 - val_accuracy: 0.6977\n",
      "Epoch 35/150\n",
      "11/11 [==============================] - 0s 9ms/step - loss: 0.5815 - accuracy: 0.7500 - val_loss: 0.4638 - val_accuracy: 0.6898\n",
      "Epoch 36/150\n",
      "11/11 [==============================] - 0s 9ms/step - loss: 0.5785 - accuracy: 0.7338 - val_loss: 0.4674 - val_accuracy: 0.6888\n",
      "Epoch 37/150\n",
      "11/11 [==============================] - 0s 8ms/step - loss: 0.5611 - accuracy: 0.7143 - val_loss: 0.4623 - val_accuracy: 0.6908\n",
      "Epoch 38/150\n",
      "11/11 [==============================] - 0s 8ms/step - loss: 0.5583 - accuracy: 0.7110 - val_loss: 0.4597 - val_accuracy: 0.6918\n",
      "Epoch 39/150\n",
      "11/11 [==============================] - 0s 8ms/step - loss: 0.5714 - accuracy: 0.7500 - val_loss: 0.4604 - val_accuracy: 0.6928\n",
      "Epoch 40/150\n",
      "11/11 [==============================] - 0s 8ms/step - loss: 0.5690 - accuracy: 0.7110 - val_loss: 0.4599 - val_accuracy: 0.6967\n",
      "Epoch 41/150\n",
      "11/11 [==============================] - 0s 9ms/step - loss: 0.5745 - accuracy: 0.7273 - val_loss: 0.4628 - val_accuracy: 0.6849\n",
      "Epoch 42/150\n",
      "11/11 [==============================] - 0s 8ms/step - loss: 0.5477 - accuracy: 0.7500 - val_loss: 0.4601 - val_accuracy: 0.6859\n",
      "Epoch 43/150\n",
      "11/11 [==============================] - 0s 8ms/step - loss: 0.5536 - accuracy: 0.7240 - val_loss: 0.4642 - val_accuracy: 0.6800\n"
     ]
    },
    {
     "data": {
      "text/plain": [
       "<keras.callbacks.History at 0x24fdebe8a00>"
      ]
     },
     "execution_count": 44,
     "metadata": {},
     "output_type": "execute_result"
    }
   ],
   "source": [
    "#Fitting model\n",
    "model.fit(X_train_scaled, y_train, \n",
    "          epochs = 150,\n",
    "         validation_data=(X_val_scaled, y_val),\n",
    "         verbose = 1, \n",
    "         callbacks=callbacks, batch_size=30)"
   ]
  },
  {
   "cell_type": "code",
   "execution_count": 45,
   "metadata": {},
   "outputs": [
    {
     "data": {
      "text/plain": [
       "Text(0.5, 1.0, 'Training loss and accuracies')"
      ]
     },
     "execution_count": 45,
     "metadata": {},
     "output_type": "execute_result"
    },
    {
     "data": {
      "image/png": "[encoded data removed]",
      "text/plain": [
       "<Figure size 432x288 with 1 Axes>"
      ]
     },
     "metadata": {
      "needs_background": "light"
     },
     "output_type": "display_data"
    }
   ],
   "source": [
    "# Visualize training\n",
    "model_loss = pd.DataFrame(model.history.history)\n",
    "model_loss.plot()\n",
    "plt.legend(bbox_to_anchor=(1.02, 1), loc='upper left', borderaxespad=0)\n",
    "plt.xlabel(\"Epoch\")\n",
    "plt.ylabel(\"Count\")\n",
    "plt.title(\"Training loss and accuracies\")"
   ]
  },
  {
   "cell_type": "markdown",
   "metadata": {},
   "source": [
    "##### Performance of ANN model"
   ]
  },
  {
   "cell_type": "code",
   "execution_count": 46,
   "metadata": {},
   "outputs": [
    {
     "name": "stdout",
     "output_type": "stream",
     "text": [
      "32/32 [==============================] - 0s 1ms/step\n",
      "Model Performance\n",
      "Accuracy = 71.62%.\n",
      "Recall strokes only = 70.59%.\n"
     ]
    }
   ],
   "source": [
    "# First we load the best model\n",
    "from keras.models import load_model\n",
    "saved_model = load_model('best_model.h5')\n",
    "\n",
    "#Predictions\n",
    "prediction_values = saved_model.predict(X_test_scaled)\n",
    "# Convert into classes \n",
    "prediction_best = []\n",
    "for i in prediction_values:\n",
    "    prediction_best.append(np.where(i > 0.5, 1,0)[0])\n",
    "\n",
    "performance = Performance()\n",
    "saved_model_performance = performance.evaluate(test_labels = y_test, predictions = prediction_best)"
   ]
  },
  {
   "cell_type": "markdown",
   "metadata": {},
   "source": [
    "We also check the last model since we were optimizing for accuracy, the recall of strokes might be better here"
   ]
  },
  {
   "cell_type": "code",
   "execution_count": 47,
   "metadata": {},
   "outputs": [
    {
     "name": "stdout",
     "output_type": "stream",
     "text": [
      "32/32 [==============================] - 0s 2ms/step\n",
      "Model Performance\n",
      "Accuracy = 69.37%.\n",
      "Recall strokes only = 82.35%.\n"
     ]
    }
   ],
   "source": [
    "#Predictions\n",
    "prediction_values = model.predict(X_test_scaled)\n",
    "# Convert into classes \n",
    "prediction = []\n",
    "for i in prediction_values:\n",
    "    prediction.append(np.where(i > 0.5, 1,0)[0])\n",
    "\n",
    "model_performance = performance.evaluate(test_labels = y_test, predictions = prediction)"
   ]
  },
  {
   "cell_type": "markdown",
   "metadata": {},
   "source": [
    "Since this model did perform better in terms of recalling strokes we choose th elast model as the best model. "
   ]
  },
  {
   "cell_type": "markdown",
   "metadata": {},
   "source": [
    "We make classification report and confusion matrix"
   ]
  },
  {
   "cell_type": "code",
   "execution_count": 48,
   "metadata": {},
   "outputs": [
    {
     "name": "stdout",
     "output_type": "stream",
     "text": [
      "              precision    recall  f1-score   support\n",
      "\n",
      "           0       0.99      0.69      0.81       971\n",
      "           1       0.12      0.82      0.21        51\n",
      "\n",
      "    accuracy                           0.69      1022\n",
      "   macro avg       0.55      0.76      0.51      1022\n",
      "weighted avg       0.94      0.69      0.78      1022\n",
      "\n"
     ]
    }
   ],
   "source": [
    "print(classification_report(y_test,prediction))\n",
    "\n",
    "cf = confusion_matrix(y_test,prediction)"
   ]
  },
  {
   "cell_type": "markdown",
   "metadata": {},
   "source": [
    "Visualize with a Heatmap"
   ]
  },
  {
   "cell_type": "code",
   "execution_count": 49,
   "metadata": {},
   "outputs": [
    {
     "name": "stdout",
     "output_type": "stream",
     "text": [
      "[[667 304]\n",
      " [  9  42]]\n"
     ]
    },
    {
     "data": {
      "image/png": "[encoded data removed]",
      "text/plain": [
       "<Figure size 432x288 with 2 Axes>"
      ]
     },
     "metadata": {
      "needs_background": "light"
     },
     "output_type": "display_data"
    }
   ],
   "source": [
    "import seaborn as sns\n",
    "sns.heatmap(cf, annot=True)\n",
    "print(cf)"
   ]
  },
  {
   "cell_type": "markdown",
   "metadata": {},
   "source": [
    "### XGBoost\n",
    "\n",
    "Now we split again to not have the val data for these models"
   ]
  },
  {
   "cell_type": "code",
   "execution_count": 15,
   "metadata": {},
   "outputs": [
    {
     "name": "stdout",
     "output_type": "stream",
     "text": [
      "(4087, 20)\n",
      "(1022, 20)\n",
      "After undersampling: (396, 20)\n"
     ]
    }
   ],
   "source": [
    "X_train, X_test, y_train, y_test = data_loader.get_data_split(ANN = False)\n",
    "print(X_train.shape)\n",
    "print(X_test.shape)\n",
    "\n",
    "# Oversample the train data \n",
    "X_train, y_train = data_loader.undersample(X_train, y_train)\n",
    "print(\"After undersampling:\", X_train.shape)"
   ]
  },
  {
   "cell_type": "code",
   "execution_count": 16,
   "metadata": {},
   "outputs": [
    {
     "name": "stdout",
     "output_type": "stream",
     "text": [
      "              precision    recall  f1-score   support\n",
      "\n",
      "           0       0.99      0.70      0.82       971\n",
      "           1       0.12      0.80      0.22        51\n",
      "\n",
      "    accuracy                           0.71      1022\n",
      "   macro avg       0.56      0.75      0.52      1022\n",
      "weighted avg       0.94      0.71      0.79      1022\n",
      "\n",
      "\n",
      "Model Performance\n",
      "Accuracy = 70.94%.\n",
      "Recall strokes only = 80.39%.\n"
     ]
    }
   ],
   "source": [
    "from xgboost import XGBClassifier\n",
    "XGB = XGBClassifier(eval_metric= 'error')\n",
    "XGB.fit(X_train, y_train) # Fit model\n",
    "y_pred = XGB.predict(X_test) # Make predictions\n",
    "\n",
    "\n",
    "print(classification_report(y_test,y_pred))\n",
    "print()\n",
    "cf = confusion_matrix(y_test,y_pred)\n",
    "XGB_performance = performance.evaluate(test_labels = y_test, predictions = y_pred)"
   ]
  },
  {
   "cell_type": "code",
   "execution_count": 17,
   "metadata": {},
   "outputs": [
    {
     "name": "stdout",
     "output_type": "stream",
     "text": [
      "[[684 287]\n",
      " [ 10  41]]\n"
     ]
    },
    {
     "data": {
      "image/png": "[encoded data removed]",
      "text/plain": [
       "<Figure size 432x288 with 2 Axes>"
      ]
     },
     "metadata": {
      "needs_background": "light"
     },
     "output_type": "display_data"
    }
   ],
   "source": [
    "sns.heatmap(cf, annot = True)\n",
    "print(cf)"
   ]
  },
  {
   "cell_type": "markdown",
   "metadata": {},
   "source": [
    "### Random Forest"
   ]
  },
  {
   "cell_type": "code",
   "execution_count": 18,
   "metadata": {},
   "outputs": [
    {
     "name": "stdout",
     "output_type": "stream",
     "text": [
      "              precision    recall  f1-score   support\n",
      "\n",
      "           0       0.98      0.70      0.82       971\n",
      "           1       0.12      0.78      0.21        51\n",
      "\n",
      "    accuracy                           0.71      1022\n",
      "   macro avg       0.55      0.74      0.52      1022\n",
      "weighted avg       0.94      0.71      0.79      1022\n",
      "\n",
      "\n",
      "Model Performance\n",
      "Accuracy = 70.84%.\n",
      "Recall strokes only = 78.43%.\n"
     ]
    }
   ],
   "source": [
    "rf = RandomForestClassifier()\n",
    "rf.fit(X_train.values, y_train)\n",
    "y_pred = rf.predict(X_test.values)\n",
    "print(classification_report(y_test,y_pred))\n",
    "print()\n",
    "cf = confusion_matrix(y_test,y_pred)\n",
    "XGB_performance = performance.evaluate(test_labels = y_test, predictions = y_pred)"
   ]
  },
  {
   "cell_type": "code",
   "execution_count": 19,
   "metadata": {},
   "outputs": [
    {
     "data": {
      "text/plain": [
       "'auto'"
      ]
     },
     "execution_count": 19,
     "metadata": {},
     "output_type": "execute_result"
    }
   ],
   "source": [
    "rf.max_features"
   ]
  },
  {
   "cell_type": "code",
   "execution_count": 20,
   "metadata": {},
   "outputs": [
    {
     "name": "stdout",
     "output_type": "stream",
     "text": [
      "[[684 287]\n",
      " [ 11  40]]\n"
     ]
    },
    {
     "data": {
      "image/png": "[encoded data removed]",
      "text/plain": [
       "<Figure size 432x288 with 2 Axes>"
      ]
     },
     "metadata": {
      "needs_background": "light"
     },
     "output_type": "display_data"
    }
   ],
   "source": [
    "sns.heatmap(cf, annot = True)\n",
    "print(cf)"
   ]
  },
  {
   "cell_type": "markdown",
   "metadata": {},
   "source": [
    "#### Attempt to optimize rf"
   ]
  },
  {
   "cell_type": "markdown",
   "metadata": {},
   "source": [
    "#### Tuning RF\n",
    "\n",
    "We do cross validation. \n",
    "First we define a grid of parameters"
   ]
  },
  {
   "cell_type": "code",
   "execution_count": 21,
   "metadata": {},
   "outputs": [
    {
     "name": "stdout",
     "output_type": "stream",
     "text": [
      "{'n_estimators': [200, 400, 600, 800, 1000, 1200, 1400, 1600, 1800, 2000], 'max_features': ['auto', 'sqrt'], 'max_depth': [10, 20, 30, 40, 50, 60, 70, 80, 90, 100, 110, None], 'min_samples_split': [2, 5, 10], 'min_samples_leaf': [1, 2, 4], 'bootstrap': [True, False]}\n"
     ]
    }
   ],
   "source": [
    "from sklearn.model_selection import RandomizedSearchCV\n",
    "# Number of trees in random forest\n",
    "n_estimators = [int(x) for x in np.linspace(start = 200, stop = 2000, num = 10)]\n",
    "# Number of features to consider at every split\n",
    "max_features = ['auto', 'sqrt']\n",
    "# Maximum number of levels in tree\n",
    "max_depth = [int(x) for x in np.linspace(10, 110, num = 11)]\n",
    "max_depth.append(None)\n",
    "# Minimum number of samples required to split a node\n",
    "min_samples_split = [2, 5, 10]\n",
    "# Minimum number of samples required at each leaf node\n",
    "min_samples_leaf = [1, 2, 4]\n",
    "# Method of selecting samples for training each tree\n",
    "bootstrap = [True, False]\n",
    "# Create the random grid\n",
    "random_grid = {'n_estimators': n_estimators,\n",
    "               'max_features': max_features,\n",
    "               'max_depth': max_depth,\n",
    "               'min_samples_split': min_samples_split,\n",
    "               'min_samples_leaf': min_samples_leaf,\n",
    "               'bootstrap': bootstrap}\n",
    "print(random_grid)"
   ]
  },
  {
   "cell_type": "markdown",
   "metadata": {},
   "source": [
    "Random search and fit\n"
   ]
  },
  {
   "cell_type": "code",
   "execution_count": 22,
   "metadata": {},
   "outputs": [
    {
     "name": "stdout",
     "output_type": "stream",
     "text": [
      "Fitting 3 folds for each of 100 candidates, totalling 300 fits\n"
     ]
    },
    {
     "data": {
      "text/plain": [
       "RandomizedSearchCV(cv=3, estimator=RandomForestClassifier(), n_iter=100,\n",
       "                   n_jobs=-1,\n",
       "                   param_distributions={'bootstrap': [True, False],\n",
       "                                        'max_depth': [10, 20, 30, 40, 50, 60,\n",
       "                                                      70, 80, 90, 100, 110,\n",
       "                                                      None],\n",
       "                                        'max_features': ['auto', 'sqrt'],\n",
       "                                        'min_samples_leaf': [1, 2, 4],\n",
       "                                        'min_samples_split': [2, 5, 10],\n",
       "                                        'n_estimators': [200, 400, 600, 800,\n",
       "                                                         1000, 1200, 1400, 1600,\n",
       "                                                         1800, 2000]},\n",
       "                   random_state=42, verbose=2)"
      ]
     },
     "execution_count": 22,
     "metadata": {},
     "output_type": "execute_result"
    }
   ],
   "source": [
    "# Random search of parameters, using 3 fold cross validation, \n",
    "# search across 100 different combinations, and use all available cores\n",
    "rf_random = RandomizedSearchCV(estimator = rf, param_distributions = random_grid, n_iter = 100, cv = 3, verbose=2, random_state=42, n_jobs = -1)\n",
    "# Fit the random search model\n",
    "rf_random.fit(X_train, y_train)"
   ]
  },
  {
   "cell_type": "code",
   "execution_count": 23,
   "metadata": {},
   "outputs": [
    {
     "data": {
      "text/plain": [
       "{'n_estimators': 200,\n",
       " 'min_samples_split': 5,\n",
       " 'min_samples_leaf': 4,\n",
       " 'max_features': 'auto',\n",
       " 'max_depth': 80,\n",
       " 'bootstrap': True}"
      ]
     },
     "execution_count": 23,
     "metadata": {},
     "output_type": "execute_result"
    }
   ],
   "source": [
    "# View best parameters from fitting\n",
    "rf_random.best_params_"
   ]
  },
  {
   "cell_type": "markdown",
   "metadata": {},
   "source": [
    "#### Evaluate Random search\n",
    "Evaluate the random search based on recall of class 1 (stroke) only. \n",
    "Recall answers what proportion of actual positives aka strokes was identified correctly? But in this case only among the strokes patients since this is the parameter that needs optimization. "
   ]
  },
  {
   "cell_type": "markdown",
   "metadata": {},
   "source": [
    "Base model meaning evaluating the training"
   ]
  },
  {
   "cell_type": "code",
   "execution_count": 24,
   "metadata": {},
   "outputs": [
    {
     "name": "stdout",
     "output_type": "stream",
     "text": [
      "              precision    recall  f1-score   support\n",
      "\n",
      "           0       1.00      1.00      1.00       198\n",
      "           1       1.00      1.00      1.00       198\n",
      "\n",
      "    accuracy                           1.00       396\n",
      "   macro avg       1.00      1.00      1.00       396\n",
      "weighted avg       1.00      1.00      1.00       396\n",
      "\n",
      "\n",
      "Model Performance\n",
      "Accuracy = 100.00%.\n",
      "Recall strokes only = 100.00%.\n"
     ]
    },
    {
     "name": "stderr",
     "output_type": "stream",
     "text": [
      "X has feature names, but RandomForestClassifier was fitted without feature names\n"
     ]
    }
   ],
   "source": [
    "train_preds = rf.predict(X_train)\n",
    "print(classification_report(y_train,train_preds))\n",
    "print()\n",
    "cf = confusion_matrix(y_train,train_preds)\n",
    "RF_performance = performance.evaluate(test_labels = y_train, predictions = train_preds)"
   ]
  },
  {
   "cell_type": "markdown",
   "metadata": {},
   "source": [
    "The best model from the random estimator (OBS no difference)"
   ]
  },
  {
   "cell_type": "code",
   "execution_count": 25,
   "metadata": {},
   "outputs": [
    {
     "name": "stdout",
     "output_type": "stream",
     "text": [
      "              precision    recall  f1-score   support\n",
      "\n",
      "           0       0.99      0.70      0.82       971\n",
      "           1       0.13      0.82      0.22        51\n",
      "\n",
      "    accuracy                           0.71      1022\n",
      "   macro avg       0.56      0.76      0.52      1022\n",
      "weighted avg       0.94      0.71      0.79      1022\n",
      "\n",
      "\n",
      "Model Performance\n",
      "Accuracy = 70.84%.\n",
      "Recall strokes only = 82.35%.\n"
     ]
    }
   ],
   "source": [
    "best_random = rf_random.best_estimator_\n",
    "preds = best_random.predict(X_test)\n",
    "print(classification_report(y_test,preds))\n",
    "print()\n",
    "cf = confusion_matrix(y_test,preds)\n",
    "RF_performance = performance.evaluate(test_labels = y_test, predictions = preds)"
   ]
  },
  {
   "cell_type": "code",
   "execution_count": 26,
   "metadata": {},
   "outputs": [
    {
     "name": "stdout",
     "output_type": "stream",
     "text": [
      "[[682 289]\n",
      " [  9  42]]\n"
     ]
    },
    {
     "data": {
      "image/png": "[encoded data removed]",
      "text/plain": [
       "<Figure size 432x288 with 2 Axes>"
      ]
     },
     "metadata": {
      "needs_background": "light"
     },
     "output_type": "display_data"
    }
   ],
   "source": [
    "sns.heatmap(cf, annot = True)\n",
    "print(cf)"
   ]
  },
  {
   "cell_type": "markdown",
   "metadata": {},
   "source": [
    "{'n_estimators': 600,\n",
    " 'min_samples_split': 2,\n",
    " 'min_samples_leaf': 4,\n",
    " 'max_features': 'sqrt',\n",
    " 'max_depth': 60,\n",
    " 'bootstrap': False}"
   ]
  },
  {
   "cell_type": "markdown",
   "metadata": {},
   "source": [
    "#### Grid search (no difference in performance)"
   ]
  },
  {
   "cell_type": "code",
   "execution_count": 27,
   "metadata": {},
   "outputs": [],
   "source": [
    "from sklearn.model_selection import GridSearchCV\n",
    "# Create the parameter grid based on the results of random search \n",
    "param_grid = {\n",
    "    'bootstrap': [False],\n",
    "    'max_depth': [50, 60, 70],\n",
    "    'max_features': [2, 4], # sqrt of total number of featuers in data\n",
    "    'min_samples_leaf': [2, 4, 6],\n",
    "    'min_samples_split': [2, 3, 4],\n",
    "    'n_estimators': [300, 500, 700, 900]\n",
    "}\n",
    "# Create a based model\n",
    "rf = RandomForestClassifier()\n",
    "# Instantiate the grid search model\n",
    "grid_search = GridSearchCV(estimator = rf, param_grid = param_grid, \n",
    "                          cv = 3, n_jobs = -1, verbose = 2)"
   ]
  },
  {
   "cell_type": "code",
   "execution_count": 28,
   "metadata": {},
   "outputs": [
    {
     "name": "stdout",
     "output_type": "stream",
     "text": [
      "Fitting 3 folds for each of 216 candidates, totalling 648 fits\n"
     ]
    },
    {
     "data": {
      "text/plain": [
       "{'bootstrap': False,\n",
       " 'max_depth': 50,\n",
       " 'max_features': 2,\n",
       " 'min_samples_leaf': 6,\n",
       " 'min_samples_split': 2,\n",
       " 'n_estimators': 900}"
      ]
     },
     "execution_count": 28,
     "metadata": {},
     "output_type": "execute_result"
    }
   ],
   "source": [
    "grid_search.fit(X_train, y_train)\n",
    "grid_search.best_params_"
   ]
  },
  {
   "cell_type": "markdown",
   "metadata": {},
   "source": [
    "Evaluate the performance of the grid search"
   ]
  },
  {
   "cell_type": "code",
   "execution_count": 29,
   "metadata": {},
   "outputs": [
    {
     "name": "stdout",
     "output_type": "stream",
     "text": [
      "              precision    recall  f1-score   support\n",
      "\n",
      "           0       0.99      0.70      0.82       971\n",
      "           1       0.13      0.84      0.22        51\n",
      "\n",
      "    accuracy                           0.71      1022\n",
      "   macro avg       0.56      0.77      0.52      1022\n",
      "weighted avg       0.95      0.71      0.79      1022\n",
      "\n",
      "\n",
      "Model Performance\n",
      "Accuracy = 70.65%.\n",
      "Recall strokes only = 84.31%.\n"
     ]
    }
   ],
   "source": [
    "best_grid = grid_search.best_estimator_\n",
    "preds = best_grid.predict(X_test)\n",
    "print(classification_report(y_test,preds))\n",
    "print()\n",
    "cf = confusion_matrix(y_test,preds)\n",
    "RF_performance = performance.evaluate(test_labels = y_test, predictions = preds)"
   ]
  },
  {
   "cell_type": "code",
   "execution_count": 30,
   "metadata": {},
   "outputs": [
    {
     "name": "stdout",
     "output_type": "stream",
     "text": [
      "[[679 292]\n",
      " [  8  43]]\n"
     ]
    },
    {
     "data": {
      "image/png": "[encoded data removed]",
      "text/plain": [
       "<Figure size 432x288 with 2 Axes>"
      ]
     },
     "metadata": {
      "needs_background": "light"
     },
     "output_type": "display_data"
    }
   ],
   "source": [
    "sns.heatmap(cf, annot = True)\n",
    "print(cf)"
   ]
  },
  {
   "cell_type": "markdown",
   "metadata": {},
   "source": [
    "Change threshold to make the model more sensitive to stroke cases   "
   ]
  },
  {
   "cell_type": "code",
   "execution_count": 31,
   "metadata": {},
   "outputs": [
    {
     "name": "stdout",
     "output_type": "stream",
     "text": [
      "              precision    recall  f1-score   support\n",
      "\n",
      "           0       0.99      0.59      0.74       971\n",
      "           1       0.10      0.90      0.19        51\n",
      "\n",
      "    accuracy                           0.60      1022\n",
      "   macro avg       0.55      0.75      0.46      1022\n",
      "weighted avg       0.95      0.60      0.71      1022\n",
      "\n",
      "[[571 400]\n",
      " [  5  46]]\n"
     ]
    },
    {
     "data": {
      "image/png": "[encoded data removed]",
      "text/plain": [
       "<Figure size 432x288 with 2 Axes>"
      ]
     },
     "metadata": {
      "needs_background": "light"
     },
     "output_type": "display_data"
    }
   ],
   "source": [
    "prediction_values = best_grid.predict_proba(X_test) # also try with the \"best models\"\n",
    "\n",
    "threshold = 0.4\n",
    "predicted = (prediction_values [:,1] >= threshold).astype('int')\n",
    "\n",
    "print(classification_report(y_test, predicted))\n",
    "\n",
    "cf__new_threshhold = confusion_matrix(y_test,predicted)\n",
    "sns.heatmap(cf__new_threshhold, annot = True)\n",
    "print(cf__new_threshhold)\n"
   ]
  },
  {
   "cell_type": "markdown",
   "metadata": {},
   "source": [
    "3 more stroke patients gets correctly classified but 108 more incorecctly classified non-stroke patients. "
   ]
  }
 ],
 "metadata": {
  "interpreter": {
   "hash": "dbdd60645814b7938868bfb90c8a35d95b726a4da71410a39dd51595e66f716c"
  },
  "kernelspec": {
   "display_name": "Python 3.8.13 ('datascience')",
   "language": "python",
   "name": "python3"
  },
  "language_info": {
   "codemirror_mode": {
    "name": "ipython",
    "version": 3
   },
   "file_extension": ".py",
   "mimetype": "text/x-python",
   "name": "python",
   "nbconvert_exporter": "python",
   "pygments_lexer": "ipython3",
   "version": "3.8.13"
  },
  "orig_nbformat": 4
 },
 "nbformat": 4,
 "nbformat_minor": 2
}
