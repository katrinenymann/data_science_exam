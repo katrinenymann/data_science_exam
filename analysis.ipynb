{
 "cells": [
  {
   "cell_type": "markdown",
   "metadata": {},
   "source": [
    "# Data Analysis\n",
    "### Predictive modelling of stroke occurences"
   ]
  },
  {
   "cell_type": "markdown",
   "metadata": {},
   "source": [
    "Import libraries"
   ]
  },
  {
   "cell_type": "code",
   "execution_count": 158,
   "metadata": {},
   "outputs": [],
   "source": [
    "import pandas as pd\n",
    "from utils import DataLoader, Performance\n",
    "import matplotlib.pyplot as plt\n",
    "import seaborn as sns\n",
    "import numpy as np\n",
    "from sklearn.ensemble import RandomForestClassifier\n",
    "from sklearn.metrics import f1_score, accuracy_score\n",
    "import warnings\n",
    "warnings.filterwarnings('once')\n",
    "from sklearn.metrics import classification_report, confusion_matrix, precision_recall_fscore_support"
   ]
  },
  {
   "cell_type": "markdown",
   "metadata": {},
   "source": [
    "Load data"
   ]
  },
  {
   "cell_type": "code",
   "execution_count": 159,
   "metadata": {},
   "outputs": [],
   "source": [
    "data_loader = DataLoader(\"healthcare-dataset-stroke-data.csv\")\n",
    "data_loader.load_dataset()"
   ]
  },
  {
   "cell_type": "markdown",
   "metadata": {},
   "source": [
    "# Preprocess data\n",
    "- Using the preprocessing pipeline from Utils based on the findings from the data exploration \n",
    "- Undersample to account for the imbalance in the data set"
   ]
  },
  {
   "cell_type": "code",
   "execution_count": 160,
   "metadata": {},
   "outputs": [
    {
     "name": "stdout",
     "output_type": "stream",
     "text": [
      "(3065, 20)\n",
      "(1022, 20)\n",
      "(1022, 20)\n",
      "After undersampling: (308, 20)\n"
     ]
    }
   ],
   "source": [
    "data_loader.preprocess_data()\n",
    "# Split the data for testing and training for ANN \n",
    "X_train, X_test, X_val, y_train, y_test, y_val = data_loader.get_data_split(ANN = True)\n",
    "print(X_train.shape)\n",
    "print(X_test.shape)\n",
    "print(X_val.shape)\n",
    "\n",
    "# Oversample the train data \n",
    "X_train, y_train = data_loader.undersample(X_train, y_train)\n",
    "print(\"After undersampling:\", X_train.shape)"
   ]
  },
  {
   "cell_type": "code",
   "execution_count": 161,
   "metadata": {},
   "outputs": [
    {
     "data": {
      "text/html": [
       "<div>\n",
       "<style scoped>\n",
       "    .dataframe tbody tr th:only-of-type {\n",
       "        vertical-align: middle;\n",
       "    }\n",
       "\n",
       "    .dataframe tbody tr th {\n",
       "        vertical-align: top;\n",
       "    }\n",
       "\n",
       "    .dataframe thead th {\n",
       "        text-align: right;\n",
       "    }\n",
       "</style>\n",
       "<table border=\"1\" class=\"dataframe\">\n",
       "  <thead>\n",
       "    <tr style=\"text-align: right;\">\n",
       "      <th></th>\n",
       "      <th>gender_Female</th>\n",
       "      <th>gender_Male</th>\n",
       "      <th>ever_married_No</th>\n",
       "      <th>ever_married_Yes</th>\n",
       "      <th>work_type_Govt_job</th>\n",
       "      <th>work_type_Never_worked</th>\n",
       "      <th>work_type_Private</th>\n",
       "      <th>work_type_Self-employed</th>\n",
       "      <th>work_type_children</th>\n",
       "      <th>Residence_type_Rural</th>\n",
       "      <th>Residence_type_Urban</th>\n",
       "      <th>smoking_status_Unknown</th>\n",
       "      <th>smoking_status_formerly smoked</th>\n",
       "      <th>smoking_status_never smoked</th>\n",
       "      <th>smoking_status_smokes</th>\n",
       "      <th>age</th>\n",
       "      <th>hypertension</th>\n",
       "      <th>heart_disease</th>\n",
       "      <th>avg_glucose_level</th>\n",
       "      <th>bmi</th>\n",
       "    </tr>\n",
       "  </thead>\n",
       "  <tbody>\n",
       "    <tr>\n",
       "      <th>0</th>\n",
       "      <td>0.0</td>\n",
       "      <td>1.0</td>\n",
       "      <td>0.0</td>\n",
       "      <td>1.0</td>\n",
       "      <td>0.0</td>\n",
       "      <td>0.0</td>\n",
       "      <td>1.0</td>\n",
       "      <td>0.0</td>\n",
       "      <td>0.0</td>\n",
       "      <td>0.0</td>\n",
       "      <td>1.0</td>\n",
       "      <td>0.0</td>\n",
       "      <td>1.0</td>\n",
       "      <td>0.0</td>\n",
       "      <td>0.0</td>\n",
       "      <td>61.0</td>\n",
       "      <td>0.0</td>\n",
       "      <td>0.0</td>\n",
       "      <td>84.12</td>\n",
       "      <td>25.1</td>\n",
       "    </tr>\n",
       "    <tr>\n",
       "      <th>1</th>\n",
       "      <td>1.0</td>\n",
       "      <td>0.0</td>\n",
       "      <td>0.0</td>\n",
       "      <td>1.0</td>\n",
       "      <td>0.0</td>\n",
       "      <td>0.0</td>\n",
       "      <td>0.0</td>\n",
       "      <td>1.0</td>\n",
       "      <td>0.0</td>\n",
       "      <td>1.0</td>\n",
       "      <td>0.0</td>\n",
       "      <td>0.0</td>\n",
       "      <td>0.0</td>\n",
       "      <td>1.0</td>\n",
       "      <td>0.0</td>\n",
       "      <td>33.0</td>\n",
       "      <td>0.0</td>\n",
       "      <td>0.0</td>\n",
       "      <td>112.94</td>\n",
       "      <td>43.0</td>\n",
       "    </tr>\n",
       "    <tr>\n",
       "      <th>2</th>\n",
       "      <td>1.0</td>\n",
       "      <td>0.0</td>\n",
       "      <td>1.0</td>\n",
       "      <td>0.0</td>\n",
       "      <td>0.0</td>\n",
       "      <td>0.0</td>\n",
       "      <td>1.0</td>\n",
       "      <td>0.0</td>\n",
       "      <td>0.0</td>\n",
       "      <td>0.0</td>\n",
       "      <td>1.0</td>\n",
       "      <td>0.0</td>\n",
       "      <td>0.0</td>\n",
       "      <td>1.0</td>\n",
       "      <td>0.0</td>\n",
       "      <td>50.0</td>\n",
       "      <td>0.0</td>\n",
       "      <td>0.0</td>\n",
       "      <td>85.77</td>\n",
       "      <td>21.1</td>\n",
       "    </tr>\n",
       "    <tr>\n",
       "      <th>3</th>\n",
       "      <td>1.0</td>\n",
       "      <td>0.0</td>\n",
       "      <td>0.0</td>\n",
       "      <td>1.0</td>\n",
       "      <td>0.0</td>\n",
       "      <td>0.0</td>\n",
       "      <td>1.0</td>\n",
       "      <td>0.0</td>\n",
       "      <td>0.0</td>\n",
       "      <td>1.0</td>\n",
       "      <td>0.0</td>\n",
       "      <td>0.0</td>\n",
       "      <td>0.0</td>\n",
       "      <td>0.0</td>\n",
       "      <td>1.0</td>\n",
       "      <td>56.0</td>\n",
       "      <td>0.0</td>\n",
       "      <td>0.0</td>\n",
       "      <td>227.04</td>\n",
       "      <td>23.0</td>\n",
       "    </tr>\n",
       "    <tr>\n",
       "      <th>4</th>\n",
       "      <td>1.0</td>\n",
       "      <td>0.0</td>\n",
       "      <td>0.0</td>\n",
       "      <td>1.0</td>\n",
       "      <td>0.0</td>\n",
       "      <td>0.0</td>\n",
       "      <td>1.0</td>\n",
       "      <td>0.0</td>\n",
       "      <td>0.0</td>\n",
       "      <td>1.0</td>\n",
       "      <td>0.0</td>\n",
       "      <td>0.0</td>\n",
       "      <td>0.0</td>\n",
       "      <td>1.0</td>\n",
       "      <td>0.0</td>\n",
       "      <td>43.0</td>\n",
       "      <td>0.0</td>\n",
       "      <td>0.0</td>\n",
       "      <td>82.57</td>\n",
       "      <td>29.1</td>\n",
       "    </tr>\n",
       "    <tr>\n",
       "      <th>...</th>\n",
       "      <td>...</td>\n",
       "      <td>...</td>\n",
       "      <td>...</td>\n",
       "      <td>...</td>\n",
       "      <td>...</td>\n",
       "      <td>...</td>\n",
       "      <td>...</td>\n",
       "      <td>...</td>\n",
       "      <td>...</td>\n",
       "      <td>...</td>\n",
       "      <td>...</td>\n",
       "      <td>...</td>\n",
       "      <td>...</td>\n",
       "      <td>...</td>\n",
       "      <td>...</td>\n",
       "      <td>...</td>\n",
       "      <td>...</td>\n",
       "      <td>...</td>\n",
       "      <td>...</td>\n",
       "      <td>...</td>\n",
       "    </tr>\n",
       "    <tr>\n",
       "      <th>303</th>\n",
       "      <td>1.0</td>\n",
       "      <td>0.0</td>\n",
       "      <td>0.0</td>\n",
       "      <td>1.0</td>\n",
       "      <td>0.0</td>\n",
       "      <td>0.0</td>\n",
       "      <td>1.0</td>\n",
       "      <td>0.0</td>\n",
       "      <td>0.0</td>\n",
       "      <td>1.0</td>\n",
       "      <td>0.0</td>\n",
       "      <td>0.0</td>\n",
       "      <td>0.0</td>\n",
       "      <td>1.0</td>\n",
       "      <td>0.0</td>\n",
       "      <td>80.0</td>\n",
       "      <td>1.0</td>\n",
       "      <td>0.0</td>\n",
       "      <td>74.90</td>\n",
       "      <td>22.2</td>\n",
       "    </tr>\n",
       "    <tr>\n",
       "      <th>304</th>\n",
       "      <td>0.0</td>\n",
       "      <td>1.0</td>\n",
       "      <td>0.0</td>\n",
       "      <td>1.0</td>\n",
       "      <td>0.0</td>\n",
       "      <td>0.0</td>\n",
       "      <td>1.0</td>\n",
       "      <td>0.0</td>\n",
       "      <td>0.0</td>\n",
       "      <td>0.0</td>\n",
       "      <td>1.0</td>\n",
       "      <td>1.0</td>\n",
       "      <td>0.0</td>\n",
       "      <td>0.0</td>\n",
       "      <td>0.0</td>\n",
       "      <td>74.0</td>\n",
       "      <td>0.0</td>\n",
       "      <td>0.0</td>\n",
       "      <td>98.55</td>\n",
       "      <td>25.6</td>\n",
       "    </tr>\n",
       "    <tr>\n",
       "      <th>305</th>\n",
       "      <td>0.0</td>\n",
       "      <td>1.0</td>\n",
       "      <td>0.0</td>\n",
       "      <td>1.0</td>\n",
       "      <td>0.0</td>\n",
       "      <td>0.0</td>\n",
       "      <td>0.0</td>\n",
       "      <td>1.0</td>\n",
       "      <td>0.0</td>\n",
       "      <td>1.0</td>\n",
       "      <td>0.0</td>\n",
       "      <td>0.0</td>\n",
       "      <td>0.0</td>\n",
       "      <td>1.0</td>\n",
       "      <td>0.0</td>\n",
       "      <td>80.0</td>\n",
       "      <td>0.0</td>\n",
       "      <td>0.0</td>\n",
       "      <td>104.12</td>\n",
       "      <td>23.5</td>\n",
       "    </tr>\n",
       "    <tr>\n",
       "      <th>306</th>\n",
       "      <td>1.0</td>\n",
       "      <td>0.0</td>\n",
       "      <td>0.0</td>\n",
       "      <td>1.0</td>\n",
       "      <td>0.0</td>\n",
       "      <td>0.0</td>\n",
       "      <td>1.0</td>\n",
       "      <td>0.0</td>\n",
       "      <td>0.0</td>\n",
       "      <td>0.0</td>\n",
       "      <td>1.0</td>\n",
       "      <td>0.0</td>\n",
       "      <td>1.0</td>\n",
       "      <td>0.0</td>\n",
       "      <td>0.0</td>\n",
       "      <td>76.0</td>\n",
       "      <td>0.0</td>\n",
       "      <td>0.0</td>\n",
       "      <td>57.92</td>\n",
       "      <td>28.1</td>\n",
       "    </tr>\n",
       "    <tr>\n",
       "      <th>307</th>\n",
       "      <td>1.0</td>\n",
       "      <td>0.0</td>\n",
       "      <td>0.0</td>\n",
       "      <td>1.0</td>\n",
       "      <td>0.0</td>\n",
       "      <td>0.0</td>\n",
       "      <td>1.0</td>\n",
       "      <td>0.0</td>\n",
       "      <td>0.0</td>\n",
       "      <td>0.0</td>\n",
       "      <td>1.0</td>\n",
       "      <td>0.0</td>\n",
       "      <td>0.0</td>\n",
       "      <td>1.0</td>\n",
       "      <td>0.0</td>\n",
       "      <td>49.0</td>\n",
       "      <td>0.0</td>\n",
       "      <td>0.0</td>\n",
       "      <td>60.91</td>\n",
       "      <td>29.9</td>\n",
       "    </tr>\n",
       "  </tbody>\n",
       "</table>\n",
       "<p>308 rows × 20 columns</p>\n",
       "</div>"
      ],
      "text/plain": [
       "     gender_Female  gender_Male  ever_married_No  ever_married_Yes  \\\n",
       "0              0.0          1.0              0.0               1.0   \n",
       "1              1.0          0.0              0.0               1.0   \n",
       "2              1.0          0.0              1.0               0.0   \n",
       "3              1.0          0.0              0.0               1.0   \n",
       "4              1.0          0.0              0.0               1.0   \n",
       "..             ...          ...              ...               ...   \n",
       "303            1.0          0.0              0.0               1.0   \n",
       "304            0.0          1.0              0.0               1.0   \n",
       "305            0.0          1.0              0.0               1.0   \n",
       "306            1.0          0.0              0.0               1.0   \n",
       "307            1.0          0.0              0.0               1.0   \n",
       "\n",
       "     work_type_Govt_job  work_type_Never_worked  work_type_Private  \\\n",
       "0                   0.0                     0.0                1.0   \n",
       "1                   0.0                     0.0                0.0   \n",
       "2                   0.0                     0.0                1.0   \n",
       "3                   0.0                     0.0                1.0   \n",
       "4                   0.0                     0.0                1.0   \n",
       "..                  ...                     ...                ...   \n",
       "303                 0.0                     0.0                1.0   \n",
       "304                 0.0                     0.0                1.0   \n",
       "305                 0.0                     0.0                0.0   \n",
       "306                 0.0                     0.0                1.0   \n",
       "307                 0.0                     0.0                1.0   \n",
       "\n",
       "     work_type_Self-employed  work_type_children  Residence_type_Rural  \\\n",
       "0                        0.0                 0.0                   0.0   \n",
       "1                        1.0                 0.0                   1.0   \n",
       "2                        0.0                 0.0                   0.0   \n",
       "3                        0.0                 0.0                   1.0   \n",
       "4                        0.0                 0.0                   1.0   \n",
       "..                       ...                 ...                   ...   \n",
       "303                      0.0                 0.0                   1.0   \n",
       "304                      0.0                 0.0                   0.0   \n",
       "305                      1.0                 0.0                   1.0   \n",
       "306                      0.0                 0.0                   0.0   \n",
       "307                      0.0                 0.0                   0.0   \n",
       "\n",
       "     Residence_type_Urban  smoking_status_Unknown  \\\n",
       "0                     1.0                     0.0   \n",
       "1                     0.0                     0.0   \n",
       "2                     1.0                     0.0   \n",
       "3                     0.0                     0.0   \n",
       "4                     0.0                     0.0   \n",
       "..                    ...                     ...   \n",
       "303                   0.0                     0.0   \n",
       "304                   1.0                     1.0   \n",
       "305                   0.0                     0.0   \n",
       "306                   1.0                     0.0   \n",
       "307                   1.0                     0.0   \n",
       "\n",
       "     smoking_status_formerly smoked  smoking_status_never smoked  \\\n",
       "0                               1.0                          0.0   \n",
       "1                               0.0                          1.0   \n",
       "2                               0.0                          1.0   \n",
       "3                               0.0                          0.0   \n",
       "4                               0.0                          1.0   \n",
       "..                              ...                          ...   \n",
       "303                             0.0                          1.0   \n",
       "304                             0.0                          0.0   \n",
       "305                             0.0                          1.0   \n",
       "306                             1.0                          0.0   \n",
       "307                             0.0                          1.0   \n",
       "\n",
       "     smoking_status_smokes   age  hypertension  heart_disease  \\\n",
       "0                      0.0  61.0           0.0            0.0   \n",
       "1                      0.0  33.0           0.0            0.0   \n",
       "2                      0.0  50.0           0.0            0.0   \n",
       "3                      1.0  56.0           0.0            0.0   \n",
       "4                      0.0  43.0           0.0            0.0   \n",
       "..                     ...   ...           ...            ...   \n",
       "303                    0.0  80.0           1.0            0.0   \n",
       "304                    0.0  74.0           0.0            0.0   \n",
       "305                    0.0  80.0           0.0            0.0   \n",
       "306                    0.0  76.0           0.0            0.0   \n",
       "307                    0.0  49.0           0.0            0.0   \n",
       "\n",
       "     avg_glucose_level   bmi  \n",
       "0                84.12  25.1  \n",
       "1               112.94  43.0  \n",
       "2                85.77  21.1  \n",
       "3               227.04  23.0  \n",
       "4                82.57  29.1  \n",
       "..                 ...   ...  \n",
       "303              74.90  22.2  \n",
       "304              98.55  25.6  \n",
       "305             104.12  23.5  \n",
       "306              57.92  28.1  \n",
       "307              60.91  29.9  \n",
       "\n",
       "[308 rows x 20 columns]"
      ]
     },
     "execution_count": 161,
     "metadata": {},
     "output_type": "execute_result"
    }
   ],
   "source": [
    "# Check data\n",
    "X_train"
   ]
  },
  {
   "cell_type": "markdown",
   "metadata": {},
   "source": [
    "## Fit models\n",
    "- ANN\n",
    "- Random Forest\n",
    "- XGBoost"
   ]
  },
  {
   "cell_type": "markdown",
   "metadata": {},
   "source": [
    "### ANN"
   ]
  },
  {
   "cell_type": "code",
   "execution_count": 162,
   "metadata": {},
   "outputs": [],
   "source": [
    "#Scale and Fit the data\n",
    "# Scaling is needed which it is not for random forest or XGBoost\n",
    "from sklearn.preprocessing import StandardScaler\n",
    "scaler = StandardScaler()\n",
    "X_train_scaled = scaler.fit_transform(X_train)\n",
    "X_test_scaled = scaler.transform(X_test)\n",
    "X_val_scaled = scaler.transform(X_val)"
   ]
  },
  {
   "cell_type": "code",
   "execution_count": 163,
   "metadata": {},
   "outputs": [],
   "source": [
    "import tensorflow as tf\n",
    "from tensorflow.keras.models import Sequential\n",
    "from tensorflow.keras.layers import Dense, Activation,Dropout\n",
    "from tensorflow.keras.callbacks import EarlyStopping, ModelCheckpoint\n",
    "tf.random.set_seed(2)"
   ]
  },
  {
   "cell_type": "markdown",
   "metadata": {},
   "source": [
    "#### Define model"
   ]
  },
  {
   "cell_type": "code",
   "execution_count": 167,
   "metadata": {},
   "outputs": [],
   "source": [
    "#ANN MODEL\n",
    "model = Sequential()\n",
    "\n",
    "model.add(Dense(units = 14, activation = 'relu'))\n",
    "model.add(Dropout(.1))\n",
    "model.add(Dense(units = 7, activation = 'relu'))\n",
    "model.add(Dropout(.1))\n",
    "model.add(Dense(units = 3, activation = 'relu'))\n",
    "model.add(Dropout(.1))\n",
    "model.add(Dense(units = 1, activation = 'sigmoid'))\n",
    "\n",
    "model.compile(loss = 'binary_crossentropy', optimizer = 'adam', metrics = 'accuracy') # metrics=[tf.keras.metrics.FalsePositives()]"
   ]
  },
  {
   "cell_type": "markdown",
   "metadata": {},
   "source": [
    "#### Define early stopping callback"
   ]
  },
  {
   "cell_type": "code",
   "execution_count": 168,
   "metadata": {},
   "outputs": [],
   "source": [
    "#stops when validation loss is not dropping for 3 epochs\n",
    "#early_stop = EarlyStopping(monitor = 'val_loss', mode = 'min', patience = 10, verbose = 1)\n",
    "# Rule of thumb, patience is 10% of the number of epochs \n",
    "# We need to save the model \n",
    "callbacks = [EarlyStopping(monitor='val_loss', patience=12),\n",
    "             ModelCheckpoint(filepath='best_model.h5', monitor='val_loss', save_best_only=True)]"
   ]
  },
  {
   "cell_type": "markdown",
   "metadata": {},
   "source": [
    "#### Fit model"
   ]
  },
  {
   "cell_type": "code",
   "execution_count": 169,
   "metadata": {},
   "outputs": [
    {
     "name": "stdout",
     "output_type": "stream",
     "text": [
      "Epoch 1/150\n",
      "11/11 [==============================] - 2s 47ms/step - loss: 0.7110 - false_positives: 105.0000 - val_loss: 0.7385 - val_false_positives: 646.0000\n",
      "Epoch 2/150\n",
      "11/11 [==============================] - 0s 13ms/step - loss: 0.7091 - false_positives: 99.0000 - val_loss: 0.7261 - val_false_positives: 607.0000\n",
      "Epoch 3/150\n",
      "11/11 [==============================] - 0s 15ms/step - loss: 0.6991 - false_positives: 88.0000 - val_loss: 0.7190 - val_false_positives: 581.0000\n",
      "Epoch 4/150\n",
      "11/11 [==============================] - 0s 15ms/step - loss: 0.6965 - false_positives: 88.0000 - val_loss: 0.7154 - val_false_positives: 568.0000\n",
      "Epoch 5/150\n",
      "11/11 [==============================] - 0s 13ms/step - loss: 0.6934 - false_positives: 92.0000 - val_loss: 0.7114 - val_false_positives: 538.0000\n",
      "Epoch 6/150\n",
      "11/11 [==============================] - 0s 15ms/step - loss: 0.6879 - false_positives: 85.0000 - val_loss: 0.7067 - val_false_positives: 484.0000\n",
      "Epoch 7/150\n",
      "11/11 [==============================] - 0s 14ms/step - loss: 0.6864 - false_positives: 75.0000 - val_loss: 0.7048 - val_false_positives: 454.0000\n",
      "Epoch 8/150\n",
      "11/11 [==============================] - 0s 11ms/step - loss: 0.6840 - false_positives: 60.0000 - val_loss: 0.7065 - val_false_positives: 465.0000\n",
      "Epoch 9/150\n",
      "11/11 [==============================] - 0s 10ms/step - loss: 0.6797 - false_positives: 69.0000 - val_loss: 0.7092 - val_false_positives: 482.0000\n",
      "Epoch 10/150\n",
      "11/11 [==============================] - 0s 11ms/step - loss: 0.6789 - false_positives: 62.0000 - val_loss: 0.7094 - val_false_positives: 454.0000\n",
      "Epoch 11/150\n",
      "11/11 [==============================] - 0s 11ms/step - loss: 0.6696 - false_positives: 65.0000 - val_loss: 0.7123 - val_false_positives: 427.0000\n",
      "Epoch 12/150\n",
      "11/11 [==============================] - 0s 11ms/step - loss: 0.6668 - false_positives: 64.0000 - val_loss: 0.7167 - val_false_positives: 420.0000\n",
      "Epoch 13/150\n",
      "11/11 [==============================] - 0s 13ms/step - loss: 0.6652 - false_positives: 68.0000 - val_loss: 0.7228 - val_false_positives: 417.0000\n",
      "Epoch 14/150\n",
      "11/11 [==============================] - 0s 12ms/step - loss: 0.6638 - false_positives: 58.0000 - val_loss: 0.7292 - val_false_positives: 427.0000\n",
      "Epoch 15/150\n",
      "11/11 [==============================] - 0s 12ms/step - loss: 0.6662 - false_positives: 69.0000 - val_loss: 0.7339 - val_false_positives: 434.0000\n",
      "Epoch 16/150\n",
      "11/11 [==============================] - 0s 14ms/step - loss: 0.6587 - false_positives: 60.0000 - val_loss: 0.7363 - val_false_positives: 426.0000\n",
      "Epoch 17/150\n",
      "11/11 [==============================] - 0s 13ms/step - loss: 0.6550 - false_positives: 61.0000 - val_loss: 0.7384 - val_false_positives: 420.0000\n",
      "Epoch 18/150\n",
      "11/11 [==============================] - 0s 11ms/step - loss: 0.6480 - false_positives: 60.0000 - val_loss: 0.7442 - val_false_positives: 418.0000\n",
      "Epoch 19/150\n",
      "11/11 [==============================] - 0s 11ms/step - loss: 0.6487 - false_positives: 52.0000 - val_loss: 0.7464 - val_false_positives: 411.0000\n"
     ]
    },
    {
     "data": {
      "text/plain": [
       "<keras.callbacks.History at 0x1616fd3c670>"
      ]
     },
     "execution_count": 169,
     "metadata": {},
     "output_type": "execute_result"
    }
   ],
   "source": [
    "#Fitting model\n",
    "model.fit(X_train_scaled, y_train, \n",
    "          epochs = 150,\n",
    "         validation_data=(X_val_scaled, y_val),\n",
    "         verbose = 1, \n",
    "         callbacks=callbacks, batch_size=30)"
   ]
  },
  {
   "cell_type": "code",
   "execution_count": 170,
   "metadata": {},
   "outputs": [
    {
     "data": {
      "text/plain": [
       "Text(0.5, 1.0, 'Training loss and accuracies')"
      ]
     },
     "execution_count": 170,
     "metadata": {},
     "output_type": "execute_result"
    },
    {
     "data": {
      "image/png": "[encoded data removed]",
      "text/plain": [
       "<Figure size 432x288 with 1 Axes>"
      ]
     },
     "metadata": {
      "needs_background": "light"
     },
     "output_type": "display_data"
    }
   ],
   "source": [
    "# Visualize training\n",
    "model_loss = pd.DataFrame(model.history.history)\n",
    "model_loss.plot()\n",
    "plt.legend(bbox_to_anchor=(1.02, 1), loc='upper left', borderaxespad=0)\n",
    "plt.xlabel(\"Epoch\")\n",
    "plt.ylabel(\"Count\")\n",
    "plt.title(\"Training loss and accuracies\")"
   ]
  },
  {
   "cell_type": "markdown",
   "metadata": {},
   "source": [
    "##### Performance of ANN model"
   ]
  },
  {
   "cell_type": "code",
   "execution_count": 171,
   "metadata": {},
   "outputs": [
    {
     "name": "stdout",
     "output_type": "stream",
     "text": [
      "32/32 [==============================] - 0s 2ms/step\n",
      "Model Performance\n",
      "Accuracy = 50.39%.\n",
      "Recall strokes only = 56.86%.\n"
     ]
    }
   ],
   "source": [
    "# First we load the best model\n",
    "from keras.models import load_model\n",
    "saved_model = load_model('best_model.h5')\n",
    "\n",
    "#Predictions\n",
    "prediction_values = saved_model.predict(X_test_scaled)\n",
    "# Convert into classes \n",
    "prediction_best = []\n",
    "for i in prediction_values:\n",
    "    prediction_best.append(np.where(i > 0.5, 1,0)[0])\n",
    "\n",
    "performance = Performance()\n",
    "saved_model_performance = performance.evaluate(test_labels = y_test, predictions = prediction_best)"
   ]
  },
  {
   "cell_type": "markdown",
   "metadata": {},
   "source": [
    "We also check the last model since we were optimizing for accuracy, the recall of strokes might be better here"
   ]
  },
  {
   "cell_type": "code",
   "execution_count": 172,
   "metadata": {},
   "outputs": [
    {
     "name": "stdout",
     "output_type": "stream",
     "text": [
      "32/32 [==============================] - 0s 2ms/step\n",
      "Model Performance\n",
      "Accuracy = 55.58%.\n",
      "Recall strokes only = 74.51%.\n"
     ]
    }
   ],
   "source": [
    "#Predictions\n",
    "prediction_values = model.predict(X_test_scaled)\n",
    "# Convert into classes \n",
    "prediction = []\n",
    "for i in prediction_values:\n",
    "    prediction.append(np.where(i > 0.5, 1,0)[0])\n",
    "\n",
    "model_performance = performance.evaluate(test_labels = y_test, predictions = prediction)"
   ]
  },
  {
   "cell_type": "markdown",
   "metadata": {},
   "source": [
    "Since this model did perform better in terms of recalling strokes we choose th elast model as the best model. "
   ]
  },
  {
   "cell_type": "markdown",
   "metadata": {},
   "source": [
    "We make classification report and confusion matrix"
   ]
  },
  {
   "cell_type": "code",
   "execution_count": 173,
   "metadata": {},
   "outputs": [
    {
     "name": "stdout",
     "output_type": "stream",
     "text": [
      "              precision    recall  f1-score   support\n",
      "\n",
      "           0       0.98      0.55      0.70       971\n",
      "           1       0.08      0.75      0.14        51\n",
      "\n",
      "    accuracy                           0.56      1022\n",
      "   macro avg       0.53      0.65      0.42      1022\n",
      "weighted avg       0.93      0.56      0.67      1022\n",
      "\n"
     ]
    }
   ],
   "source": [
    "print(classification_report(y_test,prediction))\n",
    "\n",
    "cf = confusion_matrix(y_test,prediction)"
   ]
  },
  {
   "cell_type": "markdown",
   "metadata": {},
   "source": [
    "Visualize with a Heatmap"
   ]
  },
  {
   "cell_type": "code",
   "execution_count": 174,
   "metadata": {},
   "outputs": [
    {
     "name": "stdout",
     "output_type": "stream",
     "text": [
      "[[530 441]\n",
      " [ 13  38]]\n"
     ]
    },
    {
     "data": {
      "image/png": "[encoded data removed]",
      "text/plain": [
       "<Figure size 432x288 with 2 Axes>"
      ]
     },
     "metadata": {
      "needs_background": "light"
     },
     "output_type": "display_data"
    }
   ],
   "source": [
    "import seaborn as sns\n",
    "sns.heatmap(cf, annot=True)\n",
    "print(cf)"
   ]
  },
  {
   "cell_type": "markdown",
   "metadata": {},
   "source": [
    "### XGBoost\n",
    "\n",
    "Now we split again to not have the val data for these models"
   ]
  },
  {
   "cell_type": "code",
   "execution_count": 30,
   "metadata": {},
   "outputs": [
    {
     "name": "stdout",
     "output_type": "stream",
     "text": [
      "(4087, 20)\n",
      "(1022, 20)\n",
      "After undersampling: (396, 20)\n"
     ]
    }
   ],
   "source": [
    "X_train, X_test, y_train, y_test = data_loader.get_data_split(ANN = False)\n",
    "print(X_train.shape)\n",
    "print(X_test.shape)\n",
    "\n",
    "# Oversample the train data \n",
    "X_train, y_train = data_loader.undersample(X_train, y_train)\n",
    "print(\"After undersampling:\", X_train.shape)"
   ]
  },
  {
   "cell_type": "code",
   "execution_count": 32,
   "metadata": {},
   "outputs": [
    {
     "name": "stdout",
     "output_type": "stream",
     "text": [
      "              precision    recall  f1-score   support\n",
      "\n",
      "           0       0.98      0.71      0.82       971\n",
      "           1       0.11      0.71      0.20        51\n",
      "\n",
      "    accuracy                           0.71      1022\n",
      "   macro avg       0.55      0.71      0.51      1022\n",
      "weighted avg       0.94      0.71      0.79      1022\n",
      "\n",
      "\n",
      "Model Performance\n",
      "Accuracy = 71.04%.\n",
      "Recall strokes only = 70.59%.\n"
     ]
    }
   ],
   "source": [
    "from xgboost import XGBClassifier\n",
    "XGB = XGBClassifier(eval_metric= 'error')\n",
    "XGB.fit(X_train, y_train) # Fit model\n",
    "y_pred = XGB.predict(X_test) # Make predictions\n",
    "\n",
    "\n",
    "print(classification_report(y_test,y_pred))\n",
    "print()\n",
    "cf = confusion_matrix(y_test,y_pred)\n",
    "XGB_performance = performance.evaluate(test_labels = y_test, predictions = y_pred)"
   ]
  },
  {
   "cell_type": "code",
   "execution_count": 34,
   "metadata": {},
   "outputs": [
    {
     "name": "stdout",
     "output_type": "stream",
     "text": [
      "[[690 281]\n",
      " [ 15  36]]\n"
     ]
    },
    {
     "data": {
      "image/png": "[encoded data removed]",
      "text/plain": [
       "<Figure size 432x288 with 2 Axes>"
      ]
     },
     "metadata": {
      "needs_background": "light"
     },
     "output_type": "display_data"
    }
   ],
   "source": [
    "sns.heatmap(cf, annot = True)\n",
    "print(cf)"
   ]
  },
  {
   "cell_type": "markdown",
   "metadata": {},
   "source": [
    "### Random Forest"
   ]
  },
  {
   "cell_type": "code",
   "execution_count": 40,
   "metadata": {},
   "outputs": [
    {
     "name": "stdout",
     "output_type": "stream",
     "text": [
      "              precision    recall  f1-score   support\n",
      "\n",
      "           0       0.99      0.69      0.81       971\n",
      "           1       0.12      0.82      0.22        51\n",
      "\n",
      "    accuracy                           0.70      1022\n",
      "   macro avg       0.56      0.76      0.52      1022\n",
      "weighted avg       0.94      0.70      0.79      1022\n",
      "\n",
      "\n",
      "Model Performance\n",
      "Accuracy = 70.06%.\n",
      "Recall strokes only = 82.35%.\n"
     ]
    }
   ],
   "source": [
    "rf = RandomForestClassifier()\n",
    "rf.fit(X_train.values, y_train)\n",
    "y_pred = rf.predict(X_test.values)\n",
    "print(classification_report(y_test,y_pred))\n",
    "print()\n",
    "cf = confusion_matrix(y_test,y_pred)\n",
    "XGB_performance = performance.evaluate(test_labels = y_test, predictions = y_pred)"
   ]
  },
  {
   "cell_type": "code",
   "execution_count": 79,
   "metadata": {},
   "outputs": [
    {
     "data": {
      "text/plain": [
       "'auto'"
      ]
     },
     "execution_count": 79,
     "metadata": {},
     "output_type": "execute_result"
    }
   ],
   "source": [
    "rf.max_features"
   ]
  },
  {
   "cell_type": "code",
   "execution_count": 42,
   "metadata": {},
   "outputs": [
    {
     "name": "stdout",
     "output_type": "stream",
     "text": [
      "[[674 297]\n",
      " [  9  42]]\n"
     ]
    },
    {
     "data": {
      "image/png": "[encoded data removed]",
      "text/plain": [
       "<Figure size 432x288 with 2 Axes>"
      ]
     },
     "metadata": {
      "needs_background": "light"
     },
     "output_type": "display_data"
    }
   ],
   "source": [
    "sns.heatmap(cf, annot = True)\n",
    "print(cf)"
   ]
  },
  {
   "cell_type": "markdown",
   "metadata": {},
   "source": [
    "#### Attempt to optimize rf"
   ]
  },
  {
   "cell_type": "markdown",
   "metadata": {},
   "source": [
    "#### Tuning RF\n",
    "\n",
    "We do cross validation. \n",
    "First we define a grid of parameters"
   ]
  },
  {
   "cell_type": "code",
   "execution_count": 47,
   "metadata": {},
   "outputs": [
    {
     "name": "stdout",
     "output_type": "stream",
     "text": [
      "{'n_estimators': [200, 400, 600, 800, 1000, 1200, 1400, 1600, 1800, 2000], 'max_features': ['auto', 'sqrt'], 'max_depth': [10, 20, 30, 40, 50, 60, 70, 80, 90, 100, 110, None], 'min_samples_split': [2, 5, 10], 'min_samples_leaf': [1, 2, 4], 'bootstrap': [True, False]}\n"
     ]
    }
   ],
   "source": [
    "from sklearn.model_selection import RandomizedSearchCV\n",
    "# Number of trees in random forest\n",
    "n_estimators = [int(x) for x in np.linspace(start = 200, stop = 2000, num = 10)]\n",
    "# Number of features to consider at every split\n",
    "max_features = ['auto', 'sqrt']\n",
    "# Maximum number of levels in tree\n",
    "max_depth = [int(x) for x in np.linspace(10, 110, num = 11)]\n",
    "max_depth.append(None)\n",
    "# Minimum number of samples required to split a node\n",
    "min_samples_split = [2, 5, 10]\n",
    "# Minimum number of samples required at each leaf node\n",
    "min_samples_leaf = [1, 2, 4]\n",
    "# Method of selecting samples for training each tree\n",
    "bootstrap = [True, False]\n",
    "# Create the random grid\n",
    "random_grid = {'n_estimators': n_estimators,\n",
    "               'max_features': max_features,\n",
    "               'max_depth': max_depth,\n",
    "               'min_samples_split': min_samples_split,\n",
    "               'min_samples_leaf': min_samples_leaf,\n",
    "               'bootstrap': bootstrap}\n",
    "print(random_grid)"
   ]
  },
  {
   "cell_type": "markdown",
   "metadata": {},
   "source": [
    "Random search and fit\n"
   ]
  },
  {
   "cell_type": "code",
   "execution_count": 48,
   "metadata": {},
   "outputs": [
    {
     "name": "stdout",
     "output_type": "stream",
     "text": [
      "Fitting 3 folds for each of 100 candidates, totalling 300 fits\n"
     ]
    },
    {
     "data": {
      "text/plain": [
       "RandomizedSearchCV(cv=3, estimator=RandomForestClassifier(), n_iter=100,\n",
       "                   n_jobs=-1,\n",
       "                   param_distributions={'bootstrap': [True, False],\n",
       "                                        'max_depth': [10, 20, 30, 40, 50, 60,\n",
       "                                                      70, 80, 90, 100, 110,\n",
       "                                                      None],\n",
       "                                        'max_features': ['auto', 'sqrt'],\n",
       "                                        'min_samples_leaf': [1, 2, 4],\n",
       "                                        'min_samples_split': [2, 5, 10],\n",
       "                                        'n_estimators': [200, 400, 600, 800,\n",
       "                                                         1000, 1200, 1400, 1600,\n",
       "                                                         1800, 2000]},\n",
       "                   random_state=42, verbose=2)"
      ]
     },
     "execution_count": 48,
     "metadata": {},
     "output_type": "execute_result"
    }
   ],
   "source": [
    "# Random search of parameters, using 3 fold cross validation, \n",
    "# search across 100 different combinations, and use all available cores\n",
    "rf_random = RandomizedSearchCV(estimator = rf, param_distributions = random_grid, n_iter = 100, cv = 3, verbose=2, random_state=42, n_jobs = -1)\n",
    "# Fit the random search model\n",
    "rf_random.fit(X_train, y_train)"
   ]
  },
  {
   "cell_type": "code",
   "execution_count": 49,
   "metadata": {},
   "outputs": [
    {
     "data": {
      "text/plain": [
       "{'n_estimators': 600,\n",
       " 'min_samples_split': 2,\n",
       " 'min_samples_leaf': 4,\n",
       " 'max_features': 'sqrt',\n",
       " 'max_depth': 60,\n",
       " 'bootstrap': False}"
      ]
     },
     "execution_count": 49,
     "metadata": {},
     "output_type": "execute_result"
    }
   ],
   "source": [
    "# View best parameters from fitting\n",
    "rf_random.best_params_"
   ]
  },
  {
   "cell_type": "markdown",
   "metadata": {},
   "source": [
    "#### Evaluate Random search\n",
    "Evaluate the random search based on recall of class 1 (stroke) only. \n",
    "Recall answers what proportion of actual positives aka strokes was identified correctly? But in this case only among the strokes patients since this is the parameter that needs optimization. "
   ]
  },
  {
   "cell_type": "markdown",
   "metadata": {},
   "source": [
    "Base model meaning evaluating the training"
   ]
  },
  {
   "cell_type": "code",
   "execution_count": 50,
   "metadata": {},
   "outputs": [
    {
     "name": "stdout",
     "output_type": "stream",
     "text": [
      "              precision    recall  f1-score   support\n",
      "\n",
      "           0       1.00      1.00      1.00       198\n",
      "           1       1.00      1.00      1.00       198\n",
      "\n",
      "    accuracy                           1.00       396\n",
      "   macro avg       1.00      1.00      1.00       396\n",
      "weighted avg       1.00      1.00      1.00       396\n",
      "\n",
      "\n",
      "Model Performance\n",
      "Accuracy = 100.00%.\n",
      "Recall strokes only = 100.00%.\n"
     ]
    },
    {
     "name": "stderr",
     "output_type": "stream",
     "text": [
      "X has feature names, but RandomForestClassifier was fitted without feature names\n"
     ]
    }
   ],
   "source": [
    "train_preds = rf.predict(X_train)\n",
    "print(classification_report(y_train,train_preds))\n",
    "print()\n",
    "cf = confusion_matrix(y_train,train_preds)\n",
    "RF_performance = performance.evaluate(test_labels = y_train, predictions = train_preds)"
   ]
  },
  {
   "cell_type": "markdown",
   "metadata": {},
   "source": [
    "The best model from the random estimator (OBS no difference)"
   ]
  },
  {
   "cell_type": "code",
   "execution_count": 51,
   "metadata": {},
   "outputs": [
    {
     "name": "stdout",
     "output_type": "stream",
     "text": [
      "              precision    recall  f1-score   support\n",
      "\n",
      "           0       0.99      0.70      0.82       971\n",
      "           1       0.12      0.82      0.22        51\n",
      "\n",
      "    accuracy                           0.70      1022\n",
      "   macro avg       0.56      0.76      0.52      1022\n",
      "weighted avg       0.94      0.70      0.79      1022\n",
      "\n",
      "\n",
      "Model Performance\n",
      "Accuracy = 70.16%.\n",
      "Recall strokes only = 82.35%.\n"
     ]
    }
   ],
   "source": [
    "best_random = rf_random.best_estimator_\n",
    "preds = best_random.predict(X_test)\n",
    "print(classification_report(y_test,preds))\n",
    "print()\n",
    "cf = confusion_matrix(y_test,preds)\n",
    "RF_performance = performance.evaluate(test_labels = y_test, predictions = preds)"
   ]
  },
  {
   "cell_type": "code",
   "execution_count": 57,
   "metadata": {},
   "outputs": [
    {
     "name": "stdout",
     "output_type": "stream",
     "text": [
      "[[673 298]\n",
      " [  9  42]]\n"
     ]
    },
    {
     "data": {
      "image/png": "[encoded data removed]",
      "text/plain": [
       "<Figure size 432x288 with 2 Axes>"
      ]
     },
     "metadata": {
      "needs_background": "light"
     },
     "output_type": "display_data"
    }
   ],
   "source": [
    "sns.heatmap(cf, annot = True)\n",
    "print(cf)"
   ]
  },
  {
   "cell_type": "markdown",
   "metadata": {},
   "source": [
    "{'n_estimators': 600,\n",
    " 'min_samples_split': 2,\n",
    " 'min_samples_leaf': 4,\n",
    " 'max_features': 'sqrt',\n",
    " 'max_depth': 60,\n",
    " 'bootstrap': False}"
   ]
  },
  {
   "cell_type": "markdown",
   "metadata": {},
   "source": [
    "#### Grid search (no difference in performance)"
   ]
  },
  {
   "cell_type": "code",
   "execution_count": 53,
   "metadata": {},
   "outputs": [],
   "source": [
    "from sklearn.model_selection import GridSearchCV\n",
    "# Create the parameter grid based on the results of random search \n",
    "param_grid = {\n",
    "    'bootstrap': [False],\n",
    "    'max_depth': [50, 60, 70],\n",
    "    'max_features': [2, 4], # sqrt of total number of featuers in data\n",
    "    'min_samples_leaf': [2, 4, 6],\n",
    "    'min_samples_split': [2, 3, 4],\n",
    "    'n_estimators': [300, 500, 700, 900]\n",
    "}\n",
    "# Create a based model\n",
    "rf = RandomForestClassifier()\n",
    "# Instantiate the grid search model\n",
    "grid_search = GridSearchCV(estimator = rf, param_grid = param_grid, \n",
    "                          cv = 3, n_jobs = -1, verbose = 2)"
   ]
  },
  {
   "cell_type": "code",
   "execution_count": 54,
   "metadata": {},
   "outputs": [
    {
     "name": "stdout",
     "output_type": "stream",
     "text": [
      "Fitting 3 folds for each of 216 candidates, totalling 648 fits\n"
     ]
    },
    {
     "data": {
      "text/plain": [
       "{'bootstrap': False,\n",
       " 'max_depth': 50,\n",
       " 'max_features': 4,\n",
       " 'min_samples_leaf': 6,\n",
       " 'min_samples_split': 2,\n",
       " 'n_estimators': 700}"
      ]
     },
     "execution_count": 54,
     "metadata": {},
     "output_type": "execute_result"
    }
   ],
   "source": [
    "grid_search.fit(X_train, y_train)\n",
    "grid_search.best_params_"
   ]
  },
  {
   "cell_type": "markdown",
   "metadata": {},
   "source": [
    "Evaluate the performance of the grid search"
   ]
  },
  {
   "cell_type": "code",
   "execution_count": 55,
   "metadata": {},
   "outputs": [
    {
     "name": "stdout",
     "output_type": "stream",
     "text": [
      "              precision    recall  f1-score   support\n",
      "\n",
      "           0       0.99      0.69      0.81       971\n",
      "           1       0.12      0.82      0.21        51\n",
      "\n",
      "    accuracy                           0.70      1022\n",
      "   macro avg       0.56      0.76      0.51      1022\n",
      "weighted avg       0.94      0.70      0.78      1022\n",
      "\n",
      "\n",
      "Model Performance\n",
      "Accuracy = 69.96%.\n",
      "Recall strokes only = 82.35%.\n"
     ]
    }
   ],
   "source": [
    "best_grid = grid_search.best_estimator_\n",
    "preds = best_grid.predict(X_test)\n",
    "print(classification_report(y_test,preds))\n",
    "print()\n",
    "cf = confusion_matrix(y_test,preds)\n",
    "RF_performance = performance.evaluate(test_labels = y_test, predictions = preds)"
   ]
  },
  {
   "cell_type": "code",
   "execution_count": 58,
   "metadata": {},
   "outputs": [
    {
     "name": "stdout",
     "output_type": "stream",
     "text": [
      "[[673 298]\n",
      " [  9  42]]\n"
     ]
    },
    {
     "data": {
      "image/png": "[encoded data removed]",
      "text/plain": [
       "<Figure size 432x288 with 2 Axes>"
      ]
     },
     "metadata": {
      "needs_background": "light"
     },
     "output_type": "display_data"
    }
   ],
   "source": [
    "sns.heatmap(cf, annot = True)\n",
    "print(cf)"
   ]
  },
  {
   "cell_type": "markdown",
   "metadata": {},
   "source": [
    "Change threshold to make the model more sensitive to stroke cases   "
   ]
  },
  {
   "cell_type": "code",
   "execution_count": 73,
   "metadata": {},
   "outputs": [
    {
     "name": "stdout",
     "output_type": "stream",
     "text": [
      "              precision    recall  f1-score   support\n",
      "\n",
      "           0       0.99      0.60      0.75       971\n",
      "           1       0.11      0.90      0.19        51\n",
      "\n",
      "    accuracy                           0.62      1022\n",
      "   macro avg       0.55      0.75      0.47      1022\n",
      "weighted avg       0.95      0.62      0.72      1022\n",
      "\n",
      "[[585 386]\n",
      " [  5  46]]\n"
     ]
    },
    {
     "data": {
      "image/png": "[encoded data removed]",
      "text/plain": [
       "<Figure size 432x288 with 2 Axes>"
      ]
     },
     "metadata": {
      "needs_background": "light"
     },
     "output_type": "display_data"
    }
   ],
   "source": [
    "prediction_values = best_grid.predict_proba(X_test) # also try with the \"best models\"\n",
    "\n",
    "threshold = 0.4\n",
    "predicted = (prediction_values [:,1] >= threshold).astype('int')\n",
    "\n",
    "print(classification_report(y_test, predicted))\n",
    "\n",
    "cf__new_threshhold = confusion_matrix(y_test,predicted)\n",
    "sns.heatmap(cf__new_threshhold, annot = True)\n",
    "print(cf__new_threshhold)\n"
   ]
  },
  {
   "cell_type": "markdown",
   "metadata": {},
   "source": [
    "Four more stroke patients gets correctly classified but 88 more incorecctly classified non-stroke patients. "
   ]
  },
  {
   "cell_type": "markdown",
   "metadata": {},
   "source": [
    "#### Interpretation try ANN"
   ]
  },
  {
   "cell_type": "code",
   "execution_count": 155,
   "metadata": {},
   "outputs": [
    {
     "name": "stdout",
     "output_type": "stream",
     "text": [
      "157/157 [==============================] - 0s 1ms/step\n"
     ]
    },
    {
     "name": "stderr",
     "output_type": "stream",
     "text": [
      "\n",
      "                    Prediction probabilties do not sum to 1, and\n",
      "                    thus does not constitute a probability space.\n",
      "                    Check that you classifier outputs probabilities\n",
      "                    (Not log probabilities, or actual class predictions).\n",
      "                    \n"
     ]
    }
   ],
   "source": [
    "import lime.lime_tabular\n",
    "x_np = X_train.to_numpy()\n",
    "x_np_test = X_test.to_numpy()\n",
    "# changed x to x_train\n",
    "explainer = lime.lime_tabular.LimeTabularExplainer(X_train_scaled, feature_names=list(X_train), class_names=[0, 1], mode='classification')\n",
    "# added top_labels=1\n",
    "exp = explainer.explain_instance(x_np_test[2], model.predict, num_features = 11, top_labels=1)"
   ]
  },
  {
   "cell_type": "code",
   "execution_count": 157,
   "metadata": {},
   "outputs": [
    {
     "ename": "TypeError",
     "evalue": "in user code:\n\n    File \"c:\\Users\\Bruger\\anaconda3\\envs\\datascience\\lib\\site-packages\\keras\\engine\\training.py\", line 1845, in predict_function  *\n        return step_function(self, iterator)\n    File \"c:\\Users\\Bruger\\anaconda3\\envs\\datascience\\lib\\site-packages\\keras\\engine\\training.py\", line 1833, in step_function  **\n        data = next(iterator)\n\n    TypeError: 'Tensor' object is not an iterator\n",
     "output_type": "error",
     "traceback": [
      "\u001b[1;31m---------------------------------------------------------------------------\u001b[0m",
      "\u001b[1;31mTypeError\u001b[0m                                 Traceback (most recent call last)",
      "\u001b[1;32mc:\\Users\\Bruger\\Documents\\Cognitive Science MA\\Data science\\Exam\\data_science_exam\\analysis.ipynb Cell 61'\u001b[0m in \u001b[0;36m<cell line: 2>\u001b[1;34m()\u001b[0m\n\u001b[0;32m      <a href='vscode-notebook-cell:/c%3A/Users/Bruger/Documents/Cognitive%20Science%20MA/Data%20science/Exam/data_science_exam/analysis.ipynb#ch0000113?line=0'>1</a>\u001b[0m \u001b[39m#model.predict(x_np)\u001b[39;00m\n\u001b[1;32m----> <a href='vscode-notebook-cell:/c%3A/Users/Bruger/Documents/Cognitive%20Science%20MA/Data%20science/Exam/data_science_exam/analysis.ipynb#ch0000113?line=1'>2</a>\u001b[0m model\u001b[39m.\u001b[39;49mpredict_function(x_np)\n",
      "File \u001b[1;32mc:\\Users\\Bruger\\anaconda3\\envs\\datascience\\lib\\site-packages\\tensorflow\\python\\util\\traceback_utils.py:153\u001b[0m, in \u001b[0;36mfilter_traceback.<locals>.error_handler\u001b[1;34m(*args, **kwargs)\u001b[0m\n\u001b[0;32m    <a href='file:///c%3A/Users/Bruger/anaconda3/envs/datascience/lib/site-packages/tensorflow/python/util/traceback_utils.py?line=150'>151</a>\u001b[0m \u001b[39mexcept\u001b[39;00m \u001b[39mException\u001b[39;00m \u001b[39mas\u001b[39;00m e:\n\u001b[0;32m    <a href='file:///c%3A/Users/Bruger/anaconda3/envs/datascience/lib/site-packages/tensorflow/python/util/traceback_utils.py?line=151'>152</a>\u001b[0m   filtered_tb \u001b[39m=\u001b[39m _process_traceback_frames(e\u001b[39m.\u001b[39m__traceback__)\n\u001b[1;32m--> <a href='file:///c%3A/Users/Bruger/anaconda3/envs/datascience/lib/site-packages/tensorflow/python/util/traceback_utils.py?line=152'>153</a>\u001b[0m   \u001b[39mraise\u001b[39;00m e\u001b[39m.\u001b[39mwith_traceback(filtered_tb) \u001b[39mfrom\u001b[39;00m \u001b[39mNone\u001b[39m\n\u001b[0;32m    <a href='file:///c%3A/Users/Bruger/anaconda3/envs/datascience/lib/site-packages/tensorflow/python/util/traceback_utils.py?line=153'>154</a>\u001b[0m \u001b[39mfinally\u001b[39;00m:\n\u001b[0;32m    <a href='file:///c%3A/Users/Bruger/anaconda3/envs/datascience/lib/site-packages/tensorflow/python/util/traceback_utils.py?line=154'>155</a>\u001b[0m   \u001b[39mdel\u001b[39;00m filtered_tb\n",
      "File \u001b[1;32m~\\AppData\\Local\\Temp\\__autograph_generated_fileile0gqw_.py:15\u001b[0m, in \u001b[0;36mouter_factory.<locals>.inner_factory.<locals>.tf__predict_function\u001b[1;34m(iterator)\u001b[0m\n\u001b[0;32m     <a href='file:///c%3A/Users/Bruger/AppData/Local/Temp/__autograph_generated_fileile0gqw_.py?line=12'>13</a>\u001b[0m \u001b[39mtry\u001b[39;00m:\n\u001b[0;32m     <a href='file:///c%3A/Users/Bruger/AppData/Local/Temp/__autograph_generated_fileile0gqw_.py?line=13'>14</a>\u001b[0m     do_return \u001b[39m=\u001b[39m \u001b[39mTrue\u001b[39;00m\n\u001b[1;32m---> <a href='file:///c%3A/Users/Bruger/AppData/Local/Temp/__autograph_generated_fileile0gqw_.py?line=14'>15</a>\u001b[0m     retval_ \u001b[39m=\u001b[39m ag__\u001b[39m.\u001b[39mconverted_call(ag__\u001b[39m.\u001b[39mld(step_function), (ag__\u001b[39m.\u001b[39mld(\u001b[39mself\u001b[39m), ag__\u001b[39m.\u001b[39mld(iterator)), \u001b[39mNone\u001b[39;00m, fscope)\n\u001b[0;32m     <a href='file:///c%3A/Users/Bruger/AppData/Local/Temp/__autograph_generated_fileile0gqw_.py?line=15'>16</a>\u001b[0m \u001b[39mexcept\u001b[39;00m:\n\u001b[0;32m     <a href='file:///c%3A/Users/Bruger/AppData/Local/Temp/__autograph_generated_fileile0gqw_.py?line=16'>17</a>\u001b[0m     do_return \u001b[39m=\u001b[39m \u001b[39mFalse\u001b[39;00m\n",
      "File \u001b[1;32mc:\\Users\\Bruger\\anaconda3\\envs\\datascience\\lib\\site-packages\\keras\\engine\\training.py:1833\u001b[0m, in \u001b[0;36mModel.make_predict_function.<locals>.step_function\u001b[1;34m(model, iterator)\u001b[0m\n\u001b[0;32m   <a href='file:///c%3A/Users/Bruger/anaconda3/envs/datascience/lib/site-packages/keras/engine/training.py?line=1828'>1829</a>\u001b[0m \u001b[39mif\u001b[39;00m \u001b[39mself\u001b[39m\u001b[39m.\u001b[39m_jit_compile:\n\u001b[0;32m   <a href='file:///c%3A/Users/Bruger/anaconda3/envs/datascience/lib/site-packages/keras/engine/training.py?line=1829'>1830</a>\u001b[0m   run_step \u001b[39m=\u001b[39m tf\u001b[39m.\u001b[39mfunction(\n\u001b[0;32m   <a href='file:///c%3A/Users/Bruger/anaconda3/envs/datascience/lib/site-packages/keras/engine/training.py?line=1830'>1831</a>\u001b[0m       run_step, jit_compile\u001b[39m=\u001b[39m\u001b[39mTrue\u001b[39;00m, reduce_retracing\u001b[39m=\u001b[39m\u001b[39mTrue\u001b[39;00m)\n\u001b[1;32m-> <a href='file:///c%3A/Users/Bruger/anaconda3/envs/datascience/lib/site-packages/keras/engine/training.py?line=1832'>1833</a>\u001b[0m data \u001b[39m=\u001b[39m \u001b[39mnext\u001b[39;49m(iterator)\n\u001b[0;32m   <a href='file:///c%3A/Users/Bruger/anaconda3/envs/datascience/lib/site-packages/keras/engine/training.py?line=1833'>1834</a>\u001b[0m outputs \u001b[39m=\u001b[39m model\u001b[39m.\u001b[39mdistribute_strategy\u001b[39m.\u001b[39mrun(run_step, args\u001b[39m=\u001b[39m(data,))\n\u001b[0;32m   <a href='file:///c%3A/Users/Bruger/anaconda3/envs/datascience/lib/site-packages/keras/engine/training.py?line=1834'>1835</a>\u001b[0m outputs \u001b[39m=\u001b[39m reduce_per_replica(\n\u001b[0;32m   <a href='file:///c%3A/Users/Bruger/anaconda3/envs/datascience/lib/site-packages/keras/engine/training.py?line=1835'>1836</a>\u001b[0m     outputs, \u001b[39mself\u001b[39m\u001b[39m.\u001b[39mdistribute_strategy, reduction\u001b[39m=\u001b[39m\u001b[39m'\u001b[39m\u001b[39mconcat\u001b[39m\u001b[39m'\u001b[39m)\n",
      "\u001b[1;31mTypeError\u001b[0m: in user code:\n\n    File \"c:\\Users\\Bruger\\anaconda3\\envs\\datascience\\lib\\site-packages\\keras\\engine\\training.py\", line 1845, in predict_function  *\n        return step_function(self, iterator)\n    File \"c:\\Users\\Bruger\\anaconda3\\envs\\datascience\\lib\\site-packages\\keras\\engine\\training.py\", line 1833, in step_function  **\n        data = next(iterator)\n\n    TypeError: 'Tensor' object is not an iterator\n"
     ]
    }
   ],
   "source": [
    "#model.predict(x_np)\n"
   ]
  }
 ],
 "metadata": {
  "interpreter": {
   "hash": "dbdd60645814b7938868bfb90c8a35d95b726a4da71410a39dd51595e66f716c"
  },
  "kernelspec": {
   "display_name": "Python 3.8.13 ('datascience')",
   "language": "python",
   "name": "python3"
  },
  "language_info": {
   "codemirror_mode": {
    "name": "ipython",
    "version": 3
   },
   "file_extension": ".py",
   "mimetype": "text/x-python",
   "name": "python",
   "nbconvert_exporter": "python",
   "pygments_lexer": "ipython3",
   "version": "3.8.13"
  },
  "orig_nbformat": 4
 },
 "nbformat": 4,
 "nbformat_minor": 2
}
